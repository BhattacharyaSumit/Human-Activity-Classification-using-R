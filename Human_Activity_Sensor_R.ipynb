{
  "nbformat": 4,
  "nbformat_minor": 0,
  "metadata": {
    "colab": {
      "name": "Human Activity Sensor - R.ipynb",
      "version": "0.3.2",
      "provenance": [],
      "collapsed_sections": []
    },
    "kernelspec": {
      "name": "ir",
      "display_name": "R"
    },
    "accelerator": "GPU"
  },
  "cells": [
    {
      "cell_type": "code",
      "metadata": {
        "id": "SPYGePw53fWq",
        "colab_type": "code",
        "colab": {}
      },
      "source": [
        "system(\"add-apt-repository -y ppa:marutter/rrutter\")\n",
        "system(\"add-apt-repository -y ppa:marutter/c2d4u\")\n",
        "system(\"apt-get update\")\n",
        "system(\"apt install -y r-cran-rstan\")"
      ],
      "execution_count": 0,
      "outputs": []
    },
    {
      "cell_type": "code",
      "metadata": {
        "id": "9mwLNYnRNvAM",
        "colab_type": "code",
        "colab": {}
      },
      "source": [
        "system(\"wget http://archive.ics.uci.edu/ml/machine-learning-databases/00240/UCI%20HAR%20Dataset.zip\")"
      ],
      "execution_count": 0,
      "outputs": []
    },
    {
      "cell_type": "code",
      "metadata": {
        "id": "4uWWaVg7POZh",
        "colab_type": "code",
        "colab": {}
      },
      "source": [
        "zip <- \"/content/UCI HAR Dataset.zip\"\n",
        "out <- \"/content\"\n",
        "unzip(zip, exdir=out)"
      ],
      "execution_count": 0,
      "outputs": []
    },
    {
      "cell_type": "code",
      "metadata": {
        "id": "uaLKOa_kQraG",
        "colab_type": "code",
        "outputId": "37ccaa89-5b44-493e-8f39-f83ea271bb3c",
        "colab": {
          "base_uri": "https://localhost:8080/",
          "height": 105
        }
      },
      "source": [
        "install.packages(\"randomForest\")\n",
        "install.packages(\"ggplot2\")\n",
        "install.packages(\"caret\")"
      ],
      "execution_count": 0,
      "outputs": [
        {
          "output_type": "stream",
          "text": [
            "Installing package into ‘/usr/local/lib/R/site-library’\n",
            "(as ‘lib’ is unspecified)\n",
            "also installing the dependencies ‘numDeriv’, ‘SQUAREM’, ‘lava’, ‘prodlim’, ‘iterators’, ‘data.table’, ‘gower’, ‘ipred’, ‘RcppRoll’, ‘timeDate’, ‘foreach’, ‘ModelMetrics’, ‘recipes’\n",
            "\n"
          ],
          "name": "stderr"
        }
      ]
    },
    {
      "cell_type": "code",
      "metadata": {
        "id": "9vGG4rj0RT3U",
        "colab_type": "code",
        "outputId": "81838ccc-3de7-49cf-9f1b-ba841b0ccbbc",
        "colab": {
          "base_uri": "https://localhost:8080/",
          "height": 34
        }
      },
      "source": [
        "library(randomForest)\n",
        "library(ggplot2)\n",
        "library(caret)"
      ],
      "execution_count": 0,
      "outputs": [
        {
          "output_type": "stream",
          "text": [
            "Loading required package: lattice\n"
          ],
          "name": "stderr"
        }
      ]
    },
    {
      "cell_type": "code",
      "metadata": {
        "id": "qIbhtDzdwYdB",
        "colab_type": "code",
        "colab": {}
      },
      "source": [
        "options(repr.plot.width  = 5,\n",
        "        repr.plot.height = 4)\n",
        "Sys.setenv(USE_CXX14 = 1)"
      ],
      "execution_count": 0,
      "outputs": []
    },
    {
      "cell_type": "code",
      "metadata": {
        "id": "xLlQFtlPxD5j",
        "colab_type": "code",
        "colab": {}
      },
      "source": [
        "set.seed(123)"
      ],
      "execution_count": 0,
      "outputs": []
    },
    {
      "cell_type": "code",
      "metadata": {
        "id": "3o11KxDzyC0g",
        "colab_type": "code",
        "colab": {}
      },
      "source": [
        "train_x <- read.table(\"/content/UCI HAR Dataset/train/X_train.txt\")\n",
        "train_y <-read.table(\"/content/UCI HAR Dataset/train/y_train.txt\")\n",
        "\n",
        "test_x <- read.table(\"/content/UCI HAR Dataset/test/X_test.txt\")\n",
        "test_y <- read.table(\"/content/UCI HAR Dataset/test/y_test.txt\")"
      ],
      "execution_count": 0,
      "outputs": []
    },
    {
      "cell_type": "code",
      "metadata": {
        "id": "wKcwnQzvUjaH",
        "colab_type": "code",
        "colab": {}
      },
      "source": [
        "cols <- readLines(\"/content/UCI HAR Dataset/features.txt\")"
      ],
      "execution_count": 0,
      "outputs": []
    },
    {
      "cell_type": "code",
      "metadata": {
        "id": "OrkQ670_U_JN",
        "colab_type": "code",
        "colab": {}
      },
      "source": [
        "colnames(train_x) <- make.names(cols)\n",
        "colnames(test_x) <- make.names(cols)\n",
        "\n",
        "colnames(train_y) <- \"label\"\n",
        "colnames(test_y) <- \"label\""
      ],
      "execution_count": 0,
      "outputs": []
    },
    {
      "cell_type": "code",
      "metadata": {
        "id": "SCb9F5OoV3Cw",
        "colab_type": "code",
        "colab": {}
      },
      "source": [
        "train <- cbind(train_x, train_y)\n",
        "test <- cbind(test_x , test_y)\n",
        "\n",
        "all_data <- rbind(train, test)"
      ],
      "execution_count": 0,
      "outputs": []
    },
    {
      "cell_type": "code",
      "metadata": {
        "id": "sgnXslGrWt5w",
        "colab_type": "code",
        "colab": {}
      },
      "source": [
        "all_data$label <- factor(all_data$label)"
      ],
      "execution_count": 0,
      "outputs": []
    },
    {
      "cell_type": "code",
      "metadata": {
        "id": "AHv5uIsJtsDl",
        "colab_type": "code",
        "outputId": "538d0561-1cd2-4373-941d-45109256a968",
        "colab": {
          "base_uri": "https://localhost:8080/",
          "height": 175
        }
      },
      "source": [
        "dim(train)\n",
        "dim(test) \n",
        "dim(all_data)"
      ],
      "execution_count": 0,
      "outputs": [
        {
          "output_type": "display_data",
          "data": {
            "text/plain": [
              "[1] 7352  562"
            ],
            "text/latex": "\\begin{enumerate*}\n\\item 7352\n\\item 562\n\\end{enumerate*}\n",
            "text/markdown": "1. 7352\n2. 562\n\n\n",
            "text/html": [
              "<ol class=list-inline>\n",
              "\t<li>7352</li>\n",
              "\t<li>562</li>\n",
              "</ol>\n"
            ]
          },
          "metadata": {
            "tags": []
          }
        },
        {
          "output_type": "display_data",
          "data": {
            "text/plain": [
              "[1] 2947  562"
            ],
            "text/latex": "\\begin{enumerate*}\n\\item 2947\n\\item 562\n\\end{enumerate*}\n",
            "text/markdown": "1. 2947\n2. 562\n\n\n",
            "text/html": [
              "<ol class=list-inline>\n",
              "\t<li>2947</li>\n",
              "\t<li>562</li>\n",
              "</ol>\n"
            ]
          },
          "metadata": {
            "tags": []
          }
        },
        {
          "output_type": "display_data",
          "data": {
            "text/plain": [
              "[1] 10299   562"
            ],
            "text/latex": "\\begin{enumerate*}\n\\item 10299\n\\item 562\n\\end{enumerate*}\n",
            "text/markdown": "1. 10299\n2. 562\n\n\n",
            "text/html": [
              "<ol class=list-inline>\n",
              "\t<li>10299</li>\n",
              "\t<li>562</li>\n",
              "</ol>\n"
            ]
          },
          "metadata": {
            "tags": []
          }
        }
      ]
    },
    {
      "cell_type": "code",
      "metadata": {
        "id": "A-4uPL4ydvdc",
        "colab_type": "code",
        "colab": {}
      },
      "source": [
        "subset <- sample(1:7352)\n"
      ],
      "execution_count": 0,
      "outputs": []
    },
    {
      "cell_type": "code",
      "metadata": {
        "id": "jooriqc3ghfl",
        "colab_type": "code",
        "colab": {}
      },
      "source": [
        "rfmodel <- randomForest(label~., data=all_data[subset,])"
      ],
      "execution_count": 0,
      "outputs": []
    },
    {
      "cell_type": "code",
      "metadata": {
        "id": "jWC3h7YhjS7J",
        "colab_type": "code",
        "outputId": "2f57fd91-a212-4a56-bfbc-c0e37a5e1ece",
        "colab": {
          "base_uri": "https://localhost:8080/",
          "height": 289
        }
      },
      "source": [
        "rfmodel"
      ],
      "execution_count": 0,
      "outputs": [
        {
          "output_type": "display_data",
          "data": {
            "text/plain": [
              "\n",
              "Call:\n",
              " randomForest(formula = label ~ ., data = all_data[subset, ]) \n",
              "               Type of random forest: classification\n",
              "                     Number of trees: 500\n",
              "No. of variables tried at each split: 23\n",
              "\n",
              "        OOB estimate of  error rate: 1.69%\n",
              "Confusion matrix:\n",
              "     1    2   3    4    5    6 class.error\n",
              "1 1209    6  11    0    0    0 0.013866232\n",
              "2    1 1067   5    0    0    0 0.005591799\n",
              "3    5    8 973    0    0    0 0.013184584\n",
              "4    0    1   0 1236   49    0 0.038880249\n",
              "5    0    0   0   38 1336    0 0.027656477\n",
              "6    0    0   0    0    0 1407 0.000000000"
            ]
          },
          "metadata": {
            "tags": []
          }
        }
      ]
    },
    {
      "cell_type": "code",
      "metadata": {
        "id": "Lp5O81AcnIw-",
        "colab_type": "code",
        "outputId": "c1cc772e-da25-4d5e-c9f6-b76834d46a4d",
        "colab": {
          "base_uri": "https://localhost:8080/",
          "height": 497
        }
      },
      "source": [
        "plot(rfmodel)"
      ],
      "execution_count": 0,
      "outputs": [
        {
          "output_type": "display_data",
          "data": {
            "image/png": "[encoded data removed]",
            "text/plain": [
              "Plot with title “rfmodel”"
            ]
          },
          "metadata": {
            "tags": []
          }
        }
      ]
    },
    {
      "cell_type": "markdown",
      "metadata": {
        "id": "iGEXaebcowmO",
        "colab_type": "text"
      },
      "source": [
        "This depicts that the error decreases as number of trees is increased.\n",
        "\n",
        "\n"
      ]
    },
    {
      "cell_type": "code",
      "metadata": {
        "id": "EVH0EtXco7Z4",
        "colab_type": "code",
        "colab": {}
      },
      "source": [
        "pred<-predict(rfmodel,all_data[-subset,])\n"
      ],
      "execution_count": 0,
      "outputs": []
    },
    {
      "cell_type": "code",
      "metadata": {
        "id": "KWDBRgpJqKS3",
        "colab_type": "code",
        "outputId": "1da912d3-4714-4898-cee2-df303d73e9ad",
        "colab": {
          "base_uri": "https://localhost:8080/",
          "height": 578
        }
      },
      "source": [
        "caret::confusionMatrix(pred, all_data[-subset , 562])"
      ],
      "execution_count": 0,
      "outputs": [
        {
          "output_type": "display_data",
          "data": {
            "text/plain": [
              "Confusion Matrix and Statistics\n",
              "\n",
              "          Reference\n",
              "Prediction   1   2   3   4   5   6\n",
              "         1 481  34  21   0   0   0\n",
              "         2   5 430  44   0   0   0\n",
              "         3  10   7 355   0   0   0\n",
              "         4   0   0   0 440  38   0\n",
              "         5   0   0   0  51 494   0\n",
              "         6   0   0   0   0   0 537\n",
              "\n",
              "Overall Statistics\n",
              "                                          \n",
              "               Accuracy : 0.9287          \n",
              "                 95% CI : (0.9189, 0.9378)\n",
              "    No Information Rate : 0.1822          \n",
              "    P-Value [Acc > NIR] : < 2.2e-16       \n",
              "                                          \n",
              "                  Kappa : 0.9143          \n",
              "                                          \n",
              " Mcnemar's Test P-Value : NA              \n",
              "\n",
              "Statistics by Class:\n",
              "\n",
              "                     Class: 1 Class: 2 Class: 3 Class: 4 Class: 5 Class: 6\n",
              "Sensitivity            0.9698   0.9130   0.8452   0.8961   0.9286   1.0000\n",
              "Specificity            0.9776   0.9802   0.9933   0.9845   0.9789   1.0000\n",
              "Pos Pred Value         0.8974   0.8977   0.9543   0.9205   0.9064   1.0000\n",
              "Neg Pred Value         0.9938   0.9834   0.9748   0.9793   0.9842   1.0000\n",
              "Prevalence             0.1683   0.1598   0.1425   0.1666   0.1805   0.1822\n",
              "Detection Rate         0.1632   0.1459   0.1205   0.1493   0.1676   0.1822\n",
              "Detection Prevalence   0.1819   0.1625   0.1262   0.1622   0.1849   0.1822\n",
              "Balanced Accuracy      0.9737   0.9466   0.9193   0.9403   0.9537   1.0000"
            ]
          },
          "metadata": {
            "tags": []
          }
        }
      ]
    },
    {
      "cell_type": "code",
      "metadata": {
        "id": "F7Aw8NzIzCZt",
        "colab_type": "code",
        "colab": {}
      },
      "source": [
        "subset <- sample(1:7352, 5000)"
      ],
      "execution_count": 0,
      "outputs": []
    },
    {
      "cell_type": "code",
      "metadata": {
        "id": "VxHj_62RrxeB",
        "colab_type": "code",
        "colab": {}
      },
      "source": [
        "oob.err=double(11)\n",
        "test.err=double(11)\n",
        "\n",
        "# mtry is no of Variables randomly chosen at each split\n",
        "for(mtry in 20:30) \n",
        "{\n",
        "  rf = randomForest(label~. , data = all_data[subset,] ,mtry=mtry,ntree=400, xtest=train[-subset,-562],\n",
        "                                                   ytest=factor(train[-subset , 562])) \n",
        "  oob.err[mtry] = rf$err.rate[nrow(rf$err.rate), \"OOB\"] #Error of all Trees fitted\n",
        "  test.err[mtry]= rf$test$err.rate[nrow(rf$test$err.rate), \"Test\"] \n",
        "}"
      ],
      "execution_count": 0,
      "outputs": []
    },
    {
      "cell_type": "code",
      "metadata": {
        "id": "9SffA3GpAEXu",
        "colab_type": "code",
        "colab": {}
      },
      "source": [
        "library(ggplot2)\n"
      ],
      "execution_count": 0,
      "outputs": []
    },
    {
      "cell_type": "code",
      "metadata": {
        "id": "zy6XY7NKBf2o",
        "colab_type": "code",
        "colab": {}
      },
      "source": [
        "convert_to_dataframe <- function(err_vec)\n",
        "{\n",
        "   data <- as.data.frame(err_vec[20:30])\n",
        "   colnames(data) <- \"error\"\n",
        "   seqn <- as.data.frame(20:30)\n",
        "   colnames(seqn) <- \"mtry\"\n",
        "   dataframe <- cbind(data, seqn)\n",
        "   return (dataframe)\n",
        "   \n",
        " }\n"
      ],
      "execution_count": 0,
      "outputs": []
    },
    {
      "cell_type": "code",
      "metadata": {
        "id": "FxPyHAWWCwHB",
        "colab_type": "code",
        "colab": {}
      },
      "source": [
        "oob_data <- convert_to_dataframe(oob.err)\n",
        "test_data <- convert_to_dataframe(test.err)"
      ],
      "execution_count": 0,
      "outputs": []
    },
    {
      "cell_type": "code",
      "metadata": {
        "id": "oRTeEMRNFVr3",
        "colab_type": "code",
        "colab": {}
      },
      "source": [
        "oob_data$type <- \"OOB\"\n",
        "test_data$type <- \"Test\""
      ],
      "execution_count": 0,
      "outputs": []
    },
    {
      "cell_type": "code",
      "metadata": {
        "id": "oKxo_bTuFcID",
        "colab_type": "code",
        "colab": {}
      },
      "source": [
        "data <- rbind(oob_data, test_data)"
      ],
      "execution_count": 0,
      "outputs": []
    },
    {
      "cell_type": "code",
      "metadata": {
        "id": "2XWtlf-VDKOP",
        "colab_type": "code",
        "outputId": "57fd91bc-80c0-4fab-8b61-60321a8e597c",
        "colab": {
          "base_uri": "https://localhost:8080/",
          "height": 497
        }
      },
      "source": [
        "ggplot(data, aes(mtry, error)) + geom_line(aes(color=type))"
      ],
      "execution_count": 0,
      "outputs": [
        {
          "output_type": "display_data",
          "data": {
            "image/png": "[encoded data removed]",
            "text/plain": [
              "plot without title"
            ]
          },
          "metadata": {
            "tags": []
          }
        }
      ]
    },
    {
      "cell_type": "markdown",
      "metadata": {
        "id": "0bKHwfY9EqqK",
        "colab_type": "text"
      },
      "source": [
        "From above 2 graphs, mtry = 26 seems to a suitable value to me and instead of ntree=400, I shall take ntree = 500"
      ]
    },
    {
      "cell_type": "code",
      "metadata": {
        "id": "SroO7XthE3CH",
        "colab_type": "code",
        "outputId": "f79212e5-ffa6-4584-fbb2-fd4c4f85c1fa",
        "colab": {
          "base_uri": "https://localhost:8080/",
          "height": 289
        }
      },
      "source": [
        "require(dplyr)"
      ],
      "execution_count": 0,
      "outputs": [
        {
          "output_type": "stream",
          "text": [
            "Loading required package: dplyr\n",
            "\n",
            "Attaching package: ‘dplyr’\n",
            "\n",
            "The following object is masked from ‘package:randomForest’:\n",
            "\n",
            "    combine\n",
            "\n",
            "The following objects are masked from ‘package:stats’:\n",
            "\n",
            "    filter, lag\n",
            "\n",
            "The following objects are masked from ‘package:base’:\n",
            "\n",
            "    intersect, setdiff, setequal, union\n",
            "\n"
          ],
          "name": "stderr"
        }
      ]
    },
    {
      "cell_type": "code",
      "metadata": {
        "id": "yfpJuT4oFRv0",
        "colab_type": "code",
        "outputId": "d74317e5-d029-4053-89ec-d235c3b4ae93",
        "colab": {
          "base_uri": "https://localhost:8080/",
          "height": 497
        }
      },
      "source": [
        "ggplot(data = train_y %>% group_by(label) %>% summarize(n=n()), aes(label, n)) + geom_line()"
      ],
      "execution_count": 0,
      "outputs": [
        {
          "output_type": "display_data",
          "data": {
            "image/png": "[encoded data removed]",
            "text/plain": [
              "plot without title"
            ]
          },
          "metadata": {
            "tags": []
          }
        }
      ]
    },
    {
      "cell_type": "markdown",
      "metadata": {
        "id": "TXVVweauGj6t",
        "colab_type": "text"
      },
      "source": [
        "This summary does not advocate the presence of largely significant class-imbalance. So, for the time being , I will not be bothered about presence of class-imbalance."
      ]
    },
    {
      "cell_type": "code",
      "metadata": {
        "id": "dmBi6eykGhJN",
        "colab_type": "code",
        "colab": {}
      },
      "source": [
        "dst <- dist(train_x)"
      ],
      "execution_count": 0,
      "outputs": []
    },
    {
      "cell_type": "code",
      "metadata": {
        "id": "dFNXemerNM19",
        "colab_type": "code",
        "colab": {}
      },
      "source": [
        "dend_com <- hclust(dst, method=\"complete\")\n",
        "dend_avg <- hclust(dst, method=\"average\")\n",
        "dend_sing <- hclust(dst, method=\"single\")\n",
        "dend_war <- hclust(dst, method=\"ward.D\")"
      ],
      "execution_count": 0,
      "outputs": []
    },
    {
      "cell_type": "code",
      "metadata": {
        "id": "wXS8KqncNiOH",
        "colab_type": "code",
        "colab": {}
      },
      "source": [
        "c_com=cophenetic(dend_com)\n",
        "c_avg=cophenetic(dend_avg)\n",
        "c_sing=cophenetic(dend_sing)\n",
        "c_war=cophenetic(dend_war)\n"
      ],
      "execution_count": 0,
      "outputs": []
    },
    {
      "cell_type": "code",
      "metadata": {
        "id": "kkGHh6MlPGZk",
        "colab_type": "code",
        "outputId": "07f5b62a-3ddc-45b4-c995-ec931bb04992",
        "colab": {
          "base_uri": "https://localhost:8080/",
          "height": 153
        }
      },
      "source": [
        "print(\"Complete\")\n",
        "print(cor(dst, c_com))\n",
        "print(\"Average\")\n",
        "print(cor(dst, c_avg))\n",
        "print(\"Single\")\n",
        "print(cor(dst, c_sing))\n",
        "print(\"War\")\n",
        "print(cor(dst, c_war))"
      ],
      "execution_count": 0,
      "outputs": [
        {
          "output_type": "stream",
          "text": [
            "[1] \"Complete\"\n",
            "[1] 0.7082044\n",
            "[1] \"Average\"\n",
            "[1] 0.8829588\n",
            "[1] \"Single\"\n",
            "[1] 0.7620606\n",
            "[1] \"War\"\n",
            "[1] 0.8444204\n"
          ],
          "name": "stdout"
        }
      ]
    },
    {
      "cell_type": "markdown",
      "metadata": {
        "id": "FN4l5GxfPwDY",
        "colab_type": "text"
      },
      "source": [
        "The Correlation for the Average method is highest and Ward is not far behind. I am choosing Ward method."
      ]
    },
    {
      "cell_type": "code",
      "metadata": {
        "id": "RsuNxJ19Pvhy",
        "colab_type": "code",
        "colab": {}
      },
      "source": [
        "clusters <- cutree(dend_war, k=6)"
      ],
      "execution_count": 0,
      "outputs": []
    },
    {
      "cell_type": "code",
      "metadata": {
        "id": "BZeYACECNqso",
        "colab_type": "code",
        "outputId": "6cdc6caa-75cd-4904-bb0b-65640635b06c",
        "colab": {
          "base_uri": "https://localhost:8080/",
          "height": 204
        }
      },
      "source": [
        "d <- as.data.frame(clusters)\n",
        "colnames(d) <- \"clusters_hc\"\n",
        "\n",
        "d %>% group_by(clusters_hc) %>% summarize(n = n())"
      ],
      "execution_count": 0,
      "outputs": [
        {
          "output_type": "display_data",
          "data": {
            "text/plain": [
              "  clusters_hc n   \n",
              "1 1           1557\n",
              "2 2           1232\n",
              "3 3           1278\n",
              "4 4           1666\n",
              "5 5            468\n",
              "6 6           1151"
            ],
            "text/latex": "A tibble: 6 × 2\n\\begin{tabular}{r|ll}\n clusters\\_hc & n\\\\\n <int> & <int>\\\\\n\\hline\n\t 1 & 1557\\\\\n\t 2 & 1232\\\\\n\t 3 & 1278\\\\\n\t 4 & 1666\\\\\n\t 5 &  468\\\\\n\t 6 & 1151\\\\\n\\end{tabular}\n",
            "text/markdown": "\nA tibble: 6 × 2\n\n| clusters_hc &lt;int&gt; | n &lt;int&gt; |\n|---|---|\n| 1 | 1557 |\n| 2 | 1232 |\n| 3 | 1278 |\n| 4 | 1666 |\n| 5 |  468 |\n| 6 | 1151 |\n\n",
            "text/html": [
              "<table>\n",
              "<caption>A tibble: 6 × 2</caption>\n",
              "<thead>\n",
              "\t<tr><th scope=col>clusters_hc</th><th scope=col>n</th></tr>\n",
              "\t<tr><th scope=col>&lt;int&gt;</th><th scope=col>&lt;int&gt;</th></tr>\n",
              "</thead>\n",
              "<tbody>\n",
              "\t<tr><td>1</td><td>1557</td></tr>\n",
              "\t<tr><td>2</td><td>1232</td></tr>\n",
              "\t<tr><td>3</td><td>1278</td></tr>\n",
              "\t<tr><td>4</td><td>1666</td></tr>\n",
              "\t<tr><td>5</td><td> 468</td></tr>\n",
              "\t<tr><td>6</td><td>1151</td></tr>\n",
              "</tbody>\n",
              "</table>\n"
            ]
          },
          "metadata": {
            "tags": []
          }
        }
      ]
    },
    {
      "cell_type": "code",
      "metadata": {
        "id": "uWBtOjVVRYdu",
        "colab_type": "code",
        "colab": {}
      },
      "source": [
        "a <- kmeans(train_x, centers=6)"
      ],
      "execution_count": 0,
      "outputs": []
    },
    {
      "cell_type": "code",
      "metadata": {
        "id": "JtChQgipRliF",
        "colab_type": "code",
        "outputId": "b132455d-7f2f-4697-d5f9-1a7646a677ac",
        "colab": {
          "base_uri": "https://localhost:8080/",
          "height": 204
        }
      },
      "source": [
        "d2 <- as.data.frame(a$cluster)\n",
        "colnames(d2) <- \"clusters_k\"\n",
        "\n",
        "d2 %>% group_by(clusters_k) %>% summarize(n = n())"
      ],
      "execution_count": 0,
      "outputs": [
        {
          "output_type": "display_data",
          "data": {
            "text/plain": [
              "  clusters_k n   \n",
              "1 1           805\n",
              "2 2          1265\n",
              "3 3           999\n",
              "4 4          1604\n",
              "5 5           648\n",
              "6 6          2031"
            ],
            "text/latex": "A tibble: 6 × 2\n\\begin{tabular}{r|ll}\n clusters\\_k & n\\\\\n <int> & <int>\\\\\n\\hline\n\t 1 &  805\\\\\n\t 2 & 1265\\\\\n\t 3 &  999\\\\\n\t 4 & 1604\\\\\n\t 5 &  648\\\\\n\t 6 & 2031\\\\\n\\end{tabular}\n",
            "text/markdown": "\nA tibble: 6 × 2\n\n| clusters_k &lt;int&gt; | n &lt;int&gt; |\n|---|---|\n| 1 |  805 |\n| 2 | 1265 |\n| 3 |  999 |\n| 4 | 1604 |\n| 5 |  648 |\n| 6 | 2031 |\n\n",
            "text/html": [
              "<table>\n",
              "<caption>A tibble: 6 × 2</caption>\n",
              "<thead>\n",
              "\t<tr><th scope=col>clusters_k</th><th scope=col>n</th></tr>\n",
              "\t<tr><th scope=col>&lt;int&gt;</th><th scope=col>&lt;int&gt;</th></tr>\n",
              "</thead>\n",
              "<tbody>\n",
              "\t<tr><td>1</td><td> 805</td></tr>\n",
              "\t<tr><td>2</td><td>1265</td></tr>\n",
              "\t<tr><td>3</td><td> 999</td></tr>\n",
              "\t<tr><td>4</td><td>1604</td></tr>\n",
              "\t<tr><td>5</td><td> 648</td></tr>\n",
              "\t<tr><td>6</td><td>2031</td></tr>\n",
              "</tbody>\n",
              "</table>\n"
            ]
          },
          "metadata": {
            "tags": []
          }
        }
      ]
    },
    {
      "cell_type": "markdown",
      "metadata": {
        "id": "nDRvckV6Srt3",
        "colab_type": "text"
      },
      "source": [
        "Let's see if the clustered values lead us to some improvement over the previous results or not."
      ]
    },
    {
      "cell_type": "code",
      "metadata": {
        "id": "CCQHOXvZR-zz",
        "colab_type": "code",
        "colab": {}
      },
      "source": [
        "d <- scale(d)\n",
        "d2 <- scale(d2)"
      ],
      "execution_count": 0,
      "outputs": []
    },
    {
      "cell_type": "code",
      "metadata": {
        "id": "dIs0Z-UOTBPY",
        "colab_type": "code",
        "colab": {}
      },
      "source": [
        "dst_test <- dist(test_x)"
      ],
      "execution_count": 0,
      "outputs": []
    },
    {
      "cell_type": "code",
      "metadata": {
        "id": "ehI0wPY4TVBk",
        "colab_type": "code",
        "colab": {}
      },
      "source": [
        "dendtest_war <- hclust(dst_test, method=\"ward.D\")\n",
        "cluster_test <- cutree(dendtest_war, k=6)"
      ],
      "execution_count": 0,
      "outputs": []
    },
    {
      "cell_type": "code",
      "metadata": {
        "id": "txukMk-4Tpo2",
        "colab_type": "code",
        "colab": {}
      },
      "source": [
        "d_test <- as.data.frame(cluster_test)\n",
        "colnames(d_test) <- \"clusters_hc\"\n",
        "d_test <- scale(d_test)"
      ],
      "execution_count": 0,
      "outputs": []
    },
    {
      "cell_type": "code",
      "metadata": {
        "id": "HgUuHbdSUMad",
        "colab_type": "code",
        "colab": {}
      },
      "source": [
        "a_test <- kmeans(test_x, centers=6)"
      ],
      "execution_count": 0,
      "outputs": []
    },
    {
      "cell_type": "code",
      "metadata": {
        "id": "dhh0fijqUVPB",
        "colab_type": "code",
        "colab": {}
      },
      "source": [
        "d2_test <- as.data.frame(a_test$cluster)\n",
        "colnames(d2_test) <- \"clusters_k\"\n",
        "d2_test <- scale(d2_test)"
      ],
      "execution_count": 0,
      "outputs": []
    },
    {
      "cell_type": "code",
      "metadata": {
        "id": "iaSbTQ1UUkWD",
        "colab_type": "code",
        "colab": {}
      },
      "source": [
        "train_x <- cbind(train_x, d, d2)\n",
        "test_x <- cbind(test_x, d_test, d2_test)"
      ],
      "execution_count": 0,
      "outputs": []
    },
    {
      "cell_type": "code",
      "metadata": {
        "id": "DqD0-U3oU3DX",
        "colab_type": "code",
        "colab": {}
      },
      "source": [
        "train_f <- cbind(train_x, train_y)\n",
        "test_f <- cbind(test_x , test_y)"
      ],
      "execution_count": 0,
      "outputs": []
    },
    {
      "cell_type": "code",
      "metadata": {
        "id": "iohQhkSwVGur",
        "colab_type": "code",
        "colab": {}
      },
      "source": [
        "train_f$label <- factor(train_f$label)\n",
        "test_f$label <- factor(test_f$label)"
      ],
      "execution_count": 0,
      "outputs": []
    },
    {
      "cell_type": "code",
      "metadata": {
        "id": "6BwROZivV00l",
        "colab_type": "code",
        "colab": {}
      },
      "source": [
        "model <- randomForest(label~. , data = train_f, mtry = 26, ntree=500)"
      ],
      "execution_count": 0,
      "outputs": []
    },
    {
      "cell_type": "code",
      "metadata": {
        "id": "8zw4Ud9nXK5e",
        "colab_type": "code",
        "outputId": "c5f77800-6d09-4546-f01f-8fb5c5d09343",
        "colab": {
          "base_uri": "https://localhost:8080/",
          "height": 289
        }
      },
      "source": [
        "model"
      ],
      "execution_count": 0,
      "outputs": [
        {
          "output_type": "display_data",
          "data": {
            "text/plain": [
              "\n",
              "Call:\n",
              " randomForest(formula = label ~ ., data = train_f, mtry = 26,      ntree = 500) \n",
              "               Type of random forest: classification\n",
              "                     Number of trees: 500\n",
              "No. of variables tried at each split: 26\n",
              "\n",
              "        OOB estimate of  error rate: 1.74%\n",
              "Confusion matrix:\n",
              "     1    2   3    4    5    6 class.error\n",
              "1 1210    6  10    0    0    0 0.013050571\n",
              "2    0 1067   6    0    0    0 0.005591799\n",
              "3    4    9 973    0    0    0 0.013184584\n",
              "4    0    1   0 1233   52    0 0.041213064\n",
              "5    0    0   0   40 1334    0 0.029112082\n",
              "6    0    0   0    0    0 1407 0.000000000"
            ]
          },
          "metadata": {
            "tags": []
          }
        }
      ]
    },
    {
      "cell_type": "code",
      "metadata": {
        "id": "CUOHlFIOXVw3",
        "colab_type": "code",
        "colab": {}
      },
      "source": [
        "prediction <- predict(model, test_f)"
      ],
      "execution_count": 0,
      "outputs": []
    },
    {
      "cell_type": "code",
      "metadata": {
        "id": "uZXWlpP1YLzH",
        "colab_type": "code",
        "outputId": "62914839-84d5-4d6d-9f6d-cf97cc8af80c",
        "colab": {
          "base_uri": "https://localhost:8080/",
          "height": 51
        }
      },
      "source": [
        "install.packages(\"e1071\")"
      ],
      "execution_count": 0,
      "outputs": [
        {
          "output_type": "stream",
          "text": [
            "Installing package into ‘/usr/local/lib/R/site-library’\n",
            "(as ‘lib’ is unspecified)\n"
          ],
          "name": "stderr"
        }
      ]
    },
    {
      "cell_type": "code",
      "metadata": {
        "id": "V4YbJtDpYQZo",
        "colab_type": "code",
        "outputId": "7d13a9c0-8c23-4f27-80e4-72a612041bc1",
        "colab": {
          "base_uri": "https://localhost:8080/",
          "height": 34
        }
      },
      "source": [
        "require(e1071)"
      ],
      "execution_count": 0,
      "outputs": [
        {
          "output_type": "stream",
          "text": [
            "Loading required package: e1071\n"
          ],
          "name": "stderr"
        }
      ]
    },
    {
      "cell_type": "code",
      "metadata": {
        "id": "VY6QADvVX8qD",
        "colab_type": "code",
        "outputId": "06f256df-5042-48ce-eaca-64681d89f224",
        "colab": {
          "base_uri": "https://localhost:8080/",
          "height": 578
        }
      },
      "source": [
        "caret::confusionMatrix(prediction , test_f[, 564])"
      ],
      "execution_count": 0,
      "outputs": [
        {
          "output_type": "display_data",
          "data": {
            "text/plain": [
              "Confusion Matrix and Statistics\n",
              "\n",
              "          Reference\n",
              "Prediction   1   2   3   4   5   6\n",
              "         1 480  33  17   0   0   0\n",
              "         2   6 432  46   0   0   0\n",
              "         3  10   6 357   0   0   0\n",
              "         4   0   0   0 438  52   0\n",
              "         5   0   0   0  53 480   0\n",
              "         6   0   0   0   0   0 537\n",
              "\n",
              "Overall Statistics\n",
              "                                          \n",
              "               Accuracy : 0.9243          \n",
              "                 95% CI : (0.9142, 0.9336)\n",
              "    No Information Rate : 0.1822          \n",
              "    P-Value [Acc > NIR] : < 2.2e-16       \n",
              "                                          \n",
              "                  Kappa : 0.909           \n",
              "                                          \n",
              " Mcnemar's Test P-Value : NA              \n",
              "\n",
              "Statistics by Class:\n",
              "\n",
              "                     Class: 1 Class: 2 Class: 3 Class: 4 Class: 5 Class: 6\n",
              "Sensitivity            0.9677   0.9172   0.8500   0.8921   0.9023   1.0000\n",
              "Specificity            0.9796   0.9790   0.9937   0.9788   0.9781   1.0000\n",
              "Pos Pred Value         0.9057   0.8926   0.9571   0.8939   0.9006   1.0000\n",
              "Neg Pred Value         0.9934   0.9842   0.9755   0.9784   0.9785   1.0000\n",
              "Prevalence             0.1683   0.1598   0.1425   0.1666   0.1805   0.1822\n",
              "Detection Rate         0.1629   0.1466   0.1211   0.1486   0.1629   0.1822\n",
              "Detection Prevalence   0.1798   0.1642   0.1266   0.1663   0.1809   0.1822\n",
              "Balanced Accuracy      0.9737   0.9481   0.9218   0.9354   0.9402   1.0000"
            ]
          },
          "metadata": {
            "tags": []
          }
        }
      ]
    },
    {
      "cell_type": "markdown",
      "metadata": {
        "id": "nUVCu8qhYhQA",
        "colab_type": "text"
      },
      "source": [
        "Accuracy has improved a bit"
      ]
    },
    {
      "cell_type": "code",
      "metadata": {
        "id": "6Bb_HPGGcYDh",
        "colab_type": "code",
        "colab": {}
      },
      "source": [
        "all_d <- rbind(train_x , test_x)"
      ],
      "execution_count": 0,
      "outputs": []
    },
    {
      "cell_type": "code",
      "metadata": {
        "id": "hvc4lxalXuhe",
        "colab_type": "code",
        "colab": {}
      },
      "source": [
        "mod_pca <- prcomp(all_d, center=F, scale=F)"
      ],
      "execution_count": 0,
      "outputs": []
    },
    {
      "cell_type": "code",
      "metadata": {
        "id": "fovyEN_ebugl",
        "colab_type": "code",
        "colab": {}
      },
      "source": [
        "mod <- mod_pca$sdev^2"
      ],
      "execution_count": 0,
      "outputs": []
    },
    {
      "cell_type": "code",
      "metadata": {
        "id": "JRpm0l8Qb1or",
        "colab_type": "code",
        "outputId": "8c1093aa-ec0a-402f-82df-6d58306664d4",
        "colab": {
          "base_uri": "https://localhost:8080/",
          "height": 497
        }
      },
      "source": [
        "pv <- mod / sum(mod)\n",
        "plot(cumsum(pv))"
      ],
      "execution_count": 0,
      "outputs": [
        {
          "output_type": "display_data",
          "data": {
            "image/png": "[encoded data removed]",
            "text/plain": [
              "plot without title"
            ]
          },
          "metadata": {
            "tags": []
          }
        }
      ]
    },
    {
      "cell_type": "code",
      "metadata": {
        "id": "lntapQvGcHpr",
        "colab_type": "code",
        "outputId": "cc31c365-77f2-42ef-b34b-3d3caf50fb63",
        "colab": {
          "base_uri": "https://localhost:8080/",
          "height": 6018
        }
      },
      "source": [
        "summary(mod_pca)"
      ],
      "execution_count": 0,
      "outputs": [
        {
          "output_type": "display_data",
          "data": {
            "text/plain": [
              "Importance of components:\n",
              "                           PC1     PC2    PC3    PC4     PC5     PC6     PC7\n",
              "Standard deviation     16.1876 4.60965 1.5213 1.5009 1.00635 0.94452 0.90169\n",
              "Proportion of Variance  0.8609 0.06981 0.0076 0.0074 0.00333 0.00293 0.00267\n",
              "Cumulative Proportion   0.8609 0.93075 0.9384 0.9457 0.94908 0.95201 0.95468\n",
              "                           PC8     PC9    PC10    PC11    PC12    PC13    PC14\n",
              "Standard deviation     0.79562 0.77249 0.73863 0.71723 0.70272 0.66444 0.60866\n",
              "Proportion of Variance 0.00208 0.00196 0.00179 0.00169 0.00162 0.00145 0.00122\n",
              "Cumulative Proportion  0.95676 0.95872 0.96051 0.96220 0.96383 0.96528 0.96649\n",
              "                          PC15    PC16    PC17   PC18    PC19   PC20    PC21\n",
              "Standard deviation     0.58438 0.56658 0.52897 0.5232 0.50100 0.4927 0.48529\n",
              "Proportion of Variance 0.00112 0.00105 0.00092 0.0009 0.00082 0.0008 0.00077\n",
              "Cumulative Proportion  0.96762 0.96867 0.96959 0.9705 0.97131 0.9721 0.97289\n",
              "                          PC22    PC23    PC24    PC25    PC26    PC27    PC28\n",
              "Standard deviation     0.47425 0.47262 0.45890 0.45016 0.43638 0.43088 0.42197\n",
              "Proportion of Variance 0.00074 0.00073 0.00069 0.00067 0.00063 0.00061 0.00059\n",
              "Cumulative Proportion  0.97362 0.97436 0.97505 0.97572 0.97634 0.97695 0.97754\n",
              "                          PC29    PC30    PC31    PC32   PC33   PC34    PC35\n",
              "Standard deviation     0.41418 0.40527 0.40015 0.39920 0.3916 0.3884 0.38105\n",
              "Proportion of Variance 0.00056 0.00054 0.00053 0.00052 0.0005 0.0005 0.00048\n",
              "Cumulative Proportion  0.97810 0.97864 0.97917 0.97969 0.9802 0.9807 0.98117\n",
              "                          PC36    PC37    PC38   PC39    PC40    PC41    PC42\n",
              "Standard deviation     0.37023 0.36386 0.35493 0.3488 0.34668 0.34034 0.33681\n",
              "Proportion of Variance 0.00045 0.00043 0.00041 0.0004 0.00039 0.00038 0.00037\n",
              "Cumulative Proportion  0.98162 0.98205 0.98247 0.9829 0.98326 0.98364 0.98401\n",
              "                          PC43    PC44    PC45    PC46    PC47    PC48   PC49\n",
              "Standard deviation     0.33242 0.32513 0.32287 0.31697 0.31179 0.30524 0.3031\n",
              "Proportion of Variance 0.00036 0.00035 0.00034 0.00033 0.00032 0.00031 0.0003\n",
              "Cumulative Proportion  0.98438 0.98472 0.98507 0.98540 0.98572 0.98602 0.9863\n",
              "                          PC50    PC51    PC52    PC53    PC54    PC55    PC56\n",
              "Standard deviation     0.29776 0.29129 0.29126 0.28845 0.27938 0.27417 0.27014\n",
              "Proportion of Variance 0.00029 0.00028 0.00028 0.00027 0.00026 0.00025 0.00024\n",
              "Cumulative Proportion  0.98661 0.98689 0.98717 0.98745 0.98770 0.98795 0.98819\n",
              "                          PC57    PC58    PC59    PC60    PC61   PC62   PC63\n",
              "Standard deviation     0.26615 0.26044 0.25779 0.25553 0.25448 0.2494 0.2480\n",
              "Proportion of Variance 0.00023 0.00022 0.00022 0.00021 0.00021 0.0002 0.0002\n",
              "Cumulative Proportion  0.98842 0.98864 0.98886 0.98908 0.98929 0.9895 0.9897\n",
              "                         PC64    PC65    PC66    PC67    PC68    PC69    PC70\n",
              "Standard deviation     0.2452 0.24123 0.24101 0.23600 0.23353 0.23240 0.22816\n",
              "Proportion of Variance 0.0002 0.00019 0.00019 0.00018 0.00018 0.00018 0.00017\n",
              "Cumulative Proportion  0.9899 0.99008 0.99028 0.99046 0.99064 0.99082 0.99099\n",
              "                          PC71    PC72    PC73    PC74    PC75    PC76    PC77\n",
              "Standard deviation     0.22476 0.22237 0.22054 0.21857 0.21711 0.21236 0.21177\n",
              "Proportion of Variance 0.00017 0.00016 0.00016 0.00016 0.00015 0.00015 0.00015\n",
              "Cumulative Proportion  0.99115 0.99131 0.99147 0.99163 0.99179 0.99193 0.99208\n",
              "                          PC78    PC79    PC80    PC81    PC82    PC83    PC84\n",
              "Standard deviation     0.21122 0.20982 0.20583 0.20435 0.20050 0.19898 0.19706\n",
              "Proportion of Variance 0.00015 0.00014 0.00014 0.00014 0.00013 0.00013 0.00013\n",
              "Cumulative Proportion  0.99223 0.99237 0.99251 0.99265 0.99278 0.99291 0.99304\n",
              "                          PC85    PC86    PC87    PC88    PC89    PC90    PC91\n",
              "Standard deviation     0.19507 0.19371 0.19132 0.19083 0.19003 0.18677 0.18637\n",
              "Proportion of Variance 0.00013 0.00012 0.00012 0.00012 0.00012 0.00011 0.00011\n",
              "Cumulative Proportion  0.99316 0.99329 0.99341 0.99353 0.99365 0.99376 0.99387\n",
              "                          PC92    PC93    PC94    PC95   PC96   PC97   PC98\n",
              "Standard deviation     0.18589 0.18265 0.18183 0.18073 0.1776 0.1756 0.1736\n",
              "Proportion of Variance 0.00011 0.00011 0.00011 0.00011 0.0001 0.0001 0.0001\n",
              "Cumulative Proportion  0.99399 0.99410 0.99421 0.99431 0.9944 0.9945 0.9946\n",
              "                         PC99  PC100   PC101   PC102   PC103   PC104   PC105\n",
              "Standard deviation     0.1731 0.1719 0.17001 0.16810 0.16735 0.16635 0.16409\n",
              "Proportion of Variance 0.0001 0.0001 0.00009 0.00009 0.00009 0.00009 0.00009\n",
              "Cumulative Proportion  0.9947 0.9948 0.99491 0.99500 0.99509 0.99518 0.99527\n",
              "                         PC106   PC107   PC108   PC109   PC110   PC111   PC112\n",
              "Standard deviation     0.16379 0.16213 0.16000 0.15938 0.15847 0.15760 0.15677\n",
              "Proportion of Variance 0.00009 0.00009 0.00008 0.00008 0.00008 0.00008 0.00008\n",
              "Cumulative Proportion  0.99536 0.99545 0.99553 0.99561 0.99570 0.99578 0.99586\n",
              "                         PC113   PC114   PC115   PC116   PC117   PC118   PC119\n",
              "Standard deviation     0.15403 0.15247 0.14962 0.14720 0.14621 0.14523 0.14490\n",
              "Proportion of Variance 0.00008 0.00008 0.00007 0.00007 0.00007 0.00007 0.00007\n",
              "Cumulative Proportion  0.99594 0.99601 0.99609 0.99616 0.99623 0.99630 0.99637\n",
              "                         PC120   PC121   PC122   PC123   PC124   PC125   PC126\n",
              "Standard deviation     0.14169 0.14080 0.13844 0.13764 0.13608 0.13398 0.13327\n",
              "Proportion of Variance 0.00007 0.00007 0.00006 0.00006 0.00006 0.00006 0.00006\n",
              "Cumulative Proportion  0.99643 0.99650 0.99656 0.99662 0.99668 0.99674 0.99680\n",
              "                         PC127   PC128   PC129   PC130   PC131   PC132   PC133\n",
              "Standard deviation     0.13275 0.13217 0.13054 0.12924 0.12885 0.12638 0.12459\n",
              "Proportion of Variance 0.00006 0.00006 0.00006 0.00005 0.00005 0.00005 0.00005\n",
              "Cumulative Proportion  0.99686 0.99692 0.99697 0.99703 0.99708 0.99713 0.99719\n",
              "                         PC134   PC135   PC136   PC137   PC138   PC139   PC140\n",
              "Standard deviation     0.12223 0.12204 0.12006 0.11947 0.11912 0.11703 0.11615\n",
              "Proportion of Variance 0.00005 0.00005 0.00005 0.00005 0.00005 0.00005 0.00004\n",
              "Cumulative Proportion  0.99724 0.99728 0.99733 0.99738 0.99742 0.99747 0.99751\n",
              "                         PC141   PC142   PC143   PC144   PC145   PC146   PC147\n",
              "Standard deviation     0.11566 0.11396 0.11272 0.11199 0.11113 0.10972 0.10898\n",
              "Proportion of Variance 0.00004 0.00004 0.00004 0.00004 0.00004 0.00004 0.00004\n",
              "Cumulative Proportion  0.99756 0.99760 0.99764 0.99768 0.99772 0.99776 0.99780\n",
              "                         PC148   PC149   PC150   PC151   PC152   PC153   PC154\n",
              "Standard deviation     0.10859 0.10768 0.10719 0.10616 0.10486 0.10372 0.10134\n",
              "Proportion of Variance 0.00004 0.00004 0.00004 0.00004 0.00004 0.00004 0.00003\n",
              "Cumulative Proportion  0.99784 0.99788 0.99792 0.99795 0.99799 0.99803 0.99806\n",
              "                         PC155   PC156   PC157   PC158   PC159   PC160   PC161\n",
              "Standard deviation     0.10090 0.09953 0.09889 0.09743 0.09586 0.09531 0.09410\n",
              "Proportion of Variance 0.00003 0.00003 0.00003 0.00003 0.00003 0.00003 0.00003\n",
              "Cumulative Proportion  0.99809 0.99813 0.99816 0.99819 0.99822 0.99825 0.99828\n",
              "                         PC162   PC163   PC164   PC165   PC166   PC167   PC168\n",
              "Standard deviation     0.09379 0.09275 0.09224 0.09154 0.09081 0.09000 0.08908\n",
              "Proportion of Variance 0.00003 0.00003 0.00003 0.00003 0.00003 0.00003 0.00003\n",
              "Cumulative Proportion  0.99831 0.99834 0.99836 0.99839 0.99842 0.99844 0.99847\n",
              "                         PC169   PC170   PC171   PC172   PC173   PC174   PC175\n",
              "Standard deviation     0.08810 0.08663 0.08613 0.08580 0.08493 0.08451 0.08384\n",
              "Proportion of Variance 0.00003 0.00002 0.00002 0.00002 0.00002 0.00002 0.00002\n",
              "Cumulative Proportion  0.99850 0.99852 0.99855 0.99857 0.99859 0.99862 0.99864\n",
              "                         PC176   PC177   PC178   PC179   PC180   PC181   PC182\n",
              "Standard deviation     0.08264 0.08235 0.08133 0.08028 0.08013 0.07948 0.07898\n",
              "Proportion of Variance 0.00002 0.00002 0.00002 0.00002 0.00002 0.00002 0.00002\n",
              "Cumulative Proportion  0.99866 0.99868 0.99871 0.99873 0.99875 0.99877 0.99879\n",
              "                         PC183   PC184   PC185   PC186   PC187   PC188   PC189\n",
              "Standard deviation     0.07757 0.07735 0.07666 0.07614 0.07489 0.07435 0.07376\n",
              "Proportion of Variance 0.00002 0.00002 0.00002 0.00002 0.00002 0.00002 0.00002\n",
              "Cumulative Proportion  0.99881 0.99883 0.99885 0.99887 0.99889 0.99890 0.99892\n",
              "                         PC190   PC191   PC192   PC193   PC194   PC195   PC196\n",
              "Standard deviation     0.07326 0.07238 0.07183 0.07159 0.07109 0.07069 0.07060\n",
              "Proportion of Variance 0.00002 0.00002 0.00002 0.00002 0.00002 0.00002 0.00002\n",
              "Cumulative Proportion  0.99894 0.99896 0.99897 0.99899 0.99901 0.99902 0.99904\n",
              "                         PC197   PC198   PC199   PC200   PC201   PC202   PC203\n",
              "Standard deviation     0.06983 0.06894 0.06807 0.06779 0.06729 0.06698 0.06665\n",
              "Proportion of Variance 0.00002 0.00002 0.00002 0.00002 0.00001 0.00001 0.00001\n",
              "Cumulative Proportion  0.99906 0.99907 0.99909 0.99910 0.99912 0.99913 0.99915\n",
              "                         PC204   PC205   PC206   PC207   PC208   PC209   PC210\n",
              "Standard deviation     0.06613 0.06528 0.06473 0.06436 0.06414 0.06371 0.06285\n",
              "Proportion of Variance 0.00001 0.00001 0.00001 0.00001 0.00001 0.00001 0.00001\n",
              "Cumulative Proportion  0.99916 0.99917 0.99919 0.99920 0.99922 0.99923 0.99924\n",
              "                         PC211   PC212   PC213   PC214   PC215   PC216   PC217\n",
              "Standard deviation     0.06255 0.06233 0.06134 0.06110 0.06052 0.06006 0.05924\n",
              "Proportion of Variance 0.00001 0.00001 0.00001 0.00001 0.00001 0.00001 0.00001\n",
              "Cumulative Proportion  0.99925 0.99927 0.99928 0.99929 0.99930 0.99932 0.99933\n",
              "                         PC218   PC219   PC220   PC221   PC222   PC223   PC224\n",
              "Standard deviation     0.05905 0.05839 0.05807 0.05770 0.05704 0.05673 0.05613\n",
              "Proportion of Variance 0.00001 0.00001 0.00001 0.00001 0.00001 0.00001 0.00001\n",
              "Cumulative Proportion  0.99934 0.99935 0.99936 0.99937 0.99938 0.99939 0.99940\n",
              "                         PC225   PC226   PC227   PC228   PC229   PC230   PC231\n",
              "Standard deviation     0.05576 0.05541 0.05512 0.05483 0.05405 0.05369 0.05321\n",
              "Proportion of Variance 0.00001 0.00001 0.00001 0.00001 0.00001 0.00001 0.00001\n",
              "Cumulative Proportion  0.99941 0.99942 0.99943 0.99944 0.99945 0.99946 0.99947\n",
              "                         PC232   PC233   PC234   PC235   PC236   PC237   PC238\n",
              "Standard deviation     0.05245 0.05206 0.05163 0.05108 0.05091 0.05066 0.05041\n",
              "Proportion of Variance 0.00001 0.00001 0.00001 0.00001 0.00001 0.00001 0.00001\n",
              "Cumulative Proportion  0.99948 0.99949 0.99950 0.99951 0.99952 0.99952 0.99953\n",
              "                         PC239   PC240   PC241   PC242   PC243   PC244   PC245\n",
              "Standard deviation     0.05021 0.05006 0.04936 0.04920 0.04866 0.04813 0.04794\n",
              "Proportion of Variance 0.00001 0.00001 0.00001 0.00001 0.00001 0.00001 0.00001\n",
              "Cumulative Proportion  0.99954 0.99955 0.99956 0.99957 0.99957 0.99958 0.99959\n",
              "                         PC246   PC247   PC248   PC249   PC250   PC251   PC252\n",
              "Standard deviation     0.04787 0.04740 0.04684 0.04635 0.04605 0.04582 0.04525\n",
              "Proportion of Variance 0.00001 0.00001 0.00001 0.00001 0.00001 0.00001 0.00001\n",
              "Cumulative Proportion  0.99960 0.99960 0.99961 0.99962 0.99962 0.99963 0.99964\n",
              "                         PC253   PC254   PC255   PC256   PC257   PC258   PC259\n",
              "Standard deviation     0.04501 0.04462 0.04402 0.04398 0.04334 0.04307 0.04276\n",
              "Proportion of Variance 0.00001 0.00001 0.00001 0.00001 0.00001 0.00001 0.00001\n",
              "Cumulative Proportion  0.99964 0.99965 0.99966 0.99966 0.99967 0.99968 0.99968\n",
              "                         PC260   PC261   PC262   PC263   PC264   PC265   PC266\n",
              "Standard deviation     0.04253 0.04199 0.04181 0.04141 0.04130 0.04109 0.04048\n",
              "Proportion of Variance 0.00001 0.00001 0.00001 0.00001 0.00001 0.00001 0.00001\n",
              "Cumulative Proportion  0.99969 0.99969 0.99970 0.99971 0.99971 0.99972 0.99972\n",
              "                         PC267   PC268   PC269   PC270   PC271   PC272   PC273\n",
              "Standard deviation     0.04025 0.03964 0.03940 0.03934 0.03899 0.03865 0.03819\n",
              "Proportion of Variance 0.00001 0.00001 0.00001 0.00001 0.00000 0.00000 0.00000\n",
              "Cumulative Proportion  0.99973 0.99973 0.99974 0.99974 0.99975 0.99975 0.99976\n",
              "                         PC274   PC275   PC276   PC277   PC278   PC279   PC280\n",
              "Standard deviation     0.03791 0.03752 0.03714 0.03695 0.03674 0.03661 0.03625\n",
              "Proportion of Variance 0.00000 0.00000 0.00000 0.00000 0.00000 0.00000 0.00000\n",
              "Cumulative Proportion  0.99976 0.99977 0.99977 0.99978 0.99978 0.99978 0.99979\n",
              "                         PC281   PC282   PC283   PC284   PC285   PC286   PC287\n",
              "Standard deviation     0.03613 0.03525 0.03517 0.03493 0.03461 0.03437 0.03391\n",
              "Proportion of Variance 0.00000 0.00000 0.00000 0.00000 0.00000 0.00000 0.00000\n",
              "Cumulative Proportion  0.99979 0.99980 0.99980 0.99981 0.99981 0.99981 0.99982\n",
              "                         PC288   PC289   PC290   PC291   PC292   PC293   PC294\n",
              "Standard deviation     0.03363 0.03345 0.03314 0.03294 0.03259 0.03233 0.03222\n",
              "Proportion of Variance 0.00000 0.00000 0.00000 0.00000 0.00000 0.00000 0.00000\n",
              "Cumulative Proportion  0.99982 0.99982 0.99983 0.99983 0.99983 0.99984 0.99984\n",
              "                         PC295   PC296  PC297  PC298   PC299   PC300   PC301\n",
              "Standard deviation     0.03191 0.03168 0.0315 0.0311 0.03085 0.03054 0.03041\n",
              "Proportion of Variance 0.00000 0.00000 0.0000 0.0000 0.00000 0.00000 0.00000\n",
              "Cumulative Proportion  0.99984 0.99985 0.9999 0.9999 0.99986 0.99986 0.99986\n",
              "                         PC302   PC303   PC304   PC305   PC306   PC307   PC308\n",
              "Standard deviation     0.03005 0.02995 0.02978 0.02959 0.02935 0.02924 0.02887\n",
              "Proportion of Variance 0.00000 0.00000 0.00000 0.00000 0.00000 0.00000 0.00000\n",
              "Cumulative Proportion  0.99987 0.99987 0.99987 0.99988 0.99988 0.99988 0.99988\n",
              "                         PC309   PC310   PC311   PC312   PC313   PC314   PC315\n",
              "Standard deviation     0.02873 0.02867 0.02843 0.02824 0.02808 0.02789 0.02765\n",
              "Proportion of Variance 0.00000 0.00000 0.00000 0.00000 0.00000 0.00000 0.00000\n",
              "Cumulative Proportion  0.99989 0.99989 0.99989 0.99989 0.99990 0.99990 0.99990\n",
              "                         PC316   PC317  PC318   PC319   PC320  PC321   PC322\n",
              "Standard deviation     0.02741 0.02708 0.0269 0.02662 0.02647 0.0262 0.02575\n",
              "Proportion of Variance 0.00000 0.00000 0.0000 0.00000 0.00000 0.0000 0.00000\n",
              "Cumulative Proportion  0.99990 0.99991 0.9999 0.99991 0.99991 0.9999 0.99992\n",
              "                         PC323  PC324   PC325   PC326   PC327   PC328  PC329\n",
              "Standard deviation     0.02538 0.0252 0.02498 0.02469 0.02438 0.02396 0.0238\n",
              "Proportion of Variance 0.00000 0.0000 0.00000 0.00000 0.00000 0.00000 0.0000\n",
              "Cumulative Proportion  0.99992 0.9999 0.99992 0.99993 0.99993 0.99993 0.9999\n",
              "                         PC330   PC331  PC332   PC333   PC334   PC335   PC336\n",
              "Standard deviation     0.02365 0.02332 0.0231 0.02286 0.02284 0.02253 0.02247\n",
              "Proportion of Variance 0.00000 0.00000 0.0000 0.00000 0.00000 0.00000 0.00000\n",
              "Cumulative Proportion  0.99993 0.99994 0.9999 0.99994 0.99994 0.99994 0.99994\n",
              "                        PC337   PC338   PC339   PC340   PC341   PC342   PC343\n",
              "Standard deviation     0.0221 0.02194 0.02193 0.02163 0.02133 0.02104 0.02089\n",
              "Proportion of Variance 0.0000 0.00000 0.00000 0.00000 0.00000 0.00000 0.00000\n",
              "Cumulative Proportion  1.0000 0.99995 0.99995 0.99995 0.99995 0.99995 0.99996\n",
              "                         PC344   PC345   PC346   PC347   PC348   PC349   PC350\n",
              "Standard deviation     0.02068 0.01984 0.01973 0.01963 0.01904 0.01876 0.01862\n",
              "Proportion of Variance 0.00000 0.00000 0.00000 0.00000 0.00000 0.00000 0.00000\n",
              "Cumulative Proportion  0.99996 0.99996 0.99996 0.99996 0.99996 0.99996 0.99996\n",
              "                        PC351   PC352   PC353   PC354   PC355   PC356   PC357\n",
              "Standard deviation     0.0185 0.01823 0.01802 0.01751 0.01746 0.01712 0.01684\n",
              "Proportion of Variance 0.0000 0.00000 0.00000 0.00000 0.00000 0.00000 0.00000\n",
              "Cumulative Proportion  1.0000 0.99997 0.99997 0.99997 0.99997 0.99997 0.99997\n",
              "                         PC358   PC359   PC360   PC361   PC362   PC363   PC364\n",
              "Standard deviation     0.01665 0.01647 0.01606 0.01583 0.01575 0.01541 0.01496\n",
              "Proportion of Variance 0.00000 0.00000 0.00000 0.00000 0.00000 0.00000 0.00000\n",
              "Cumulative Proportion  0.99997 0.99997 0.99997 0.99997 0.99998 0.99998 0.99998\n",
              "                         PC365   PC366   PC367   PC368   PC369   PC370   PC371\n",
              "Standard deviation     0.01472 0.01464 0.01444 0.01424 0.01403 0.01372 0.01368\n",
              "Proportion of Variance 0.00000 0.00000 0.00000 0.00000 0.00000 0.00000 0.00000\n",
              "Cumulative Proportion  0.99998 0.99998 0.99998 0.99998 0.99998 0.99998 0.99998\n",
              "                         PC372   PC373   PC374   PC375   PC376  PC377   PC378\n",
              "Standard deviation     0.01337 0.01329 0.01309 0.01295 0.01287 0.0127 0.01253\n",
              "Proportion of Variance 0.00000 0.00000 0.00000 0.00000 0.00000 0.0000 0.00000\n",
              "Cumulative Proportion  0.99998 0.99998 0.99998 0.99998 0.99998 1.0000 0.99999\n",
              "                         PC379   PC380   PC381   PC382   PC383  PC384   PC385\n",
              "Standard deviation     0.01243 0.01237 0.01217 0.01201 0.01182 0.0117 0.01156\n",
              "Proportion of Variance 0.00000 0.00000 0.00000 0.00000 0.00000 0.0000 0.00000\n",
              "Cumulative Proportion  0.99999 0.99999 0.99999 0.99999 0.99999 1.0000 0.99999\n",
              "                         PC386   PC387   PC388   PC389   PC390  PC391   PC392\n",
              "Standard deviation     0.01122 0.01108 0.01099 0.01077 0.01061 0.0105 0.01018\n",
              "Proportion of Variance 0.00000 0.00000 0.00000 0.00000 0.00000 0.0000 0.00000\n",
              "Cumulative Proportion  0.99999 0.99999 0.99999 0.99999 0.99999 1.0000 0.99999\n",
              "                        PC393    PC394    PC395    PC396    PC397    PC398\n",
              "Standard deviation     0.0101 0.009704 0.009589 0.009558 0.009514 0.009302\n",
              "Proportion of Variance 0.0000 0.000000 0.000000 0.000000 0.000000 0.000000\n",
              "Cumulative Proportion  1.0000 0.999990 0.999990 0.999990 0.999990 0.999990\n",
              "                          PC399    PC400    PC401    PC402    PC403    PC404\n",
              "Standard deviation     0.009031 0.008986 0.008848 0.008687 0.008611 0.008469\n",
              "Proportion of Variance 0.000000 0.000000 0.000000 0.000000 0.000000 0.000000\n",
              "Cumulative Proportion  0.999990 0.999990 0.999990 0.999990 0.999990 0.999990\n",
              "                          PC405    PC406    PC407    PC408    PC409    PC410\n",
              "Standard deviation     0.008391 0.008269 0.008153 0.008062 0.007861 0.007786\n",
              "Proportion of Variance 0.000000 0.000000 0.000000 0.000000 0.000000 0.000000\n",
              "Cumulative Proportion  1.000000 1.000000 1.000000 1.000000 1.000000 1.000000\n",
              "                          PC411    PC412    PC413    PC414    PC415    PC416\n",
              "Standard deviation     0.007583 0.007529 0.007412 0.007199 0.007138 0.007049\n",
              "Proportion of Variance 0.000000 0.000000 0.000000 0.000000 0.000000 0.000000\n",
              "Cumulative Proportion  1.000000 1.000000 1.000000 1.000000 1.000000 1.000000\n",
              "                          PC417    PC418    PC419    PC420    PC421    PC422\n",
              "Standard deviation     0.006953 0.006818 0.006758 0.006706 0.006566 0.006479\n",
              "Proportion of Variance 0.000000 0.000000 0.000000 0.000000 0.000000 0.000000\n",
              "Cumulative Proportion  1.000000 1.000000 1.000000 1.000000 1.000000 1.000000\n",
              "                          PC423    PC424    PC425    PC426   PC427    PC428\n",
              "Standard deviation     0.006247 0.006096 0.006054 0.005958 0.00582 0.005768\n",
              "Proportion of Variance 0.000000 0.000000 0.000000 0.000000 0.00000 0.000000\n",
              "Cumulative Proportion  1.000000 1.000000 1.000000 1.000000 1.00000 1.000000\n",
              "                          PC429   PC430    PC431    PC432    PC433    PC434\n",
              "Standard deviation     0.005584 0.00546 0.005378 0.005252 0.005198 0.005026\n",
              "Proportion of Variance 0.000000 0.00000 0.000000 0.000000 0.000000 0.000000\n",
              "Cumulative Proportion  1.000000 1.00000 1.000000 1.000000 1.000000 1.000000\n",
              "                          PC435    PC436    PC437    PC438   PC439    PC440\n",
              "Standard deviation     0.004953 0.004653 0.004417 0.004245 0.00354 0.003489\n",
              "Proportion of Variance 0.000000 0.000000 0.000000 0.000000 0.00000 0.000000\n",
              "Cumulative Proportion  1.000000 1.000000 1.000000 1.000000 1.00000 1.000000\n",
              "                          PC441    PC442    PC443    PC444    PC445    PC446\n",
              "Standard deviation     0.003297 0.002799 0.002603 0.002264 0.002185 0.002051\n",
              "Proportion of Variance 0.000000 0.000000 0.000000 0.000000 0.000000 0.000000\n",
              "Cumulative Proportion  1.000000 1.000000 1.000000 1.000000 1.000000 1.000000\n",
              "                          PC447    PC448    PC449    PC450    PC451    PC452\n",
              "Standard deviation     0.001891 0.001883 0.001724 0.001494 0.001385 0.001372\n",
              "Proportion of Variance 0.000000 0.000000 0.000000 0.000000 0.000000 0.000000\n",
              "Cumulative Proportion  1.000000 1.000000 1.000000 1.000000 1.000000 1.000000\n",
              "                          PC453    PC454   PC455     PC456     PC457     PC458\n",
              "Standard deviation     0.001265 0.001124 0.00107 0.0009827 0.0009369 0.0008637\n",
              "Proportion of Variance 0.000000 0.000000 0.00000 0.0000000 0.0000000 0.0000000\n",
              "Cumulative Proportion  1.000000 1.000000 1.00000 1.0000000 1.0000000 1.0000000\n",
              "                           PC459     PC460     PC461     PC462     PC463\n",
              "Standard deviation     0.0008586 0.0007888 0.0007437 0.0007383 0.0007201\n",
              "Proportion of Variance 0.0000000 0.0000000 0.0000000 0.0000000 0.0000000\n",
              "Cumulative Proportion  1.0000000 1.0000000 1.0000000 1.0000000 1.0000000\n",
              "                           PC464     PC465     PC466     PC467     PC468\n",
              "Standard deviation     0.0006382 0.0006306 0.0005355 0.0004364 7.678e-05\n",
              "Proportion of Variance 0.0000000 0.0000000 0.0000000 0.0000000 0.000e+00\n",
              "Cumulative Proportion  1.0000000 1.0000000 1.0000000 1.0000000 1.000e+00\n",
              "                           PC469     PC470    PC471     PC472     PC473\n",
              "Standard deviation     6.656e-05 3.137e-05 1.16e-05 7.761e-06 2.485e-06\n",
              "Proportion of Variance 0.000e+00 0.000e+00 0.00e+00 0.000e+00 0.000e+00\n",
              "Cumulative Proportion  1.000e+00 1.000e+00 1.00e+00 1.000e+00 1.000e+00\n",
              "                           PC474     PC475     PC476     PC477     PC478\n",
              "Standard deviation     3.223e-09 3.026e-09 3.016e-09 3.002e-09 2.999e-09\n",
              "Proportion of Variance 0.000e+00 0.000e+00 0.000e+00 0.000e+00 0.000e+00\n",
              "Cumulative Proportion  1.000e+00 1.000e+00 1.000e+00 1.000e+00 1.000e+00\n",
              "                          PC479     PC480     PC481     PC482    PC483\n",
              "Standard deviation     2.99e-09 2.981e-09 2.968e-09 2.965e-09 2.96e-09\n",
              "Proportion of Variance 0.00e+00 0.000e+00 0.000e+00 0.000e+00 0.00e+00\n",
              "Cumulative Proportion  1.00e+00 1.000e+00 1.000e+00 1.000e+00 1.00e+00\n",
              "                           PC484     PC485     PC486     PC487     PC488\n",
              "Standard deviation     2.945e-09 2.943e-09 2.938e-09 2.936e-09 2.922e-09\n",
              "Proportion of Variance 0.000e+00 0.000e+00 0.000e+00 0.000e+00 0.000e+00\n",
              "Cumulative Proportion  1.000e+00 1.000e+00 1.000e+00 1.000e+00 1.000e+00\n",
              "                           PC489    PC490     PC491     PC492     PC493\n",
              "Standard deviation     2.913e-09 2.91e-09 2.908e-09 2.896e-09 2.887e-09\n",
              "Proportion of Variance 0.000e+00 0.00e+00 0.000e+00 0.000e+00 0.000e+00\n",
              "Cumulative Proportion  1.000e+00 1.00e+00 1.000e+00 1.000e+00 1.000e+00\n",
              "                           PC494     PC495     PC496     PC497     PC498\n",
              "Standard deviation     2.882e-09 2.878e-09 2.872e-09 2.869e-09 2.863e-09\n",
              "Proportion of Variance 0.000e+00 0.000e+00 0.000e+00 0.000e+00 0.000e+00\n",
              "Cumulative Proportion  1.000e+00 1.000e+00 1.000e+00 1.000e+00 1.000e+00\n",
              "                           PC499    PC500     PC501     PC502     PC503\n",
              "Standard deviation     2.855e-09 2.85e-09 2.844e-09 2.838e-09 2.834e-09\n",
              "Proportion of Variance 0.000e+00 0.00e+00 0.000e+00 0.000e+00 0.000e+00\n",
              "Cumulative Proportion  1.000e+00 1.00e+00 1.000e+00 1.000e+00 1.000e+00\n",
              "                          PC504     PC505     PC506     PC507     PC508\n",
              "Standard deviation     2.83e-09 2.826e-09 2.815e-09 2.812e-09 2.806e-09\n",
              "Proportion of Variance 0.00e+00 0.000e+00 0.000e+00 0.000e+00 0.000e+00\n",
              "Cumulative Proportion  1.00e+00 1.000e+00 1.000e+00 1.000e+00 1.000e+00\n",
              "                           PC509     PC510     PC511     PC512    PC513\n",
              "Standard deviation     2.805e-09 2.799e-09 2.792e-09 2.783e-09 2.78e-09\n",
              "Proportion of Variance 0.000e+00 0.000e+00 0.000e+00 0.000e+00 0.00e+00\n",
              "Cumulative Proportion  1.000e+00 1.000e+00 1.000e+00 1.000e+00 1.00e+00\n",
              "                           PC514     PC515    PC516     PC517     PC518\n",
              "Standard deviation     2.777e-09 2.771e-09 2.77e-09 2.764e-09 2.757e-09\n",
              "Proportion of Variance 0.000e+00 0.000e+00 0.00e+00 0.000e+00 0.000e+00\n",
              "Cumulative Proportion  1.000e+00 1.000e+00 1.00e+00 1.000e+00 1.000e+00\n",
              "                           PC519     PC520     PC521     PC522     PC523\n",
              "Standard deviation     2.747e-09 2.742e-09 2.737e-09 2.727e-09 2.724e-09\n",
              "Proportion of Variance 0.000e+00 0.000e+00 0.000e+00 0.000e+00 0.000e+00\n",
              "Cumulative Proportion  1.000e+00 1.000e+00 1.000e+00 1.000e+00 1.000e+00\n",
              "                          PC524     PC525     PC526     PC527     PC528\n",
              "Standard deviation     2.72e-09 2.713e-09 2.707e-09 2.701e-09 2.692e-09\n",
              "Proportion of Variance 0.00e+00 0.000e+00 0.000e+00 0.000e+00 0.000e+00\n",
              "Cumulative Proportion  1.00e+00 1.000e+00 1.000e+00 1.000e+00 1.000e+00\n",
              "                          PC529     PC530     PC531    PC532     PC533    PC534\n",
              "Standard deviation     2.69e-09 2.679e-09 2.675e-09 2.67e-09 2.663e-09 2.66e-09\n",
              "Proportion of Variance 0.00e+00 0.000e+00 0.000e+00 0.00e+00 0.000e+00 0.00e+00\n",
              "Cumulative Proportion  1.00e+00 1.000e+00 1.000e+00 1.00e+00 1.000e+00 1.00e+00\n",
              "                           PC535     PC536     PC537     PC538     PC539\n",
              "Standard deviation     2.652e-09 2.641e-09 2.626e-09 2.618e-09 2.615e-09\n",
              "Proportion of Variance 0.000e+00 0.000e+00 0.000e+00 0.000e+00 0.000e+00\n",
              "Cumulative Proportion  1.000e+00 1.000e+00 1.000e+00 1.000e+00 1.000e+00\n",
              "                           PC540    PC541     PC542     PC543     PC544\n",
              "Standard deviation     2.605e-09 2.58e-09 2.578e-09 1.528e-15 1.528e-15\n",
              "Proportion of Variance 0.000e+00 0.00e+00 0.000e+00 0.000e+00 0.000e+00\n",
              "Cumulative Proportion  1.000e+00 1.00e+00 1.000e+00 1.000e+00 1.000e+00\n",
              "                           PC545     PC546     PC547     PC548     PC549\n",
              "Standard deviation     1.528e-15 1.528e-15 1.528e-15 1.528e-15 1.528e-15\n",
              "Proportion of Variance 0.000e+00 0.000e+00 0.000e+00 0.000e+00 0.000e+00\n",
              "Cumulative Proportion  1.000e+00 1.000e+00 1.000e+00 1.000e+00 1.000e+00\n",
              "                           PC550     PC551     PC552     PC553     PC554\n",
              "Standard deviation     1.528e-15 1.528e-15 1.528e-15 1.528e-15 1.528e-15\n",
              "Proportion of Variance 0.000e+00 0.000e+00 0.000e+00 0.000e+00 0.000e+00\n",
              "Cumulative Proportion  1.000e+00 1.000e+00 1.000e+00 1.000e+00 1.000e+00\n",
              "                           PC555     PC556     PC557     PC558     PC559\n",
              "Standard deviation     1.528e-15 1.528e-15 1.528e-15 2.805e-16 6.455e-17\n",
              "Proportion of Variance 0.000e+00 0.000e+00 0.000e+00 0.000e+00 0.000e+00\n",
              "Cumulative Proportion  1.000e+00 1.000e+00 1.000e+00 1.000e+00 1.000e+00\n",
              "                           PC560     PC561     PC562     PC563\n",
              "Standard deviation     4.201e-17 3.705e-17 2.298e-17 7.684e-18\n",
              "Proportion of Variance 0.000e+00 0.000e+00 0.000e+00 0.000e+00\n",
              "Cumulative Proportion  1.000e+00 1.000e+00 1.000e+00 1.000e+00"
            ]
          },
          "metadata": {
            "tags": []
          }
        }
      ]
    },
    {
      "cell_type": "code",
      "metadata": {
        "id": "cy4X5LY4c7dA",
        "colab_type": "code",
        "colab": {}
      },
      "source": [
        "train_pca <- mod_pca$x[1:7352,1:23]\n",
        "test_pca <- mod_pca$x[-(1:7352), 1:23]"
      ],
      "execution_count": 0,
      "outputs": []
    },
    {
      "cell_type": "code",
      "metadata": {
        "id": "ATA0vv76eOVS",
        "colab_type": "code",
        "colab": {}
      },
      "source": [
        "train_pca_f <- cbind(train_pca , train_y)\n",
        "test_pca_f   <- cbind(test_pca, test_y)\n",
        "train_pca_f$label <- factor(train_pca_f$label)\n",
        "test_pca_f$label  <- factor(test_pca_f$label)"
      ],
      "execution_count": 0,
      "outputs": []
    },
    {
      "cell_type": "code",
      "metadata": {
        "id": "3R84Vl1_e34g",
        "colab_type": "code",
        "colab": {}
      },
      "source": [
        "model_pca_rf <- randomForest(label~. , data = train_pca_f, ntree=500)"
      ],
      "execution_count": 0,
      "outputs": []
    },
    {
      "cell_type": "code",
      "metadata": {
        "id": "qNnngNyNffCK",
        "colab_type": "code",
        "outputId": "04ec7718-778f-4085-ec8b-156e052b82ed",
        "colab": {
          "base_uri": "https://localhost:8080/",
          "height": 289
        }
      },
      "source": [
        "model_pca_rf"
      ],
      "execution_count": 0,
      "outputs": [
        {
          "output_type": "display_data",
          "data": {
            "text/plain": [
              "\n",
              "Call:\n",
              " randomForest(formula = label ~ ., data = train_pca_f, ntree = 500) \n",
              "               Type of random forest: classification\n",
              "                     Number of trees: 500\n",
              "No. of variables tried at each split: 4\n",
              "\n",
              "        OOB estimate of  error rate: 6.41%\n",
              "Confusion matrix:\n",
              "     1    2   3    4    5    6 class.error\n",
              "1 1204    7  15    0    0    0 0.017944535\n",
              "2    9 1046  18    0    0    0 0.025163094\n",
              "3   11   16 959    0    0    0 0.027383367\n",
              "4    0    1   0 1030  245   10 0.199066874\n",
              "5    0    0   0  136 1238    0 0.098981077\n",
              "6    0    0   0    3    0 1404 0.002132196"
            ]
          },
          "metadata": {
            "tags": []
          }
        }
      ]
    },
    {
      "cell_type": "code",
      "metadata": {
        "id": "uCJ4EN9SgESb",
        "colab_type": "code",
        "colab": {}
      },
      "source": [
        "pred_pca_rf <- predict(model_pca_rf , test_pca_f)"
      ],
      "execution_count": 0,
      "outputs": []
    },
    {
      "cell_type": "code",
      "metadata": {
        "id": "9GGzWSx4gLZ_",
        "colab_type": "code",
        "outputId": "40461108-4809-4781-c1b0-b567b5c74b7e",
        "colab": {
          "base_uri": "https://localhost:8080/",
          "height": 578
        }
      },
      "source": [
        "caret::confusionMatrix(pred_pca_rf , test_pca_f[,24])"
      ],
      "execution_count": 0,
      "outputs": [
        {
          "output_type": "display_data",
          "data": {
            "text/plain": [
              "Confusion Matrix and Statistics\n",
              "\n",
              "          Reference\n",
              "Prediction   1   2   3   4   5   6\n",
              "         1 476  17  52   0   0   0\n",
              "         2   6 430  48   0   0   0\n",
              "         3  14  24 320   0   0   0\n",
              "         4   0   0   0 397  69  15\n",
              "         5   0   0   0  94 463   0\n",
              "         6   0   0   0   0   0 522\n",
              "\n",
              "Overall Statistics\n",
              "                                          \n",
              "               Accuracy : 0.885           \n",
              "                 95% CI : (0.8729, 0.8963)\n",
              "    No Information Rate : 0.1822          \n",
              "    P-Value [Acc > NIR] : < 2.2e-16       \n",
              "                                          \n",
              "                  Kappa : 0.8617          \n",
              "                                          \n",
              " Mcnemar's Test P-Value : NA              \n",
              "\n",
              "Statistics by Class:\n",
              "\n",
              "                     Class: 1 Class: 2 Class: 3 Class: 4 Class: 5 Class: 6\n",
              "Sensitivity            0.9597   0.9130   0.7619   0.8086   0.8703   0.9721\n",
              "Specificity            0.9718   0.9782   0.9850   0.9658   0.9611   1.0000\n",
              "Pos Pred Value         0.8734   0.8884   0.8939   0.8254   0.8312   1.0000\n",
              "Neg Pred Value         0.9917   0.9834   0.9614   0.9619   0.9711   0.9938\n",
              "Prevalence             0.1683   0.1598   0.1425   0.1666   0.1805   0.1822\n",
              "Detection Rate         0.1615   0.1459   0.1086   0.1347   0.1571   0.1771\n",
              "Detection Prevalence   0.1849   0.1642   0.1215   0.1632   0.1890   0.1771\n",
              "Balanced Accuracy      0.9658   0.9456   0.8734   0.8872   0.9157   0.9860"
            ]
          },
          "metadata": {
            "tags": []
          }
        }
      ]
    },
    {
      "cell_type": "code",
      "metadata": {
        "id": "cEuoy70uob_-",
        "colab_type": "code",
        "outputId": "1cb25aa4-ecac-4267-e492-cffa1c750830",
        "colab": {
          "base_uri": "https://localhost:8080/",
          "height": 34
        }
      },
      "source": [
        "require(nnet)"
      ],
      "execution_count": 0,
      "outputs": [
        {
          "output_type": "stream",
          "text": [
            "Loading required package: nnet\n"
          ],
          "name": "stderr"
        }
      ]
    },
    {
      "cell_type": "code",
      "metadata": {
        "id": "bzcoPj4qh0dN",
        "colab_type": "code",
        "colab": {}
      },
      "source": [
        "all_d <- cbind(all_data[, 1:561], class.ind(as.factor(all_data$label)))\n",
        "colnames(all_d) <- c(colnames(all_data[, 1:561]), \"l1\", \"l2\", \"l3\", \"l4\", \"l5\", \"l6\")"
      ],
      "execution_count": 0,
      "outputs": []
    },
    {
      "cell_type": "code",
      "metadata": {
        "id": "kikoUgW8oUkz",
        "colab_type": "code",
        "outputId": "038bb088-13e5-4bb5-eeb0-ba9854e40a55",
        "colab": {
          "base_uri": "https://localhost:8080/",
          "height": 221
        }
      },
      "source": [
        "install.packages(\"neuralnet\")\n",
        "require(neuralnet)"
      ],
      "execution_count": 0,
      "outputs": [
        {
          "output_type": "stream",
          "text": [
            "Installing package into ‘/usr/local/lib/R/site-library’\n",
            "(as ‘lib’ is unspecified)\n",
            "also installing the dependency ‘Deriv’\n",
            "\n",
            "Loading required package: neuralnet\n",
            "\n",
            "Attaching package: ‘neuralnet’\n",
            "\n",
            "The following object is masked from ‘package:dplyr’:\n",
            "\n",
            "    compute\n",
            "\n"
          ],
          "name": "stderr"
        }
      ]
    },
    {
      "cell_type": "code",
      "metadata": {
        "id": "jYHrfBGCnukz",
        "colab_type": "code",
        "colab": {}
      },
      "source": [
        "n <- names(all_d)\n",
        "f <- as.formula(paste(\"l1 + l2 + l3 + l4 + l5 + l6 ~\", paste(n[!n %in% c(\"l1\",\"l2\",\"l3\", \"l4\", \"l5\", \"l6\")], collapse = \" + \")))"
      ],
      "execution_count": 0,
      "outputs": []
    },
    {
      "cell_type": "code",
      "metadata": {
        "id": "XdIM6kMCtJfD",
        "colab_type": "code",
        "colab": {}
      },
      "source": [
        "my_fun <- function(x) relu(x)"
      ],
      "execution_count": 0,
      "outputs": []
    },
    {
      "cell_type": "code",
      "metadata": {
        "id": "Ch-ywjI8tRAR",
        "colab_type": "code",
        "colab": {}
      },
      "source": [
        "??relu"
      ],
      "execution_count": 0,
      "outputs": []
    },
    {
      "cell_type": "code",
      "metadata": {
        "id": "U29vU2-Tqgpq",
        "colab_type": "code",
        "outputId": "2348a4ad-e306-4089-eafa-a2b2960ebfbe",
        "colab": {
          "base_uri": "https://localhost:8080/",
          "height": 207
        }
      },
      "source": [
        "nn <- neuralnet(f,\n",
        "                data = all_d[1:7352,],\n",
        "                hidden = c(256, 16, 6),\n",
        "                act.fct = \"logistic\",\n",
        "                linear.output = FALSE,\n",
        "                lifesign = \"minimal\", err.fct=\"ce\", rep=10)"
      ],
      "execution_count": 0,
      "outputs": [
        {
          "output_type": "stream",
          "text": [
            "hidden: 256, 16, 6    thresh: 0.01    rep:  1/10    steps:     151\terror: 0.05585\ttime: 53.53 secs\n",
            "hidden: 256, 16, 6    thresh: 0.01    rep:  2/10    steps:     156\terror: 0.05295\ttime: 52.23 secs\n",
            "hidden: 256, 16, 6    thresh: 0.01    rep:  3/10    steps:     141\terror: 0.06081\ttime: 46.45 secs\n",
            "hidden: 256, 16, 6    thresh: 0.01    rep:  4/10    steps:     152\terror: 0.04074\ttime: 49.79 secs\n",
            "hidden: 256, 16, 6    thresh: 0.01    rep:  5/10    steps:     140\terror: 0.09452\ttime: 45.57 secs\n",
            "hidden: 256, 16, 6    thresh: 0.01    rep:  6/10    steps:     176\terror: 0.04566\ttime: 57.11 secs\n",
            "hidden: 256, 16, 6    thresh: 0.01    rep:  7/10    steps:     147\terror: 0.08397\ttime: 48.25 secs\n",
            "hidden: 256, 16, 6    thresh: 0.01    rep:  8/10    steps:     148\terror: 0.08272\ttime: 48.31 secs\n",
            "hidden: 256, 16, 6    thresh: 0.01    rep:  9/10    steps:     168\terror: 0.04903\ttime: 54.14 secs\n",
            "hidden: 256, 16, 6    thresh: 0.01    rep: 10/10    steps:     157\terror: 0.06357\ttime: 51.01 secs\n"
          ],
          "name": "stderr"
        }
      ]
    },
    {
      "cell_type": "code",
      "metadata": {
        "id": "aS3LZyZKv3RI",
        "colab_type": "code",
        "colab": {}
      },
      "source": [
        "pr.nn <- compute(nn, all_data[-(1:7352), -562])\n",
        "pr.nn_ <- pr.nn$net.result"
      ],
      "execution_count": 0,
      "outputs": []
    },
    {
      "cell_type": "code",
      "metadata": {
        "id": "fU5oXUckwge2",
        "colab_type": "code",
        "outputId": "d0f80024-7fae-4a18-9319-b906a667e313",
        "colab": {
          "base_uri": "https://localhost:8080/",
          "height": 34
        }
      },
      "source": [
        "orig <- max.col(all_d[-(1:7352), (562:567)])\n",
        "pr.nn_2 <- max.col(pr.nn_)\n",
        "mean(pr.nn_2 == orig)"
      ],
      "execution_count": 0,
      "outputs": [
        {
          "output_type": "display_data",
          "data": {
            "text/plain": [
              "[1] 0.9287411"
            ],
            "text/latex": "0.92874109263658",
            "text/markdown": "0.92874109263658",
            "text/html": [
              "0.92874109263658"
            ]
          },
          "metadata": {
            "tags": []
          }
        }
      ]
    },
    {
      "cell_type": "markdown",
      "metadata": {
        "id": "L371M4HYxsPw",
        "colab_type": "text"
      },
      "source": [
        "Seems like randomForest does better with less effort."
      ]
    },
    {
      "cell_type": "markdown",
      "metadata": {
        "id": "e5m2r17XqP34",
        "colab_type": "text"
      },
      "source": [
        "Time for Keras Model"
      ]
    },
    {
      "cell_type": "code",
      "metadata": {
        "id": "KYqcxr9WxK54",
        "colab_type": "code",
        "outputId": "5dabab8b-67d9-4113-f1f9-5d8c929978a6",
        "colab": {
          "base_uri": "https://localhost:8080/",
          "height": 51
        }
      },
      "source": [
        "install.packages(\"keras\")"
      ],
      "execution_count": 0,
      "outputs": [
        {
          "output_type": "stream",
          "text": [
            "Installing package into ‘/usr/local/lib/R/site-library’\n",
            "(as ‘lib’ is unspecified)\n"
          ],
          "name": "stderr"
        }
      ]
    },
    {
      "cell_type": "code",
      "metadata": {
        "id": "UPeU0hztyAKd",
        "colab_type": "code",
        "colab": {}
      },
      "source": [
        "library(keras)\n",
        "#library(tensorflow)"
      ],
      "execution_count": 0,
      "outputs": []
    },
    {
      "cell_type": "code",
      "metadata": {
        "id": "AI5zMemjqzD8",
        "colab_type": "code",
        "colab": {}
      },
      "source": [
        "#system(\"sudo apt-get install python-virtualenv\")"
      ],
      "execution_count": 0,
      "outputs": []
    },
    {
      "cell_type": "code",
      "metadata": {
        "id": "B6IG6U7Kq7cO",
        "colab_type": "code",
        "outputId": "32b042c5-2540-479d-81de-7b99dd46d016",
        "colab": {
          "base_uri": "https://localhost:8080/",
          "height": 102
        }
      },
      "source": [
        "#install_tensorflow()"
      ],
      "execution_count": 0,
      "outputs": [
        {
          "output_type": "stream",
          "text": [
            "Creating virtualenv for TensorFlow at  ~/.virtualenvs/r-tensorflow \n",
            "Installing TensorFlow ...\n",
            "\n",
            "Installation complete.\n",
            "\n"
          ],
          "name": "stdout"
        }
      ]
    },
    {
      "cell_type": "code",
      "metadata": {
        "id": "P4G3ACZDrrn4",
        "colab_type": "code",
        "outputId": "4d6f46e6-d2a9-4250-da33-2ccee3629909",
        "colab": {
          "base_uri": "https://localhost:8080/",
          "height": 224
        }
      },
      "source": [
        "head(train_x)"
      ],
      "execution_count": 0,
      "outputs": [
        {
          "output_type": "display_data",
          "data": {
            "text/plain": [
              "  X1.tBodyAcc.mean...X X2.tBodyAcc.mean...Y X3.tBodyAcc.mean...Z\n",
              "1 0.2885845            -0.02029417          -0.1329051          \n",
              "2 0.2784188            -0.01641057          -0.1235202          \n",
              "3 0.2796531            -0.01946716          -0.1134617          \n",
              "4 0.2791739            -0.02620065          -0.1232826          \n",
              "5 0.2766288            -0.01656965          -0.1153619          \n",
              "6 0.2771988            -0.01009785          -0.1051373          \n",
              "  X4.tBodyAcc.std...X X5.tBodyAcc.std...Y X6.tBodyAcc.std...Z\n",
              "1 -0.9952786          -0.9831106          -0.9135264         \n",
              "2 -0.9982453          -0.9753002          -0.9603220         \n",
              "3 -0.9953796          -0.9671870          -0.9789440         \n",
              "4 -0.9960915          -0.9834027          -0.9906751         \n",
              "5 -0.9981386          -0.9808173          -0.9904816         \n",
              "6 -0.9973350          -0.9904868          -0.9954200         \n",
              "  X7.tBodyAcc.mad...X X8.tBodyAcc.mad...Y X9.tBodyAcc.mad...Z\n",
              "1 -0.9951121          -0.9831846          -0.9235270         \n",
              "2 -0.9988072          -0.9749144          -0.9576862         \n",
              "3 -0.9965199          -0.9636684          -0.9774686         \n",
              "4 -0.9970995          -0.9827498          -0.9893025         \n",
              "5 -0.9983211          -0.9796719          -0.9904411         \n",
              "6 -0.9976274          -0.9902177          -0.9955489         \n",
              "  X10.tBodyAcc.max...X ⋯ X552.fBodyBodyGyroJerkMag.meanFreq..\n",
              "1 -0.9347238           ⋯ -0.07432303                         \n",
              "2 -0.9430675           ⋯  0.15807454                         \n",
              "3 -0.9386916           ⋯  0.41450281                         \n",
              "4 -0.9386916           ⋯  0.40457253                         \n",
              "5 -0.9424691           ⋯  0.08775301                         \n",
              "6 -0.9424691           ⋯  0.01995331                         \n",
              "  X553.fBodyBodyGyroJerkMag.skewness.. X554.fBodyBodyGyroJerkMag.kurtosis..\n",
              "1 -0.2986764                           -0.7103041                          \n",
              "2 -0.5950509                           -0.8614993                          \n",
              "3 -0.3907482                           -0.7601037                          \n",
              "4 -0.1172902                           -0.4828445                          \n",
              "5 -0.3514709                           -0.6992052                          \n",
              "6 -0.5454101                           -0.8446193                          \n",
              "  X555.angle.tBodyAccMean.gravity. X556.angle.tBodyAccJerkMean..gravityMean.\n",
              "1 -0.11275434                       0.030400372                             \n",
              "2  0.05347695                      -0.007434566                             \n",
              "3 -0.11855926                       0.177899480                             \n",
              "4 -0.03678797                      -0.012892494                             \n",
              "5  0.12332005                       0.122541960                             \n",
              "6  0.08263215                      -0.143439010                             \n",
              "  X557.angle.tBodyGyroMean.gravityMean.\n",
              "1 -0.4647614                           \n",
              "2 -0.7326262                           \n",
              "3  0.1006992                           \n",
              "4  0.6400110                           \n",
              "5  0.6935783                           \n",
              "6  0.2750408                           \n",
              "  X558.angle.tBodyGyroJerkMean.gravityMean. X559.angle.X.gravityMean.\n",
              "1 -0.01844588                               -0.8412468               \n",
              "2  0.70351059                               -0.8447876               \n",
              "3  0.80852908                               -0.8489335               \n",
              "4 -0.48536645                               -0.8486494               \n",
              "5 -0.61597061                               -0.8478653               \n",
              "6 -0.36822404                               -0.8496316               \n",
              "  X560.angle.Y.gravityMean. X561.angle.Z.gravityMean.\n",
              "1 0.1799406                 -0.05862692              \n",
              "2 0.1802889                 -0.05431672              \n",
              "3 0.1806373                 -0.04911782              \n",
              "4 0.1819348                 -0.04766318              \n",
              "5 0.1851512                 -0.04389225              \n",
              "6 0.1848225                 -0.04212638              "
            ],
            "text/latex": "A data.frame: 6 × 561\n\\begin{tabular}{r|lllllllllllllllllllllllllllllllllllllllllllllllllllllllllllllllllllllllllllllllllllllllllllllllllllllllllllllllllllllllllllllllllllllllllllllllllllllllllllllllllllllllllllllllllllllllllllllllllllllllllllllllllllllllllllllllllllllllllllllllllllllllllllllllllllllllllllllllllllllllllllllllllllllllllllllllllllllllllllllllllllllllllllllllllllllllllllllllllllllllllllllllllllllllllllllllllllllllllllllllllllllllllllllllllllllllllllllllllllllllllllllllllllllllllllllllllllllllllllllllllllllllllllllllllllllllllllllllllllllllllllllllllllllllllllllllllllllllllllllllll}\n X1.tBodyAcc.mean...X & X2.tBodyAcc.mean...Y & X3.tBodyAcc.mean...Z & X4.tBodyAcc.std...X & X5.tBodyAcc.std...Y & X6.tBodyAcc.std...Z & X7.tBodyAcc.mad...X & X8.tBodyAcc.mad...Y & X9.tBodyAcc.mad...Z & X10.tBodyAcc.max...X & X11.tBodyAcc.max...Y & X12.tBodyAcc.max...Z & X13.tBodyAcc.min...X & X14.tBodyAcc.min...Y & X15.tBodyAcc.min...Z & X16.tBodyAcc.sma.. & X17.tBodyAcc.energy...X & X18.tBodyAcc.energy...Y & X19.tBodyAcc.energy...Z & X20.tBodyAcc.iqr...X & X21.tBodyAcc.iqr...Y & X22.tBodyAcc.iqr...Z & X23.tBodyAcc.entropy...X & X24.tBodyAcc.entropy...Y & X25.tBodyAcc.entropy...Z & X26.tBodyAcc.arCoeff...X.1 & X27.tBodyAcc.arCoeff...X.2 & X28.tBodyAcc.arCoeff...X.3 & X29.tBodyAcc.arCoeff...X.4 & X30.tBodyAcc.arCoeff...Y.1 & X31.tBodyAcc.arCoeff...Y.2 & X32.tBodyAcc.arCoeff...Y.3 & X33.tBodyAcc.arCoeff...Y.4 & X34.tBodyAcc.arCoeff...Z.1 & X35.tBodyAcc.arCoeff...Z.2 & X36.tBodyAcc.arCoeff...Z.3 & X37.tBodyAcc.arCoeff...Z.4 & X38.tBodyAcc.correlation...X.Y & X39.tBodyAcc.correlation...X.Z & X40.tBodyAcc.correlation...Y.Z & X41.tGravityAcc.mean...X & X42.tGravityAcc.mean...Y & X43.tGravityAcc.mean...Z & X44.tGravityAcc.std...X & X45.tGravityAcc.std...Y & X46.tGravityAcc.std...Z & X47.tGravityAcc.mad...X & X48.tGravityAcc.mad...Y & X49.tGravityAcc.mad...Z & X50.tGravityAcc.max...X & X51.tGravityAcc.max...Y & X52.tGravityAcc.max...Z & X53.tGravityAcc.min...X & X54.tGravityAcc.min...Y & X55.tGravityAcc.min...Z & X56.tGravityAcc.sma.. & X57.tGravityAcc.energy...X & X58.tGravityAcc.energy...Y & X59.tGravityAcc.energy...Z & X60.tGravityAcc.iqr...X & X61.tGravityAcc.iqr...Y & X62.tGravityAcc.iqr...Z & X63.tGravityAcc.entropy...X & X64.tGravityAcc.entropy...Y & X65.tGravityAcc.entropy...Z & X66.tGravityAcc.arCoeff...X.1 & X67.tGravityAcc.arCoeff...X.2 & X68.tGravityAcc.arCoeff...X.3 & X69.tGravityAcc.arCoeff...X.4 & X70.tGravityAcc.arCoeff...Y.1 & X71.tGravityAcc.arCoeff...Y.2 & X72.tGravityAcc.arCoeff...Y.3 & X73.tGravityAcc.arCoeff...Y.4 & X74.tGravityAcc.arCoeff...Z.1 & X75.tGravityAcc.arCoeff...Z.2 & X76.tGravityAcc.arCoeff...Z.3 & X77.tGravityAcc.arCoeff...Z.4 & X78.tGravityAcc.correlation...X.Y & X79.tGravityAcc.correlation...X.Z & X80.tGravityAcc.correlation...Y.Z & X81.tBodyAccJerk.mean...X & X82.tBodyAccJerk.mean...Y & X83.tBodyAccJerk.mean...Z & X84.tBodyAccJerk.std...X & X85.tBodyAccJerk.std...Y & X86.tBodyAccJerk.std...Z & X87.tBodyAccJerk.mad...X & X88.tBodyAccJerk.mad...Y & X89.tBodyAccJerk.mad...Z & X90.tBodyAccJerk.max...X & X91.tBodyAccJerk.max...Y & X92.tBodyAccJerk.max...Z & X93.tBodyAccJerk.min...X & X94.tBodyAccJerk.min...Y & X95.tBodyAccJerk.min...Z & X96.tBodyAccJerk.sma.. & X97.tBodyAccJerk.energy...X & X98.tBodyAccJerk.energy...Y & X99.tBodyAccJerk.energy...Z & X100.tBodyAccJerk.iqr...X & X101.tBodyAccJerk.iqr...Y & X102.tBodyAccJerk.iqr...Z & X103.tBodyAccJerk.entropy...X & X104.tBodyAccJerk.entropy...Y & X105.tBodyAccJerk.entropy...Z & X106.tBodyAccJerk.arCoeff...X.1 & X107.tBodyAccJerk.arCoeff...X.2 & X108.tBodyAccJerk.arCoeff...X.3 & X109.tBodyAccJerk.arCoeff...X.4 & X110.tBodyAccJerk.arCoeff...Y.1 & X111.tBodyAccJerk.arCoeff...Y.2 & X112.tBodyAccJerk.arCoeff...Y.3 & X113.tBodyAccJerk.arCoeff...Y.4 & X114.tBodyAccJerk.arCoeff...Z.1 & X115.tBodyAccJerk.arCoeff...Z.2 & X116.tBodyAccJerk.arCoeff...Z.3 & X117.tBodyAccJerk.arCoeff...Z.4 & X118.tBodyAccJerk.correlation...X.Y & X119.tBodyAccJerk.correlation...X.Z & X120.tBodyAccJerk.correlation...Y.Z & X121.tBodyGyro.mean...X & X122.tBodyGyro.mean...Y & X123.tBodyGyro.mean...Z & X124.tBodyGyro.std...X & X125.tBodyGyro.std...Y & X126.tBodyGyro.std...Z & X127.tBodyGyro.mad...X & X128.tBodyGyro.mad...Y & X129.tBodyGyro.mad...Z & X130.tBodyGyro.max...X & X131.tBodyGyro.max...Y & X132.tBodyGyro.max...Z & X133.tBodyGyro.min...X & X134.tBodyGyro.min...Y & X135.tBodyGyro.min...Z & X136.tBodyGyro.sma.. & X137.tBodyGyro.energy...X & X138.tBodyGyro.energy...Y & X139.tBodyGyro.energy...Z & X140.tBodyGyro.iqr...X & X141.tBodyGyro.iqr...Y & X142.tBodyGyro.iqr...Z & X143.tBodyGyro.entropy...X & X144.tBodyGyro.entropy...Y & X145.tBodyGyro.entropy...Z & X146.tBodyGyro.arCoeff...X.1 & X147.tBodyGyro.arCoeff...X.2 & X148.tBodyGyro.arCoeff...X.3 & X149.tBodyGyro.arCoeff...X.4 & X150.tBodyGyro.arCoeff...Y.1 & X151.tBodyGyro.arCoeff...Y.2 & X152.tBodyGyro.arCoeff...Y.3 & X153.tBodyGyro.arCoeff...Y.4 & X154.tBodyGyro.arCoeff...Z.1 & X155.tBodyGyro.arCoeff...Z.2 & X156.tBodyGyro.arCoeff...Z.3 & X157.tBodyGyro.arCoeff...Z.4 & X158.tBodyGyro.correlation...X.Y & X159.tBodyGyro.correlation...X.Z & X160.tBodyGyro.correlation...Y.Z & X161.tBodyGyroJerk.mean...X & X162.tBodyGyroJerk.mean...Y & X163.tBodyGyroJerk.mean...Z & X164.tBodyGyroJerk.std...X & X165.tBodyGyroJerk.std...Y & X166.tBodyGyroJerk.std...Z & X167.tBodyGyroJerk.mad...X & X168.tBodyGyroJerk.mad...Y & X169.tBodyGyroJerk.mad...Z & X170.tBodyGyroJerk.max...X & X171.tBodyGyroJerk.max...Y & X172.tBodyGyroJerk.max...Z & X173.tBodyGyroJerk.min...X & X174.tBodyGyroJerk.min...Y & X175.tBodyGyroJerk.min...Z & X176.tBodyGyroJerk.sma.. & X177.tBodyGyroJerk.energy...X & X178.tBodyGyroJerk.energy...Y & X179.tBodyGyroJerk.energy...Z & X180.tBodyGyroJerk.iqr...X & X181.tBodyGyroJerk.iqr...Y & X182.tBodyGyroJerk.iqr...Z & X183.tBodyGyroJerk.entropy...X & X184.tBodyGyroJerk.entropy...Y & X185.tBodyGyroJerk.entropy...Z & X186.tBodyGyroJerk.arCoeff...X.1 & X187.tBodyGyroJerk.arCoeff...X.2 & X188.tBodyGyroJerk.arCoeff...X.3 & X189.tBodyGyroJerk.arCoeff...X.4 & X190.tBodyGyroJerk.arCoeff...Y.1 & X191.tBodyGyroJerk.arCoeff...Y.2 & X192.tBodyGyroJerk.arCoeff...Y.3 & X193.tBodyGyroJerk.arCoeff...Y.4 & X194.tBodyGyroJerk.arCoeff...Z.1 & X195.tBodyGyroJerk.arCoeff...Z.2 & X196.tBodyGyroJerk.arCoeff...Z.3 & X197.tBodyGyroJerk.arCoeff...Z.4 & X198.tBodyGyroJerk.correlation...X.Y & X199.tBodyGyroJerk.correlation...X.Z & X200.tBodyGyroJerk.correlation...Y.Z & X201.tBodyAccMag.mean.. & X202.tBodyAccMag.std.. & X203.tBodyAccMag.mad.. & X204.tBodyAccMag.max.. & X205.tBodyAccMag.min.. & X206.tBodyAccMag.sma.. & X207.tBodyAccMag.energy.. & X208.tBodyAccMag.iqr.. & X209.tBodyAccMag.entropy.. & X210.tBodyAccMag.arCoeff..1 & X211.tBodyAccMag.arCoeff..2 & X212.tBodyAccMag.arCoeff..3 & X213.tBodyAccMag.arCoeff..4 & X214.tGravityAccMag.mean.. & X215.tGravityAccMag.std.. & X216.tGravityAccMag.mad.. & X217.tGravityAccMag.max.. & X218.tGravityAccMag.min.. & X219.tGravityAccMag.sma.. & X220.tGravityAccMag.energy.. & X221.tGravityAccMag.iqr.. & X222.tGravityAccMag.entropy.. & X223.tGravityAccMag.arCoeff..1 & X224.tGravityAccMag.arCoeff..2 & X225.tGravityAccMag.arCoeff..3 & X226.tGravityAccMag.arCoeff..4 & X227.tBodyAccJerkMag.mean.. & X228.tBodyAccJerkMag.std.. & X229.tBodyAccJerkMag.mad.. & X230.tBodyAccJerkMag.max.. & X231.tBodyAccJerkMag.min.. & X232.tBodyAccJerkMag.sma.. & X233.tBodyAccJerkMag.energy.. & X234.tBodyAccJerkMag.iqr.. & X235.tBodyAccJerkMag.entropy.. & X236.tBodyAccJerkMag.arCoeff..1 & X237.tBodyAccJerkMag.arCoeff..2 & X238.tBodyAccJerkMag.arCoeff..3 & X239.tBodyAccJerkMag.arCoeff..4 & X240.tBodyGyroMag.mean.. & X241.tBodyGyroMag.std.. & X242.tBodyGyroMag.mad.. & X243.tBodyGyroMag.max.. & X244.tBodyGyroMag.min.. & X245.tBodyGyroMag.sma.. & X246.tBodyGyroMag.energy.. & X247.tBodyGyroMag.iqr.. & X248.tBodyGyroMag.entropy.. & X249.tBodyGyroMag.arCoeff..1 & X250.tBodyGyroMag.arCoeff..2 & X251.tBodyGyroMag.arCoeff..3 & X252.tBodyGyroMag.arCoeff..4 & X253.tBodyGyroJerkMag.mean.. & X254.tBodyGyroJerkMag.std.. & X255.tBodyGyroJerkMag.mad.. & X256.tBodyGyroJerkMag.max.. & X257.tBodyGyroJerkMag.min.. & X258.tBodyGyroJerkMag.sma.. & X259.tBodyGyroJerkMag.energy.. & X260.tBodyGyroJerkMag.iqr.. & X261.tBodyGyroJerkMag.entropy.. & X262.tBodyGyroJerkMag.arCoeff..1 & X263.tBodyGyroJerkMag.arCoeff..2 & X264.tBodyGyroJerkMag.arCoeff..3 & X265.tBodyGyroJerkMag.arCoeff..4 & X266.fBodyAcc.mean...X & X267.fBodyAcc.mean...Y & X268.fBodyAcc.mean...Z & X269.fBodyAcc.std...X & X270.fBodyAcc.std...Y & X271.fBodyAcc.std...Z & X272.fBodyAcc.mad...X & X273.fBodyAcc.mad...Y & X274.fBodyAcc.mad...Z & X275.fBodyAcc.max...X & X276.fBodyAcc.max...Y & X277.fBodyAcc.max...Z & X278.fBodyAcc.min...X & X279.fBodyAcc.min...Y & X280.fBodyAcc.min...Z & X281.fBodyAcc.sma.. & X282.fBodyAcc.energy...X & X283.fBodyAcc.energy...Y & X284.fBodyAcc.energy...Z & X285.fBodyAcc.iqr...X & X286.fBodyAcc.iqr...Y & X287.fBodyAcc.iqr...Z & X288.fBodyAcc.entropy...X & X289.fBodyAcc.entropy...Y & X290.fBodyAcc.entropy...Z & X291.fBodyAcc.maxInds.X & X292.fBodyAcc.maxInds.Y & X293.fBodyAcc.maxInds.Z & X294.fBodyAcc.meanFreq...X & X295.fBodyAcc.meanFreq...Y & X296.fBodyAcc.meanFreq...Z & X297.fBodyAcc.skewness...X & X298.fBodyAcc.kurtosis...X & X299.fBodyAcc.skewness...Y & X300.fBodyAcc.kurtosis...Y & X301.fBodyAcc.skewness...Z & X302.fBodyAcc.kurtosis...Z & X303.fBodyAcc.bandsEnergy...1.8 & X304.fBodyAcc.bandsEnergy...9.16 & X305.fBodyAcc.bandsEnergy...17.24 & X306.fBodyAcc.bandsEnergy...25.32 & X307.fBodyAcc.bandsEnergy...33.40 & X308.fBodyAcc.bandsEnergy...41.48 & X309.fBodyAcc.bandsEnergy...49.56 & X310.fBodyAcc.bandsEnergy...57.64 & X311.fBodyAcc.bandsEnergy...1.16 & X312.fBodyAcc.bandsEnergy...17.32 & X313.fBodyAcc.bandsEnergy...33.48 & X314.fBodyAcc.bandsEnergy...49.64 & X315.fBodyAcc.bandsEnergy...1.24 & X316.fBodyAcc.bandsEnergy...25.48 & X317.fBodyAcc.bandsEnergy...1.8 & X318.fBodyAcc.bandsEnergy...9.16 & X319.fBodyAcc.bandsEnergy...17.24 & X320.fBodyAcc.bandsEnergy...25.32 & X321.fBodyAcc.bandsEnergy...33.40 & X322.fBodyAcc.bandsEnergy...41.48 & X323.fBodyAcc.bandsEnergy...49.56 & X324.fBodyAcc.bandsEnergy...57.64 & X325.fBodyAcc.bandsEnergy...1.16 & X326.fBodyAcc.bandsEnergy...17.32 & X327.fBodyAcc.bandsEnergy...33.48 & X328.fBodyAcc.bandsEnergy...49.64 & X329.fBodyAcc.bandsEnergy...1.24 & X330.fBodyAcc.bandsEnergy...25.48 & X331.fBodyAcc.bandsEnergy...1.8 & X332.fBodyAcc.bandsEnergy...9.16 & X333.fBodyAcc.bandsEnergy...17.24 & X334.fBodyAcc.bandsEnergy...25.32 & X335.fBodyAcc.bandsEnergy...33.40 & X336.fBodyAcc.bandsEnergy...41.48 & X337.fBodyAcc.bandsEnergy...49.56 & X338.fBodyAcc.bandsEnergy...57.64 & X339.fBodyAcc.bandsEnergy...1.16 & X340.fBodyAcc.bandsEnergy...17.32 & X341.fBodyAcc.bandsEnergy...33.48 & X342.fBodyAcc.bandsEnergy...49.64 & X343.fBodyAcc.bandsEnergy...1.24 & X344.fBodyAcc.bandsEnergy...25.48 & X345.fBodyAccJerk.mean...X & X346.fBodyAccJerk.mean...Y & X347.fBodyAccJerk.mean...Z & X348.fBodyAccJerk.std...X & X349.fBodyAccJerk.std...Y & X350.fBodyAccJerk.std...Z & X351.fBodyAccJerk.mad...X & X352.fBodyAccJerk.mad...Y & X353.fBodyAccJerk.mad...Z & X354.fBodyAccJerk.max...X & X355.fBodyAccJerk.max...Y & X356.fBodyAccJerk.max...Z & X357.fBodyAccJerk.min...X & X358.fBodyAccJerk.min...Y & X359.fBodyAccJerk.min...Z & X360.fBodyAccJerk.sma.. & X361.fBodyAccJerk.energy...X & X362.fBodyAccJerk.energy...Y & X363.fBodyAccJerk.energy...Z & X364.fBodyAccJerk.iqr...X & X365.fBodyAccJerk.iqr...Y & X366.fBodyAccJerk.iqr...Z & X367.fBodyAccJerk.entropy...X & X368.fBodyAccJerk.entropy...Y & X369.fBodyAccJerk.entropy...Z & X370.fBodyAccJerk.maxInds.X & X371.fBodyAccJerk.maxInds.Y & X372.fBodyAccJerk.maxInds.Z & X373.fBodyAccJerk.meanFreq...X & X374.fBodyAccJerk.meanFreq...Y & X375.fBodyAccJerk.meanFreq...Z & X376.fBodyAccJerk.skewness...X & X377.fBodyAccJerk.kurtosis...X & X378.fBodyAccJerk.skewness...Y & X379.fBodyAccJerk.kurtosis...Y & X380.fBodyAccJerk.skewness...Z & X381.fBodyAccJerk.kurtosis...Z & X382.fBodyAccJerk.bandsEnergy...1.8 & X383.fBodyAccJerk.bandsEnergy...9.16 & X384.fBodyAccJerk.bandsEnergy...17.24 & X385.fBodyAccJerk.bandsEnergy...25.32 & X386.fBodyAccJerk.bandsEnergy...33.40 & X387.fBodyAccJerk.bandsEnergy...41.48 & X388.fBodyAccJerk.bandsEnergy...49.56 & X389.fBodyAccJerk.bandsEnergy...57.64 & X390.fBodyAccJerk.bandsEnergy...1.16 & X391.fBodyAccJerk.bandsEnergy...17.32 & X392.fBodyAccJerk.bandsEnergy...33.48 & X393.fBodyAccJerk.bandsEnergy...49.64 & X394.fBodyAccJerk.bandsEnergy...1.24 & X395.fBodyAccJerk.bandsEnergy...25.48 & X396.fBodyAccJerk.bandsEnergy...1.8 & X397.fBodyAccJerk.bandsEnergy...9.16 & X398.fBodyAccJerk.bandsEnergy...17.24 & X399.fBodyAccJerk.bandsEnergy...25.32 & X400.fBodyAccJerk.bandsEnergy...33.40 & X401.fBodyAccJerk.bandsEnergy...41.48 & X402.fBodyAccJerk.bandsEnergy...49.56 & X403.fBodyAccJerk.bandsEnergy...57.64 & X404.fBodyAccJerk.bandsEnergy...1.16 & X405.fBodyAccJerk.bandsEnergy...17.32 & X406.fBodyAccJerk.bandsEnergy...33.48 & X407.fBodyAccJerk.bandsEnergy...49.64 & X408.fBodyAccJerk.bandsEnergy...1.24 & X409.fBodyAccJerk.bandsEnergy...25.48 & X410.fBodyAccJerk.bandsEnergy...1.8 & X411.fBodyAccJerk.bandsEnergy...9.16 & X412.fBodyAccJerk.bandsEnergy...17.24 & X413.fBodyAccJerk.bandsEnergy...25.32 & X414.fBodyAccJerk.bandsEnergy...33.40 & X415.fBodyAccJerk.bandsEnergy...41.48 & X416.fBodyAccJerk.bandsEnergy...49.56 & X417.fBodyAccJerk.bandsEnergy...57.64 & X418.fBodyAccJerk.bandsEnergy...1.16 & X419.fBodyAccJerk.bandsEnergy...17.32 & X420.fBodyAccJerk.bandsEnergy...33.48 & X421.fBodyAccJerk.bandsEnergy...49.64 & X422.fBodyAccJerk.bandsEnergy...1.24 & X423.fBodyAccJerk.bandsEnergy...25.48 & X424.fBodyGyro.mean...X & X425.fBodyGyro.mean...Y & X426.fBodyGyro.mean...Z & X427.fBodyGyro.std...X & X428.fBodyGyro.std...Y & X429.fBodyGyro.std...Z & X430.fBodyGyro.mad...X & X431.fBodyGyro.mad...Y & X432.fBodyGyro.mad...Z & X433.fBodyGyro.max...X & X434.fBodyGyro.max...Y & X435.fBodyGyro.max...Z & X436.fBodyGyro.min...X & X437.fBodyGyro.min...Y & X438.fBodyGyro.min...Z & X439.fBodyGyro.sma.. & X440.fBodyGyro.energy...X & X441.fBodyGyro.energy...Y & X442.fBodyGyro.energy...Z & X443.fBodyGyro.iqr...X & X444.fBodyGyro.iqr...Y & X445.fBodyGyro.iqr...Z & X446.fBodyGyro.entropy...X & X447.fBodyGyro.entropy...Y & X448.fBodyGyro.entropy...Z & X449.fBodyGyro.maxInds.X & X450.fBodyGyro.maxInds.Y & X451.fBodyGyro.maxInds.Z & X452.fBodyGyro.meanFreq...X & X453.fBodyGyro.meanFreq...Y & X454.fBodyGyro.meanFreq...Z & X455.fBodyGyro.skewness...X & X456.fBodyGyro.kurtosis...X & X457.fBodyGyro.skewness...Y & X458.fBodyGyro.kurtosis...Y & X459.fBodyGyro.skewness...Z & X460.fBodyGyro.kurtosis...Z & X461.fBodyGyro.bandsEnergy...1.8 & X462.fBodyGyro.bandsEnergy...9.16 & X463.fBodyGyro.bandsEnergy...17.24 & X464.fBodyGyro.bandsEnergy...25.32 & X465.fBodyGyro.bandsEnergy...33.40 & X466.fBodyGyro.bandsEnergy...41.48 & X467.fBodyGyro.bandsEnergy...49.56 & X468.fBodyGyro.bandsEnergy...57.64 & X469.fBodyGyro.bandsEnergy...1.16 & X470.fBodyGyro.bandsEnergy...17.32 & X471.fBodyGyro.bandsEnergy...33.48 & X472.fBodyGyro.bandsEnergy...49.64 & X473.fBodyGyro.bandsEnergy...1.24 & X474.fBodyGyro.bandsEnergy...25.48 & X475.fBodyGyro.bandsEnergy...1.8 & X476.fBodyGyro.bandsEnergy...9.16 & X477.fBodyGyro.bandsEnergy...17.24 & X478.fBodyGyro.bandsEnergy...25.32 & X479.fBodyGyro.bandsEnergy...33.40 & X480.fBodyGyro.bandsEnergy...41.48 & X481.fBodyGyro.bandsEnergy...49.56 & X482.fBodyGyro.bandsEnergy...57.64 & X483.fBodyGyro.bandsEnergy...1.16 & X484.fBodyGyro.bandsEnergy...17.32 & X485.fBodyGyro.bandsEnergy...33.48 & X486.fBodyGyro.bandsEnergy...49.64 & X487.fBodyGyro.bandsEnergy...1.24 & X488.fBodyGyro.bandsEnergy...25.48 & X489.fBodyGyro.bandsEnergy...1.8 & X490.fBodyGyro.bandsEnergy...9.16 & X491.fBodyGyro.bandsEnergy...17.24 & X492.fBodyGyro.bandsEnergy...25.32 & X493.fBodyGyro.bandsEnergy...33.40 & X494.fBodyGyro.bandsEnergy...41.48 & X495.fBodyGyro.bandsEnergy...49.56 & X496.fBodyGyro.bandsEnergy...57.64 & X497.fBodyGyro.bandsEnergy...1.16 & X498.fBodyGyro.bandsEnergy...17.32 & X499.fBodyGyro.bandsEnergy...33.48 & X500.fBodyGyro.bandsEnergy...49.64 & X501.fBodyGyro.bandsEnergy...1.24 & X502.fBodyGyro.bandsEnergy...25.48 & X503.fBodyAccMag.mean.. & X504.fBodyAccMag.std.. & X505.fBodyAccMag.mad.. & X506.fBodyAccMag.max.. & X507.fBodyAccMag.min.. & X508.fBodyAccMag.sma.. & X509.fBodyAccMag.energy.. & X510.fBodyAccMag.iqr.. & X511.fBodyAccMag.entropy.. & X512.fBodyAccMag.maxInds & X513.fBodyAccMag.meanFreq.. & X514.fBodyAccMag.skewness.. & X515.fBodyAccMag.kurtosis.. & X516.fBodyBodyAccJerkMag.mean.. & X517.fBodyBodyAccJerkMag.std.. & X518.fBodyBodyAccJerkMag.mad.. & X519.fBodyBodyAccJerkMag.max.. & X520.fBodyBodyAccJerkMag.min.. & X521.fBodyBodyAccJerkMag.sma.. & X522.fBodyBodyAccJerkMag.energy.. & X523.fBodyBodyAccJerkMag.iqr.. & X524.fBodyBodyAccJerkMag.entropy.. & X525.fBodyBodyAccJerkMag.maxInds & X526.fBodyBodyAccJerkMag.meanFreq.. & X527.fBodyBodyAccJerkMag.skewness.. & X528.fBodyBodyAccJerkMag.kurtosis.. & X529.fBodyBodyGyroMag.mean.. & X530.fBodyBodyGyroMag.std.. & X531.fBodyBodyGyroMag.mad.. & X532.fBodyBodyGyroMag.max.. & X533.fBodyBodyGyroMag.min.. & X534.fBodyBodyGyroMag.sma.. & X535.fBodyBodyGyroMag.energy.. & X536.fBodyBodyGyroMag.iqr.. & X537.fBodyBodyGyroMag.entropy.. & X538.fBodyBodyGyroMag.maxInds & X539.fBodyBodyGyroMag.meanFreq.. & X540.fBodyBodyGyroMag.skewness.. & X541.fBodyBodyGyroMag.kurtosis.. & X542.fBodyBodyGyroJerkMag.mean.. & X543.fBodyBodyGyroJerkMag.std.. & X544.fBodyBodyGyroJerkMag.mad.. & X545.fBodyBodyGyroJerkMag.max.. & X546.fBodyBodyGyroJerkMag.min.. & X547.fBodyBodyGyroJerkMag.sma.. & X548.fBodyBodyGyroJerkMag.energy.. & X549.fBodyBodyGyroJerkMag.iqr.. & X550.fBodyBodyGyroJerkMag.entropy.. & X551.fBodyBodyGyroJerkMag.maxInds & X552.fBodyBodyGyroJerkMag.meanFreq.. & X553.fBodyBodyGyroJerkMag.skewness.. & X554.fBodyBodyGyroJerkMag.kurtosis.. & X555.angle.tBodyAccMean.gravity. & X556.angle.tBodyAccJerkMean..gravityMean. & X557.angle.tBodyGyroMean.gravityMean. & X558.angle.tBodyGyroJerkMean.gravityMean. & X559.angle.X.gravityMean. & X560.angle.Y.gravityMean. & X561.angle.Z.gravityMean.\\\\\n <dbl> & <dbl> & <dbl> & <dbl> & <dbl> & <dbl> & <dbl> & <dbl> & <dbl> & <dbl> & <dbl> & <dbl> & <dbl> & <dbl> & <dbl> & <dbl> & <dbl> & <dbl> & <dbl> & <dbl> & <dbl> & <dbl> & <dbl> & <dbl> & <dbl> & <dbl> & <dbl> & <dbl> & <dbl> & <dbl> & <dbl> & <dbl> & <dbl> & <dbl> & <dbl> & <dbl> & <dbl> & <dbl> & <dbl> & <dbl> & <dbl> & <dbl> & <dbl> & <dbl> & <dbl> & <dbl> & <dbl> & <dbl> & <dbl> & <dbl> & <dbl> & <dbl> & <dbl> & <dbl> & <dbl> & <dbl> & <dbl> & <dbl> & <dbl> & <dbl> & <dbl> & <dbl> & <dbl> & <dbl> & <dbl> & <dbl> & <dbl> & <dbl> & <dbl> & <dbl> & <dbl> & <dbl> & <dbl> & <dbl> & <dbl> & <dbl> & <dbl> & <dbl> & <dbl> & <dbl> & <dbl> & <dbl> & <dbl> & <dbl> & <dbl> & <dbl> & <dbl> & <dbl> & <dbl> & <dbl> & <dbl> & <dbl> & <dbl> & <dbl> & <dbl> & <dbl> & <dbl> & <dbl> & <dbl> & <dbl> & <dbl> & <dbl> & <dbl> & <dbl> & <dbl> & <dbl> & <dbl> & <dbl> & <dbl> & <dbl> & <dbl> & <dbl> & <dbl> & <dbl> & <dbl> & <dbl> & <dbl> & <dbl> & <dbl> & <dbl> & <dbl> & <dbl> & <dbl> & <dbl> & <dbl> & <dbl> & <dbl> & <dbl> & <dbl> & <dbl> & <dbl> & <dbl> & <dbl> & <dbl> & <dbl> & <dbl> & <dbl> & <dbl> & <dbl> & <dbl> & <dbl> & <dbl> & <dbl> & <dbl> & <dbl> & <dbl> & <dbl> & <dbl> & <dbl> & <dbl> & <dbl> & <dbl> & <dbl> & <dbl> & <dbl> & <dbl> & <dbl> & <dbl> & <dbl> & <dbl> & <dbl> & <dbl> & <dbl> & <dbl> & <dbl> & <dbl> & <dbl> & <dbl> & <dbl> & <dbl> & <dbl> & <dbl> & <dbl> & <dbl> & <dbl> & <dbl> & <dbl> & <dbl> & <dbl> & <dbl> & <dbl> & <dbl> & <dbl> & <dbl> & <dbl> & <dbl> & <dbl> & <dbl> & <dbl> & <dbl> & <dbl> & <dbl> & <dbl> & <dbl> & <dbl> & <dbl> & <dbl> & <dbl> & <dbl> & <dbl> & <dbl> & <dbl> & <dbl> & <dbl> & <dbl> & <dbl> & <dbl> & <dbl> & <dbl> & <dbl> & <dbl> & <dbl> & <dbl> & <dbl> & <dbl> & <dbl> & <dbl> & <dbl> & <dbl> & <dbl> & <dbl> & <dbl> & <dbl> & <dbl> & <dbl> & <dbl> & <dbl> & <dbl> & <dbl> & <dbl> & <dbl> & <dbl> & <dbl> & <dbl> & <dbl> & <dbl> & <dbl> & <dbl> & <dbl> & <dbl> & <dbl> & <dbl> & <dbl> & <dbl> & <dbl> & <dbl> & <dbl> & <dbl> & <dbl> & <dbl> & <dbl> & <dbl> & <dbl> & <dbl> & <dbl> & <dbl> & <dbl> & <dbl> & <dbl> & <dbl> & <dbl> & <dbl> & <dbl> & <dbl> & <dbl> & <dbl> & <dbl> & <dbl> & <dbl> & <dbl> & <dbl> & <dbl> & <dbl> & <dbl> & <dbl> & <dbl> & <dbl> & <dbl> & <dbl> & <dbl> & <dbl> & <dbl> & <dbl> & <dbl> & <dbl> & <dbl> & <dbl> & <dbl> & <dbl> & <dbl> & <dbl> & <dbl> & <dbl> & <dbl> & <dbl> & <dbl> & <dbl> & <dbl> & <dbl> & <dbl> & <dbl> & <dbl> & <dbl> & <dbl> & <dbl> & <dbl> & <dbl> & <dbl> & <dbl> & <dbl> & <dbl> & <dbl> & <dbl> & <dbl> & <dbl> & <dbl> & <dbl> & <dbl> & <dbl> & <dbl> & <dbl> & <dbl> & <dbl> & <dbl> & <dbl> & <dbl> & <dbl> & <dbl> & <dbl> & <dbl> & <dbl> & <dbl> & <dbl> & <dbl> & <dbl> & <dbl> & <dbl> & <dbl> & <dbl> & <dbl> & <dbl> & <dbl> & <dbl> & <dbl> & <dbl> & <dbl> & <dbl> & <dbl> & <dbl> & <dbl> & <dbl> & <dbl> & <dbl> & <dbl> & <dbl> & <dbl> & <dbl> & <dbl> & <dbl> & <dbl> & <dbl> & <dbl> & <dbl> & <dbl> & <dbl> & <dbl> & <dbl> & <dbl> & <dbl> & <dbl> & <dbl> & <dbl> & <dbl> & <dbl> & <dbl> & <dbl> & <dbl> & <dbl> & <dbl> & <dbl> & <dbl> & <dbl> & <dbl> & <dbl> & <dbl> & <dbl> & <dbl> & <dbl> & <dbl> & <dbl> & <dbl> & <dbl> & <dbl> & <dbl> & <dbl> & <dbl> & <dbl> & <dbl> & <dbl> & <dbl> & <dbl> & <dbl> & <dbl> & <dbl> & <dbl> & <dbl> & <dbl> & <dbl> & <dbl> & <dbl> & <dbl> & <dbl> & <dbl> & <dbl> & <dbl> & <dbl> & <dbl> & <dbl> & <dbl> & <dbl> & <dbl> & <dbl> & <dbl> & <dbl> & <dbl> & <dbl> & <dbl> & <dbl> & <dbl> & <dbl> & <dbl> & <dbl> & <dbl> & <dbl> & <dbl> & <dbl> & <dbl> & <dbl> & <dbl> & <dbl> & <dbl> & <dbl> & <dbl> & <dbl> & <dbl> & <dbl> & <dbl> & <dbl> & <dbl> & <dbl> & <dbl> & <dbl> & <dbl> & <dbl> & <dbl> & <dbl> & <dbl> & <dbl> & <dbl> & <dbl> & <dbl> & <dbl> & <dbl> & <dbl> & <dbl> & <dbl> & <dbl> & <dbl> & <dbl> & <dbl> & <dbl> & <dbl> & <dbl> & <dbl> & <dbl> & <dbl> & <dbl> & <dbl> & <dbl> & <dbl> & <dbl> & <dbl> & <dbl> & <dbl> & <dbl> & <dbl> & <dbl> & <dbl> & <dbl> & <dbl> & <dbl> & <dbl> & <dbl> & <dbl> & <dbl> & <dbl> & <dbl> & <dbl> & <dbl> & <dbl> & <dbl> & <dbl> & <dbl> & <dbl> & <dbl> & <dbl> & <dbl> & <dbl> & <dbl> & <dbl> & <dbl> & <dbl> & <dbl> & <dbl> & <dbl> & <dbl> & <dbl> & <dbl> & <dbl> & <dbl> & <dbl> & <dbl> & <dbl> & <dbl> & <dbl> & <dbl> & <dbl> & <dbl> & <dbl> & <dbl> & <dbl> & <dbl> & <dbl> & <dbl> & <dbl> & <dbl> & <dbl> & <dbl> & <dbl> & <dbl> & <dbl> & <dbl> & <dbl> & <dbl> & <dbl> & <dbl> & <dbl> & <dbl> & <dbl> & <dbl> & <dbl> & <dbl> & <dbl> & <dbl> & <dbl> & <dbl> & <dbl> & <dbl> & <dbl> & <dbl> & <dbl>\\\\\n\\hline\n\t 0.2885845 & -0.02029417 & -0.1329051 & -0.9952786 & -0.9831106 & -0.9135264 & -0.9951121 & -0.9831846 & -0.9235270 & -0.9347238 & -0.5673781 & -0.7444125 & 0.8529474 & 0.6858446 & 0.8142628 & -0.9655228 & -0.9999446 & -0.9998630 & -0.9946122 & -0.9942308 & -0.9876139 & -0.9432200 & -0.4077471 & -0.6793375 & -0.6021219 & 0.92929351 & -0.85301114 & 0.3599098 & -0.05852638 & 0.25689154 & -0.22484763 & 0.2641057 & -0.09524563 & 0.27885143 & -0.46508457 &  0.49193596 & -0.19088356 &  0.37631389 &  0.43512919 & 0.6607903 & 0.9633961 & -0.1408397 & 0.11537494 & -0.9852497 & -0.9817084 & -0.8776250 & -0.9850014 & -0.9844162 & -0.8946774 & 0.8920545 & -0.1612655 & 0.12465977 & 0.9774363 & -0.1232134 & 0.05648273 & -0.3754260 & 0.8994686 & -0.9709052 & -0.9755104 & -0.9843254 & -0.9888491 & -0.9177426 & -1 & -1 &  0.1138061 & -0.590425000 & 0.59114630 & -0.59177346 & 0.59246928 & -0.7454488 & 0.72086167 & -0.7123724 & 0.7113000 & -0.9951116 & 0.9956749 & -0.9956676 & 0.9916527 &  0.5702216 &  0.4390273 & 0.9869131 & 0.07799634 & 0.005000803 & -0.067830808 & -0.9935191 & -0.9883600 & -0.9935750 & -0.9944876 & -0.9862066 & -0.9928183 & -0.9851801 & -0.9919942 & -0.9931189 & 0.9898347 & 0.9919569 & 0.9905192 & -0.9935220 & -0.9999349 & -0.9998204 & -0.9998785 & -0.9943640 & -0.9860249 & -0.9892336 & -0.8199492 & -0.7930464 & -0.8888529 & 1.0000000 & -0.22074703 & 0.6368308 & 0.3876436 & 0.24140146 & -0.052252848 & 0.2641772 & 0.3734395 & 0.3417775 & -0.56979119 & 0.2653988 & -0.4778749 & -0.3853005 &  0.03364394 & -0.12651082 & -0.006100849 & -0.03136479 & 0.10772540 & -0.9853103 & -0.9766234 & -0.9922053 & -0.9845863 & -0.9763526 & -0.9923616 & -0.8670437 & -0.9337860 & -0.7475662 & 0.8473080 & 0.9148953 & 0.8308405 & -0.9671843 & -0.9995783 & -0.9993543 & -0.9997634 & -0.9834381 & -0.9786140 & -0.9929656 &  0.082631682 &  0.2022676 & -0.1687567 &  0.09632324 & -0.27498511 & 0.49864419 & -0.22031685 &  1.00000000 & -0.97297139 &  0.31665451 & 0.37572641 & 0.72339919 & -0.7711120 & 0.6902132 & -0.3318310 &  0.70958377 &  0.13487336 &  0.3010995 & -0.09916740 & -0.05551737 & -0.06198580 & -0.9921107 & -0.9925193 & -0.9920553 & -0.9921648 & -0.9949416 & -0.9926190 & -0.9901558 & -0.9867428 & -0.9920416 & 0.9944288 & 0.9917558 & 0.9893519 & -0.9944534 & -0.9999375 & -0.9999535 & -0.9999229 & -0.9922997 & -0.9969389 & -0.9922430 & -0.5898510 & -0.6884590 & -0.5721069 &  0.292376340 & -0.36199802 &  0.40554269 & -0.03900695 &  0.98928381 & -0.414560480 &  0.39160251 &  0.282250870 & 0.9272698 & -0.5723700 &  0.69161920 &  0.468289820 & -0.13107697 & -0.08715969 &  0.3362475 & -0.9594339 & -0.9505515 & -0.9579929 & -0.9463052 & -0.9925557 & -0.9594339 & -0.9984928 & -0.9576374 & -0.2325816 & -0.17317874 & -0.02289666 &  0.0948315680 &  0.19181715 & -0.9594339 & -0.9505515 & -0.9579929 & -0.9463052 & -0.9925557 & -0.9594339 & -0.9984928 & -0.9576374 & -0.2325816 & -0.17317874 & -0.02289666 &  0.0948315680 &  0.19181715 & -0.9933059 & -0.9943364 & -0.9945004 & -0.9927840 & -0.9912085 & -0.9933059 & -0.9998919 & -0.9929337 & -0.8634148 & 0.28308522 & -0.23730869 & -0.10543219 & -0.03821231 & -0.9689591 & -0.9643352 & -0.9572448 & -0.9750599 & -0.9915537 & -0.9689591 & -0.9992865 & -0.9497658 &  0.07257904 &  0.5725114 & -0.738602190 & 0.21257776 &  0.43340495 & -0.9942478 & -0.9913676 & -0.9931430 & -0.9889356 & -0.9934860 & -0.9942478 & -0.9999490 & -0.9945472 & -0.6197676 & 0.2928405 & -0.1768892 & -0.14577921 & -0.124072330 & -0.9947832 & -0.9829841 & -0.9392687 & -0.9954217 & -0.9831330 & -0.9061650 & -0.9968886 & -0.9845193 & -0.9320820 & -0.9937563 & -0.9831629 & -0.8850542 & -0.9939619 & -0.9934461 & -0.9234277 & -0.9747327 & -0.9999684 & -0.9996891 & -0.9948915 & -0.9959260 & -0.9897089 & -0.9879912 & -0.9463569 & -0.9047478 & -0.5913025 & -1.00000000 & -1 & -1 & 0.25248290 &  0.13183575 & -0.05205025 &  0.1420506 & -0.1506825 & -0.2205469 & -0.55873853 &  0.24676868 & -0.007415521 & -0.9999628 & -0.9999865 & -0.9999791 & -0.9999624 & -0.9999322 & -0.9997251 & -0.9996704 & -0.9999858 & -0.9999687 & -0.9999769 & -0.9998697 & -0.9997761 & -0.9999712 & -0.9999193 & -0.9996568 & -0.9998605 & -0.9998670 & -0.9998630 & -0.9997378 & -0.9997322 & -0.9994926 & -0.9998136 & -0.9996818 & -0.9998394 & -0.9997382 & -0.9996120 & -0.9996872 & -0.9998386 & -0.9935923 & -0.9994758 & -0.9996620 & -0.9996423 & -0.9992934 & -0.9978922 & -0.9959325 & -0.9951464 & -0.9947399 & -0.9996883 & -0.9989246 & -0.9956713 & -0.9948773 & -0.9994544 & -0.9923325 & -0.9871699 & -0.9896961 & -0.9958207 & -0.9909363 & -0.9970517 & -0.9938055 & -0.9905187 & -0.9969928 & -0.9967369 & -0.9919752 & -0.9932417 & -0.9983491 & -0.9911084 & -0.9598854 & -0.9905150 & -0.9999347 & -0.9998205 & -0.9998845 & -0.9930263 & -0.9913734 & -0.9962396 & -1 & -1 & -1 &  1.00 & -0.24 & -1.00 & 0.87038451 &  0.21069700 & 0.26370789 & -0.7036858 & -0.9037425 & -0.5825736 & -0.9363101 & -0.5073447 & -0.8055359 & -0.9999865 & -0.9999796 & -0.9999748 & -0.9999551 & -0.9999186 & -0.9996401 & -0.9994833 & -0.9999609 & -0.9999823 & -0.9999707 & -0.9998110 & -0.9994847 & -0.9999808 & -0.9998519 & -0.9999326 & -0.9998999 & -0.9998244 & -0.9998598 & -0.9997275 & -0.9997288 & -0.9995671 & -0.9997652 & -0.9999002 & -0.9998149 & -0.9997098 & -0.9995961 & -0.9998522 & -0.9998221 & -0.9993999 & -0.9997656 & -0.9999585 & -0.9999495 & -0.9998385 & -0.9998135 & -0.9987805 & -0.9985778 & -0.9996197 & -0.9999836 & -0.9998281 & -0.9986807 & -0.9998442 & -0.9999279 & -0.9865744 & -0.9817615 & -0.9895148 & -0.9850326 & -0.9738861 & -0.9940349 & -0.9865308 & -0.9836164 & -0.9923520 & -0.9804984 & -0.9722709 & -0.9949443 & -0.9975686 & -0.9840851 & -0.9943354 & -0.9852762 & -0.9998637 & -0.9996661 & -0.9999346 & -0.9903439 & -0.9948357 & -0.9944116 & -0.7124023 & -0.6448424 & -0.8389930 & -1.0000000 & -1.0000000 & -1.0000000 & -0.25754888 &  0.09794711 &  0.54715105 &  0.377311210 &  0.1340915 &  0.2733720 & -0.09126183 & -0.4843465 & -0.7828507 & -0.9998650 & -0.9999318 & -0.9999729 & -0.9999702 & -0.9999301 & -0.9999586 & -0.9999290 & -0.9999847 & -0.9998633 & -0.9999681 & -0.9999361 & -0.9999536 & -0.9998644 & -0.9999610 & -0.9994537 & -0.9999781 & -0.9999915 & -0.9999901 & -0.9999686 & -0.9998066 & -0.9983460 & -0.9989612 & -0.9996187 & -0.9999893 & -0.9999354 & -0.9983875 & -0.9996426 & -0.9999727 & -0.9999554 & -0.9999763 & -0.9999058 & -0.9999855 & -0.9999372 & -0.9997512 & -0.9990723 & -0.9999275 & -0.9999516 & -0.9999058 & -0.9998927 & -0.9994443 & -0.9999410 & -0.9999586 & -0.9521547 & -0.9561340 & -0.9488701 & -0.9743206 & -0.9257218 & -0.9521547 & -0.9982852 & -0.9732732 & -0.6463764 & -0.7931035 & -0.08843612 & -0.4364710 & -0.7968405 & -0.9937257 & -0.9937550 & -0.9919757 & -0.9933647 & -0.9881754 & -0.9937257 & -0.9999184 & -0.9913637 & -1 & -0.9365079 & 0.3469885 & -0.5160801 & -0.8027600 & -0.9801349 & -0.9613094 & -0.9736534 & -0.9522638 & -0.9894981 & -0.9801349 & -0.9992403 & -0.9926555 & -0.7012914 & -1.0000000 & -0.1289889 &  0.5861564 &  0.3746046 & -0.9919904 & -0.9906975 & -0.9899408 & -0.9924478 & -0.9910477 & -0.9919904 & -0.9999368 & -0.9904579 & -0.8713058 & -1.0000000 & -0.07432303 & -0.2986764 & -0.7103041 & -0.11275434 &  0.030400372 & -0.4647614 & -0.01844588 & -0.8412468 & 0.1799406 & -0.05862692\\\\\n\t 0.2784188 & -0.01641057 & -0.1235202 & -0.9982453 & -0.9753002 & -0.9603220 & -0.9988072 & -0.9749144 & -0.9576862 & -0.9430675 & -0.5578513 & -0.8184087 & 0.8493079 & 0.6858446 & 0.8226368 & -0.9819301 & -0.9999913 & -0.9997884 & -0.9984054 & -0.9991504 & -0.9778655 & -0.9482248 & -0.7148917 & -0.5009300 & -0.5709791 & 0.61162716 & -0.32954862 & 0.2842132 &  0.28459454 & 0.11570542 & -0.09096253 & 0.2943104 & -0.28121057 & 0.08598843 & -0.02215269 & -0.01665654 & -0.22064350 & -0.01342866 & -0.07269189 & 0.5793817 & 0.9665611 & -0.1415513 & 0.10937881 & -0.9974113 & -0.9894474 & -0.9316387 & -0.9978836 & -0.9896137 & -0.9332404 & 0.8920603 & -0.1613426 & 0.12258573 & 0.9845201 & -0.1148933 & 0.10276411 & -0.3834296 & 0.9078289 & -0.9705828 & -0.9785004 & -0.9991884 & -0.9900285 & -0.9416854 & -1 & -1 & -0.2104936 & -0.410055520 & 0.41385634 & -0.41756716 & 0.42132499 & -0.1963593 & 0.12534464 & -0.1055677 & 0.1090901 & -0.8338821 & 0.8342711 & -0.8341844 & 0.8304639 & -0.8312839 & -0.8657111 & 0.9743856 & 0.07400671 & 0.005771104 &  0.029376633 & -0.9955481 & -0.9810636 & -0.9918457 & -0.9956320 & -0.9789380 & -0.9912766 & -0.9945447 & -0.9790682 & -0.9922574 & 0.9925771 & 0.9918084 & 0.9885391 & -0.9913937 & -0.9999597 & -0.9996396 & -0.9998454 & -0.9938627 & -0.9794351 & -0.9933838 & -0.8750964 & -0.6553621 & -0.7673809 & 0.4896622 &  0.07099708 & 0.3627145 & 0.5273034 & 0.14939565 &  0.062925097 & 0.3704934 & 0.4135481 & 0.1222157 &  0.18061304 & 0.0474240 &  0.1665727 & -0.2087722 &  0.08410380 & -0.26855390 & -0.016111620 & -0.08389378 & 0.10058429 & -0.9831200 & -0.9890458 & -0.9891212 & -0.9868904 & -0.9890380 & -0.9891846 & -0.8649038 & -0.9535605 & -0.7458700 & 0.8337211 & 0.9081096 & 0.8289350 & -0.9806131 & -0.9997558 & -0.9998973 & -0.9998224 & -0.9928328 & -0.9893447 & -0.9902402 &  0.007469356 & -0.5311566 & -0.1774446 & -0.38768063 &  0.17913763 & 0.21078900 & -0.14025958 & -0.04703181 & -0.06494907 &  0.11768661 & 0.08169129 & 0.04236404 & -0.1499284 & 0.2926189 & -0.1494293 &  0.04672124 & -0.25692940 &  0.1693948 & -0.11050283 & -0.04481873 & -0.05924282 & -0.9898726 & -0.9972926 & -0.9938510 & -0.9898762 & -0.9974917 & -0.9937783 & -0.9919469 & -0.9977171 & -0.9949208 & 0.9904860 & 0.9971222 & 0.9945031 & -0.9952984 & -0.9999077 & -0.9999897 & -0.9999459 & -0.9907418 & -0.9973013 & -0.9938078 & -0.6009445 & -0.7482472 & -0.6089321 & -0.193307570 & -0.06740646 &  0.18561907 &  0.04152181 &  0.07235255 & -0.035377727 &  0.17760636 &  0.027498054 & 0.1827027 & -0.1674574 &  0.25325103 &  0.132333860 &  0.29385535 & -0.01807517 & -0.3433368 & -0.9792892 & -0.9760571 & -0.9782473 & -0.9787115 & -0.9953329 & -0.9792892 & -0.9994880 & -0.9812483 & -0.4418761 &  0.08156863 & -0.10936606 &  0.3117577100 & -0.41167480 & -0.9792892 & -0.9760571 & -0.9782473 & -0.9787115 & -0.9953329 & -0.9792892 & -0.9994880 & -0.9812483 & -0.4418761 &  0.08156863 & -0.10936606 &  0.3117577100 & -0.41167480 & -0.9912535 & -0.9916944 & -0.9927160 & -0.9886606 & -0.9912085 & -0.9912535 & -0.9998454 & -0.9934851 & -0.8199283 & 0.45881205 & -0.24494134 &  0.05613927 & -0.45834568 & -0.9806831 & -0.9837542 & -0.9820027 & -0.9847146 & -0.9915537 & -0.9806831 & -0.9997247 & -0.9828568 & -0.19289906 & -0.2253174 & -0.017059623 & 0.15577724 &  0.08257521 & -0.9951232 & -0.9961016 & -0.9958385 & -0.9965449 & -0.9920060 & -0.9951232 & -0.9999698 & -0.9948192 & -0.7307216 & 0.2093341 & -0.1781126 & -0.10308433 & -0.043823965 & -0.9974507 & -0.9768517 & -0.9735227 & -0.9986803 & -0.9749298 & -0.9554381 & -0.9978897 & -0.9769239 & -0.9683768 & -0.9993717 & -0.9737703 & -0.9487768 & -0.9982806 & -0.9927209 & -0.9895135 & -0.9858116 & -0.9999908 & -0.9994499 & -0.9985691 & -0.9948649 & -0.9807836 & -0.9857747 & -1.0000000 & -0.9047478 & -0.7584085 &  0.09677419 & -1 & -1 & 0.27130855 &  0.04286364 & -0.01430976 & -0.6925409 & -0.9540470 & -0.0497091 & -0.33197386 &  0.05667537 & -0.289001440 & -0.9999962 & -0.9999818 & -0.9999440 & -0.9999699 & -0.9999189 & -0.9998657 & -0.9999651 & -0.9999995 & -0.9999939 & -0.9999490 & -0.9999140 & -0.9999766 & -0.9999921 & -0.9999459 & -0.9994166 & -0.9998133 & -0.9995686 & -0.9998737 & -0.9995489 & -0.9997371 & -0.9995658 & -0.9999053 & -0.9994735 & -0.9995542 & -0.9996020 & -0.9996953 & -0.9994442 & -0.9998042 & -0.9982346 & -0.9997692 & -0.9996922 & -0.9998749 & -0.9996656 & -0.9994483 & -0.9989302 & -0.9987544 & -0.9985456 & -0.9997918 & -0.9996312 & -0.9988775 & -0.9985534 & -0.9998221 & -0.9950322 & -0.9813115 & -0.9897398 & -0.9966523 & -0.9820839 & -0.9926268 & -0.9949767 & -0.9829295 & -0.9916414 & -0.9974245 & -0.9849232 & -0.9931870 & -0.9979168 & -0.9825186 & -0.9868384 & -0.9898509 & -0.9999596 & -0.9996396 & -0.9998466 & -0.9928434 & -0.9852207 & -0.9910493 & -1 & -1 & -1 & -0.32 & -0.12 & -0.32 & 0.60851352 & -0.05367561 & 0.06314827 & -0.6303049 & -0.9103945 & -0.4144235 & -0.8505864 & -0.6555347 & -0.9159869 & -0.9999963 & -0.9999797 & -0.9999489 & -0.9999683 & -0.9999101 & -0.9998137 & -0.9999203 & -0.9999607 & -0.9999867 & -0.9999560 & -0.9998767 & -0.9999141 & -0.9999744 & -0.9999058 & -0.9998610 & -0.9998272 & -0.9994565 & -0.9998303 & -0.9996093 & -0.9996855 & -0.9995761 & -0.9999370 & -0.9998174 & -0.9995325 & -0.9995952 & -0.9996257 & -0.9996299 & -0.9997593 & -0.9998589 & -0.9998465 & -0.9997949 & -0.9998009 & -0.9998193 & -0.9997692 & -0.9996370 & -0.9999545 & -0.9998519 & -0.9998273 & -0.9998001 & -0.9996510 & -0.9998350 & -0.9998267 & -0.9773867 & -0.9925300 & -0.9896058 & -0.9849043 & -0.9871681 & -0.9897847 & -0.9793612 & -0.9918368 & -0.9879651 & -0.9873538 & -0.9847864 & -0.9901508 & -0.9868918 & -0.9990535 & -0.9944137 & -0.9868687 & -0.9998249 & -0.9999115 & -0.9998921 & -0.9870994 & -0.9955637 & -0.9872545 & -0.6111119 & -0.7646030 & -0.7510797 & -1.0000000 & -1.0000000 & -1.0000000 & -0.04816744 & -0.40160791 & -0.06817833 & -0.458553310 & -0.7970135 &  0.3875689 &  0.14866483 & -0.1569093 & -0.4517759 & -0.9998509 & -0.9997943 & -0.9999131 & -0.9999182 & -0.9998964 & -0.9998853 & -0.9997842 & -0.9997824 & -0.9998299 & -0.9998988 & -0.9998828 & -0.9997834 & -0.9998283 & -0.9999080 & -0.9998564 & -0.9999885 & -0.9999957 & -0.9999942 & -0.9999861 & -0.9999845 & -0.9999800 & -0.9999900 & -0.9998966 & -0.9999945 & -0.9999860 & -0.9999817 & -0.9999026 & -0.9999917 & -0.9999089 & -0.9999594 & -0.9999281 & -0.9999663 & -0.9999855 & -0.9999264 & -0.9999615 & -0.9999831 & -0.9999017 & -0.9999178 & -0.9999754 & -0.9999711 & -0.9998943 & -0.9999710 & -0.9808566 & -0.9758658 & -0.9757769 & -0.9782264 & -0.9869108 & -0.9808566 & -0.9994719 & -0.9844792 & -0.8166736 & -1.0000000 & -0.04414989 & -0.1220404 & -0.4495219 & -0.9903355 & -0.9919603 & -0.9897320 & -0.9944888 & -0.9895488 & -0.9903355 & -0.9998669 & -0.9911339 & -1 & -0.8412698 & 0.5320605 & -0.6248710 & -0.9001600 & -0.9882956 & -0.9833219 & -0.9826593 & -0.9863208 & -0.9918288 & -0.9882956 & -0.9998112 & -0.9939785 & -0.7206830 & -0.9487180 & -0.2719585 & -0.3363104 & -0.7200151 & -0.9958539 & -0.9963995 & -0.9954421 & -0.9968660 & -0.9944397 & -0.9958539 & -0.9999807 & -0.9945437 & -1.0000000 & -1.0000000 &  0.15807454 & -0.5950509 & -0.8614993 &  0.05347695 & -0.007434566 & -0.7326262 &  0.70351059 & -0.8447876 & 0.1802889 & -0.05431672\\\\\n\t 0.2796531 & -0.01946716 & -0.1134617 & -0.9953796 & -0.9671870 & -0.9789440 & -0.9965199 & -0.9636684 & -0.9774686 & -0.9386916 & -0.5578513 & -0.8184087 & 0.8436090 & 0.6824009 & 0.8393442 & -0.9834778 & -0.9999691 & -0.9996599 & -0.9994695 & -0.9971301 & -0.9648099 & -0.9746750 & -0.5922351 & -0.4858207 & -0.5709791 & 0.27302484 & -0.08630870 & 0.3372015 & -0.16473870 & 0.01715013 & -0.07450693 & 0.3422563 & -0.33256448 & 0.23928053 & -0.13620359 &  0.17386318 & -0.29949278 & -0.12469839 & -0.18110479 & 0.6089001 & 0.9668781 & -0.1420098 & 0.10188392 & -0.9995740 & -0.9928658 & -0.9929172 & -0.9996353 & -0.9926049 & -0.9929343 & 0.8924006 & -0.1637112 & 0.09456584 & 0.9867701 & -0.1148933 & 0.10276411 & -0.4016016 & 0.9086678 & -0.9703681 & -0.9816723 & -0.9996790 & -0.9921044 & -0.9926186 & -1 & -1 & -0.9267763 &  0.002234132 & 0.02748069 & -0.05672816 & 0.08553324 & -0.3290230 & 0.27050025 & -0.2544902 & 0.2575976 & -0.7050392 & 0.7143920 & -0.7232989 & 0.7287554 & -0.1810899 &  0.3379359 & 0.6434170 & 0.07363596 & 0.003104037 & -0.009045631 & -0.9907428 & -0.9809556 & -0.9896866 & -0.9909329 & -0.9793002 & -0.9872381 & -0.9870770 & -0.9790682 & -0.9922574 & 0.9883902 & 0.9918084 & 0.9885391 & -0.9881477 & -0.9998942 & -0.9996364 & -0.9997950 & -0.9878457 & -0.9801445 & -0.9819108 & -0.7536287 & -0.6732736 & -0.7471068 & 0.2652248 &  0.18839474 & 0.4645835 & 0.3717179 & 0.08266488 & -0.004621675 & 0.3274702 & 0.4376232 & 0.2578909 &  0.07002964 & 0.1869730 &  0.2467997 & -0.1201047 & -0.11002563 & -0.03995275 & -0.031698294 & -0.10233542 & 0.09612688 & -0.9762921 & -0.9935518 & -0.9863787 & -0.9749215 & -0.9941221 & -0.9857862 & -0.8649038 & -0.9590491 & -0.7432771 & 0.8337211 & 0.9057528 & 0.8289350 & -0.9762803 & -0.9996934 & -0.9998283 & -0.9998216 & -0.9723536 & -0.9951443 & -0.9868311 & -0.260942670 & -1.0000000 & -0.2483707 & -0.43715568 &  0.23898137 & 0.14523773 & -0.11391720 &  0.03231156 & -0.12787926 &  0.11492426 & 0.12539829 & 0.11209205 & -0.1656450 & 0.1345544 &  0.1843490 & -0.01012957 &  0.04331158 & -0.3506461 & -0.10848567 & -0.04241031 & -0.05582883 & -0.9884618 & -0.9956321 & -0.9915318 & -0.9878680 & -0.9957250 & -0.9915963 & -0.9933590 & -0.9938002 & -0.9889631 & 0.9892905 & 0.9971222 & 0.9941426 & -0.9934149 & -0.9998871 & -0.9999798 & -0.9999158 & -0.9871304 & -0.9954278 & -0.9927755 & -0.5436348 & -0.6729573 & -0.5884104 & -0.241150980 & -0.01137728 &  0.11613363 &  0.08962988 &  0.09598603 &  0.009604215 &  0.09512614 &  0.252887040 & 0.1816489 & -0.1693084 &  0.13200906 &  0.008197317 &  0.19332856 &  0.07371786 & -0.3148578 & -0.9837031 & -0.9880196 & -0.9883268 & -0.9864961 & -0.9953329 & -0.9837031 & -0.9996821 & -0.9857669 & -0.5999393 &  0.03804910 & -0.07421227 &  0.2540759900 & -0.29612966 & -0.9837031 & -0.9880196 & -0.9883268 & -0.9864961 & -0.9953329 & -0.9837031 & -0.9996821 & -0.9857669 & -0.5999393 &  0.03804910 & -0.07421227 &  0.2540759900 & -0.29612966 & -0.9885313 & -0.9903969 & -0.9906505 & -0.9886606 & -0.9930120 & -0.9885313 & -0.9997899 & -0.9899838 & -0.7948842 & 0.64970380 & -0.26008800 & -0.12841598 & -0.52054112 & -0.9763171 & -0.9860515 & -0.9844578 & -0.9847146 & -0.9661929 & -0.9763171 & -0.9996406 & -0.9834545 & -0.22282926 & -0.2268309 &  0.059680819 & 0.06147618 &  0.04170213 & -0.9934032 & -0.9950910 & -0.9948595 & -0.9953595 & -0.9976518 & -0.9934032 & -0.9999549 & -0.9939883 & -0.6629136 & 0.3280315 & -0.1545600 & -0.22058712 & -0.107514160 & -0.9935941 & -0.9725115 & -0.9833040 & -0.9963128 & -0.9655059 & -0.9770493 & -0.9940974 & -0.9716867 & -0.9821691 & -0.9981585 & -0.9630718 & -0.9685959 & -0.9970937 & -0.9899236 & -0.9908857 & -0.9858213 & -0.9999693 & -0.9991374 & -0.9994336 & -0.9885692 & -0.9772424 & -0.9813019 & -1.0000000 & -0.8157863 & -0.8135133 & -0.93548387 & -1 & -1 & 0.12453124 & -0.06461056 &  0.08267692 & -0.7272273 & -0.9654192 &  0.1630629 & -0.09215279 & -0.04493677 & -0.288365900 & -0.9999894 & -0.9999616 & -0.9998154 & -0.9998473 & -0.9999391 & -0.9999217 & -0.9999232 & -0.9999966 & -0.9999826 & -0.9998020 & -0.9999476 & -0.9999478 & -0.9999725 & -0.9998746 & -0.9990060 & -0.9997153 & -0.9996577 & -0.9998174 & -0.9996359 & -0.9996789 & -0.9996157 & -0.9998796 & -0.9991085 & -0.9996240 & -0.9996433 & -0.9997150 & -0.9991263 & -0.9997753 & -0.9993882 & -0.9997249 & -0.9997185 & -0.9997982 & -0.9997528 & -0.9996292 & -0.9996862 & -0.9999119 & -0.9994535 & -0.9997807 & -0.9997489 & -0.9997604 & -0.9994343 & -0.9998009 & -0.9909937 & -0.9816423 & -0.9875663 & -0.9912488 & -0.9814148 & -0.9904159 & -0.9877510 & -0.9810912 & -0.9877232 & -0.9951632 & -0.9853508 & -0.9939116 & -0.9974823 & -0.9985712 & -0.9975540 & -0.9872372 & -0.9998940 & -0.9996366 & -0.9997951 & -0.9818169 & -0.9847648 & -0.9823642 & -1 & -1 & -1 & -0.16 & -0.48 & -0.28 & 0.11543400 & -0.19343634 & 0.03825433 & -0.5947588 & -0.9235410 & -0.5289342 & -0.9129851 & -0.8034065 & -0.9801332 & -0.9999936 & -0.9999443 & -0.9998274 & -0.9998414 & -0.9999222 & -0.9999058 & -0.9998736 & -0.9999965 & -0.9999628 & -0.9998038 & -0.9999227 & -0.9998752 & -0.9999085 & -0.9998430 & -0.9998203 & -0.9997439 & -0.9995591 & -0.9998386 & -0.9996673 & -0.9996275 & -0.9997037 & -0.9999934 & -0.9997323 & -0.9996112 & -0.9996175 & -0.9997442 & -0.9996132 & -0.9997732 & -0.9998709 & -0.9997839 & -0.9997397 & -0.9997866 & -0.9997722 & -0.9996260 & -0.9994874 & -0.9999957 & -0.9998025 & -0.9997921 & -0.9997208 & -0.9995138 & -0.9997753 & -0.9997868 & -0.9754332 & -0.9937147 & -0.9867557 & -0.9766422 & -0.9933990 & -0.9873282 & -0.9756091 & -0.9937071 & -0.9850303 & -0.9729012 & -0.9949860 & -0.9912830 & -0.9883117 & -0.9972327 & -0.9936360 & -0.9860087 & -0.9996733 & -0.9999624 & -0.9998463 & -0.9855365 & -0.9953921 & -0.9925506 & -0.5909865 & -0.8082872 & -0.7510797 & -1.0000000 & -0.8709677 & -1.0000000 & -0.21668507 & -0.01726417 & -0.11072029 &  0.090519474 & -0.2446911 & -0.4292724 & -0.81263905 & -0.3919913 & -0.7674824 & -0.9996805 & -0.9998282 & -0.9999151 & -0.9999324 & -0.9998478 & -0.9998415 & -0.9998635 & -0.9998622 & -0.9996744 & -0.9999063 & -0.9998314 & -0.9998629 & -0.9996757 & -0.9999035 & -0.9999544 & -0.9999876 & -0.9999901 & -0.9999943 & -0.9999730 & -0.9999428 & -0.9999866 & -0.9999933 & -0.9999620 & -0.9999893 & -0.9999670 & -0.9999877 & -0.9999606 & -0.9999858 & -0.9998701 & -0.9999346 & -0.9999347 & -0.9999570 & -0.9999522 & -0.9999093 & -0.9998890 & -0.9999885 & -0.9998565 & -0.9999196 & -0.9999464 & -0.9999325 & -0.9998502 & -0.9999556 & -0.9877948 & -0.9890155 & -0.9855936 & -0.9930619 & -0.9898364 & -0.9877948 & -0.9998067 & -0.9892371 & -0.9070143 & -0.8620690 &  0.25789914 & -0.6187251 & -0.8796846 & -0.9892801 & -0.9908667 & -0.9872743 & -0.9931788 & -0.9998898 & -0.9892801 & -0.9998455 & -0.9866576 & -1 & -0.9047619 & 0.6607950 & -0.7246967 & -0.9285394 & -0.9892548 & -0.9860277 & -0.9842736 & -0.9909794 & -0.9957030 & -0.9892548 & -0.9998539 & -0.9932383 & -0.7365215 & -0.7948718 & -0.2127279 & -0.5353521 & -0.8719141 & -0.9950305 & -0.9951274 & -0.9946396 & -0.9960596 & -0.9958663 & -0.9950305 & -0.9999731 & -0.9937553 & -1.0000000 & -0.5555556 &  0.41450281 & -0.3907482 & -0.7601037 & -0.11855926 &  0.177899480 &  0.1006992 &  0.80852908 & -0.8489335 & 0.1806373 & -0.04911782\\\\\n\t 0.2791739 & -0.02620065 & -0.1232826 & -0.9960915 & -0.9834027 & -0.9906751 & -0.9970995 & -0.9827498 & -0.9893025 & -0.9386916 & -0.5761589 & -0.8297115 & 0.8436090 & 0.6824009 & 0.8378693 & -0.9860933 & -0.9999755 & -0.9997360 & -0.9995037 & -0.9971804 & -0.9837991 & -0.9860068 & -0.6274463 & -0.8509300 & -0.9118716 & 0.06143571 &  0.07483956 & 0.1982040 & -0.26430733 & 0.07254524 & -0.15531983 & 0.3231540 & -0.17081296 & 0.29493839 & -0.30608099 &  0.48214783 & -0.47012871 & -0.30569299 & -0.36265405 & 0.5074589 & 0.9676152 & -0.1439765 & 0.09985014 & -0.9966456 & -0.9813928 & -0.9784764 & -0.9964569 & -0.9809618 & -0.9784558 & 0.8938171 & -0.1637112 & 0.09342467 & 0.9868210 & -0.1213358 & 0.09575265 & -0.4002781 & 0.9106207 & -0.9693997 & -0.9824196 & -0.9959764 & -0.9806634 & -0.9797787 & -1 & -1 & -0.5961008 & -0.064934877 & 0.07542720 & -0.08582296 & 0.09620771 & -0.2950360 & 0.22830973 & -0.2062812 & 0.2048009 & -0.3854102 & 0.3863727 & -0.3871199 & 0.3852631 & -0.9913087 & -0.9688214 & 0.9842555 & 0.07732061 & 0.020057642 & -0.009864772 & -0.9926974 & -0.9875527 & -0.9934976 & -0.9942660 & -0.9857170 & -0.9914832 & -0.9870770 & -0.9917862 & -0.9897689 & 0.9883902 & 0.9925438 & 0.9932176 & -0.9928683 & -0.9999236 & -0.9998029 & -0.9998829 & -0.9946780 & -0.9870330 & -0.9888963 & -0.8208042 & -0.7549682 & -0.8252786 & 0.1228930 &  0.27641881 & 0.4574450 & 0.1934143 & 0.10240466 & -0.099103220 & 0.1946788 & 0.4842436 & 0.3576571 & -0.18703248 & 0.2980687 &  0.4518696 & -0.1274952 & -0.08327836 &  0.45705983 & -0.043409983 & -0.09138618 & 0.08553770 & -0.9913848 & -0.9924073 & -0.9875542 & -0.9915889 & -0.9931421 & -0.9895849 & -0.8853204 & -0.9566563 & -0.7432771 & 0.8341640 & 0.9057528 & 0.8266338 & -0.9822957 & -0.9997929 & -0.9999023 & -0.9998773 & -0.9910313 & -0.9941653 & -0.9945820 & -0.930551140 & -0.8266180 & -0.5434217 & -0.16588549 & -0.01288054 & 0.32005501 & -0.16511393 &  0.04455323 & -0.12519331 &  0.07832123 & 0.17702758 & 0.19340165 & -0.2071888 & 0.1124575 &  0.2020919 &  0.21019413 &  0.14110084 & -0.7253011 & -0.09116989 & -0.03633262 & -0.06046466 & -0.9911194 & -0.9966410 & -0.9933289 & -0.9912405 & -0.9969579 & -0.9940195 & -0.9936763 & -0.9938002 & -0.9889631 & 0.9892905 & 0.9981303 & 0.9941426 & -0.9954961 & -0.9999251 & -0.9999862 & -0.9999396 & -0.9909086 & -0.9970785 & -0.9954046 & -0.5620311 & -0.7313321 & -0.6614345 &  0.009894985 & -0.13757147 &  0.12596517 &  0.31611970 &  0.09433295 &  0.026171325 &  0.06966099 &  0.246653200 & 0.2573553 & -0.1368088 &  0.08731557 &  0.149095580 &  0.19665725 &  0.14045188 & -0.3058977 & -0.9865418 & -0.9864213 & -0.9864305 & -0.9864961 & -0.9970448 & -0.9865418 & -0.9997374 & -0.9835088 & -0.5890063 & -0.09285588 &  0.04639617 & -0.0004664473 &  0.03714251 & -0.9865418 & -0.9864213 & -0.9864305 & -0.9864961 & -0.9970448 & -0.9865418 & -0.9997374 & -0.9835088 & -0.5890063 & -0.09285588 &  0.04639617 & -0.0004664473 &  0.03714251 & -0.9930780 & -0.9933808 & -0.9931945 & -0.9934017 & -0.9930120 & -0.9930780 & -0.9998836 & -0.9917361 & -0.7923214 & 0.66160340 & -0.24745115 & -0.23031491 & -0.43645940 & -0.9820599 & -0.9873511 & -0.9856316 & -0.9900291 & -0.9816856 & -0.9820599 & -0.9997679 & -0.9839660 & -0.24071922 & -0.2019850 &  0.054711916 & 0.11007156 & -0.07942259 & -0.9955022 & -0.9952666 & -0.9953048 & -0.9953595 & -0.9976518 & -0.9955022 & -0.9999702 & -0.9950011 & -0.6830162 & 0.5953713 & -0.2645688 & -0.31572300 & -0.163825530 & -0.9954906 & -0.9835697 & -0.9910798 & -0.9963121 & -0.9832444 & -0.9902291 & -0.9945468 & -0.9828241 & -0.9890073 & -0.9974035 & -0.9872749 & -0.9877543 & -0.9944319 & -0.9902589 & -0.9965778 & -0.9928120 & -0.9999754 & -0.9996969 & -0.9998029 & -0.9904425 & -0.9919019 & -0.9880605 & -1.0000000 & -0.8703979 & -0.9441902 & -1.00000000 & -1 & -1 & 0.02904438 &  0.08030227 &  0.18569468 & -0.5991180 & -0.9084493 & -0.4609145 & -0.81305675 & -0.56683479 & -0.771246060 & -0.9999886 & -0.9999767 & -0.9998343 & -0.9998709 & -0.9999924 & -0.9999492 & -0.9999645 & -0.9999958 & -0.9999864 & -0.9998253 & -0.9999912 & -0.9999750 & -0.9999773 & -0.9999124 & -0.9997191 & -0.9997498 & -0.9999442 & -0.9999397 & -0.9995535 & -0.9998987 & -0.9995122 & -0.9998656 & -0.9996727 & -0.9999362 & -0.9996673 & -0.9996458 & -0.9996925 & -0.9998733 & -0.9998071 & -0.9997748 & -0.9998102 & -0.9999293 & -0.9998582 & -0.9996655 & -0.9996813 & -0.9999836 & -0.9998044 & -0.9998867 & -0.9998438 & -0.9997784 & -0.9997918 & -0.9999217 & -0.9944466 & -0.9887272 & -0.9913542 & -0.9913783 & -0.9869269 & -0.9943908 & -0.9894309 & -0.9871450 & -0.9937904 & -0.9934019 & -0.9878742 & -0.9942012 & -0.9979030 & -0.9997671 & -0.9653808 & -0.9926573 & -0.9999235 & -0.9998031 & -0.9998830 & -0.9917761 & -0.9906849 & -0.9932884 & -1 & -1 & -1 & -0.12 & -0.56 & -0.28 & 0.03579805 & -0.09303585 & 0.16809523 & -0.2638514 & -0.7572285 & -0.3960393 & -0.8296347 & -0.5770384 & -0.8933748 & -0.9999978 & -0.9999651 & -0.9998432 & -0.9998654 & -0.9999959 & -0.9999304 & -0.9999417 & -0.9999992 & -0.9999781 & -0.9998269 & -0.9999824 & -0.9999426 & -0.9999268 & -0.9999009 & -0.9998950 & -0.9997965 & -0.9998881 & -0.9999061 & -0.9996812 & -0.9998463 & -0.9996932 & -0.9999999 & -0.9997976 & -0.9998832 & -0.9997223 & -0.9997359 & -0.9998056 & -0.9998560 & -0.9998848 & -0.9997237 & -0.9998414 & -0.9999425 & -0.9998694 & -0.9997353 & -0.9992040 & -0.9996620 & -0.9997560 & -0.9999203 & -0.9998281 & -0.9992066 & -0.9998244 & -0.9999237 & -0.9871096 & -0.9936015 & -0.9871913 & -0.9928104 & -0.9916460 & -0.9886776 & -0.9896713 & -0.9934607 & -0.9865264 & -0.9945184 & -0.9918014 & -0.9922807 & -0.9897006 & -0.9943438 & -0.9931436 & -0.9903443 & -0.9999462 & -0.9999514 & -0.9998668 & -0.9928778 & -0.9962888 & -0.9902236 & -0.7236655 & -0.8037541 & -0.8172859 & -1.0000000 & -1.0000000 & -0.7931035 &  0.21686246 & -0.13524536 & -0.04972798 & -0.572087600 & -0.8736179 & -0.1351185 & -0.54223840 & -0.3793527 & -0.7565483 & -0.9999637 & -0.9998907 & -0.9999465 & -0.9999733 & -0.9998773 & -0.9999031 & -0.9998334 & -0.9998929 & -0.9999502 & -0.9999481 & -0.9998769 & -0.9998597 & -0.9999484 & -0.9999461 & -0.9999305 & -0.9999892 & -0.9999924 & -0.9999925 & -0.9999859 & -0.9999541 & -0.9999898 & -0.9999883 & -0.9999470 & -0.9999908 & -0.9999796 & -0.9999878 & -0.9999478 & -0.9999884 & -0.9998773 & -0.9999685 & -0.9999566 & -0.9999556 & -0.9999493 & -0.9998805 & -0.9998793 & -0.9999495 & -0.9998747 & -0.9999398 & -0.9999364 & -0.9999101 & -0.9998713 & -0.9999516 & -0.9875187 & -0.9867420 & -0.9835237 & -0.9902299 & -0.9981850 & -0.9875187 & -0.9997702 & -0.9832153 & -0.9070143 & -1.0000000 &  0.07358150 & -0.4684223 & -0.7564936 & -0.9927689 & -0.9916998 & -0.9890549 & -0.9944546 & -0.9955624 & -0.9927689 & -0.9998948 & -0.9880552 & -1 &  1.0000000 & 0.6789213 & -0.7011307 & -0.9096391 & -0.9894128 & -0.9878358 & -0.9868499 & -0.9867488 & -0.9961994 & -0.9894128 & -0.9998756 & -0.9891355 & -0.7208908 & -1.0000000 & -0.0356842 & -0.2300909 & -0.5112170 & -0.9952207 & -0.9952369 & -0.9957222 & -0.9952731 & -0.9957318 & -0.9952207 & -0.9999744 & -0.9952260 & -0.9556959 & -0.9365079 &  0.40457253 & -0.1172902 & -0.4828445 & -0.03678797 & -0.012892494 &  0.6400110 & -0.48536645 & -0.8486494 & 0.1819348 & -0.04766318\\\\\n\t 0.2766288 & -0.01656965 & -0.1153619 & -0.9981386 & -0.9808173 & -0.9904816 & -0.9983211 & -0.9796719 & -0.9904411 & -0.9424691 & -0.5691738 & -0.8247053 & 0.8490951 & 0.6832498 & 0.8378693 & -0.9926531 & -0.9999906 & -0.9998559 & -0.9997566 & -0.9980043 & -0.9812319 & -0.9913247 & -0.7865525 & -0.5594769 & -0.7614338 & 0.31327553 & -0.13120773 & 0.1911608 &  0.08690362 & 0.25761535 & -0.27250466 & 0.4347278 & -0.31537507 & 0.43974437 & -0.26906895 &  0.17941419 & -0.08895195 & -0.15580432 & -0.18976271 & 0.5992130 & 0.9682244 & -0.1487502 & 0.09448590 & -0.9984293 & -0.9880982 & -0.9787449 & -0.9984112 & -0.9886539 & -0.9789355 & 0.8938171 & -0.1667862 & 0.09168239 & 0.9874335 & -0.1218336 & 0.09405935 & -0.4004765 & 0.9122347 & -0.9670511 & -0.9843626 & -0.9983182 & -0.9906113 & -0.9804125 & -1 & -1 & -0.6165782 & -0.257266810 & 0.26891819 & -0.28066510 & 0.29261602 & -0.1666931 & 0.08994272 & -0.0663267 & 0.0671311 & -0.2374745 & 0.2392680 & -0.2410121 & 0.2405685 & -0.4083304 & -0.1848401 & 0.9647965 & 0.07344436 & 0.019121574 &  0.016779979 & -0.9964202 & -0.9883587 & -0.9924549 & -0.9965974 & -0.9865370 & -0.9906864 & -0.9969933 & -0.9918178 & -0.9897689 & 0.9943032 & 0.9925438 & 0.9856091 & -0.9938320 & -0.9999692 & -0.9998203 & -0.9998599 & -0.9958878 & -0.9865242 & -0.9905717 & -0.8507439 & -0.7462578 & -0.7969596 & 0.2409042 &  0.13491152 & 0.2969029 & 0.2871847 & 0.31897047 & -0.143364120 & 0.4774545 & 0.4179662 & 0.3895371 & -0.03030909 & 0.1632612 &  0.1801889 & -0.2728836 &  0.10306475 &  0.06472931 & -0.033960416 & -0.07470803 & 0.07739203 & -0.9851836 & -0.9923781 & -0.9874019 & -0.9869437 & -0.9925425 & -0.9881628 & -0.8701541 & -0.9533597 & -0.7497799 & 0.8390906 & 0.9111845 & 0.8213744 & -0.9852620 & -0.9998495 & -0.9999519 & -0.9998443 & -0.9898132 & -0.9933367 & -0.9911546 & -0.628860990 & -0.4678076 & -0.6508521 & -0.21269027 &  0.00211118 & 0.38809860 & -0.23327097 & -0.16322090 &  0.18645965 & -0.43491617 & 0.65013677 & 0.23995007 & -0.3395292 & 0.1325371 &  0.4732514 & -0.14200070 &  0.48441885 & -0.7245575 & -0.09077010 & -0.03763253 & -0.05828932 & -0.9913545 & -0.9964730 & -0.9945110 & -0.9928823 & -0.9965406 & -0.9943830 & -0.9798455 & -0.9975093 & -0.9934198 & 0.9936848 & 0.9974531 & 0.9965279 & -0.9958778 & -0.9999280 & -0.9999852 & -0.9999535 & -0.9945132 & -0.9967177 & -0.9939689 & -0.6177378 & -0.6830932 & -0.6329272 & -0.025678521 & -0.18813916 &  0.23094957 &  0.20025838 & -0.14940028 &  0.271977090 & -0.27151547 & -0.009937466 & 0.2351285 & -0.3409670 & -0.08571288 &  0.163956800 &  0.12059038 &  0.10748923 & -0.2825893 & -0.9928271 & -0.9912754 & -0.9911703 & -0.9909619 & -0.9970448 & -0.9928271 & -0.9998807 & -0.9896081 & -0.7045988 &  0.18044105 & -0.27765672 &  0.5155624300 & -0.35585076 & -0.9928271 & -0.9912754 & -0.9911703 & -0.9909619 & -0.9970448 & -0.9928271 & -0.9998807 & -0.9896081 & -0.7045988 &  0.18044105 & -0.27765672 &  0.5155624300 & -0.35585076 & -0.9934800 & -0.9958537 & -0.9961075 & -0.9932829 & -0.9813245 & -0.9934800 & -0.9999016 & -0.9968463 & -0.8500256 & 0.31160390 & -0.17012088 &  0.13437035 & -0.45829909 & -0.9852037 & -0.9890626 & -0.9896134 & -0.9870285 & -0.9816856 & -0.9852037 & -0.9998294 & -0.9923380 & -0.33869914 & -0.2369926 &  0.093820007 & 0.02333272 &  0.03903898 & -0.9958076 & -0.9952580 & -0.9963073 & -0.9923893 & -0.9921927 & -0.9958076 & -0.9999721 & -0.9964837 & -0.7201707 & 0.3318584 & -0.2605620 & -0.14566464 & -0.007367991 & -0.9972859 & -0.9823010 & -0.9883694 & -0.9986065 & -0.9801295 & -0.9919150 & -0.9977250 & -0.9823528 & -0.9909146 & -0.9992774 & -0.9808482 & -0.9891165 & -0.9949679 & -0.9917884 & -0.9744938 & -0.9924232 & -0.9999902 & -0.9996251 & -0.9997979 & -0.9937604 & -0.9881797 & -0.9863589 & -1.0000000 & -0.8703979 & -0.9441902 &  0.09677419 & -1 & -1 & 0.18108977 &  0.05798789 &  0.55978632 & -0.6769965 & -0.9513707 & -0.1803828 & -0.53372625 & -0.58551700 & -0.790432550 & -0.9999940 & -0.9999860 & -0.9999359 & -0.9999455 & -0.9999694 & -0.9999349 & -0.9999697 & -0.9999862 & -0.9999934 & -0.9999348 & -0.9999715 & -0.9999753 & -0.9999911 & -0.9999561 & -0.9995640 & -0.9998597 & -0.9998627 & -0.9998976 & -0.9996505 & -0.9997118 & -0.9995164 & -0.9999108 & -0.9996103 & -0.9998453 & -0.9996666 & -0.9996675 & -0.9996211 & -0.9998419 & -0.9998057 & -0.9998344 & -0.9998251 & -0.9997864 & -0.9997453 & -0.9996557 & -0.9990258 & -0.9994359 & -0.9998225 & -0.9998445 & -0.9997497 & -0.9991496 & -0.9998123 & -0.9997927 & -0.9962920 & -0.9887900 & -0.9906244 & -0.9969025 & -0.9886067 & -0.9929065 & -0.9960914 & -0.9888672 & -0.9916730 & -0.9970095 & -0.9903728 & -0.9951421 & -0.9957965 & -0.9961128 & -0.9959788 & -0.9932588 & -0.9999691 & -0.9998205 & -0.9998604 & -0.9961415 & -0.9924077 & -0.9861788 & -1 & -1 & -1 & -0.32 & -0.08 &  0.04 & 0.27335020 &  0.07913538 & 0.29238418 & -0.5221571 & -0.8129873 & -0.4965600 & -0.9039084 & -0.7643694 & -0.9662039 & -0.9999953 & -0.9999829 & -0.9999466 & -0.9999388 & -0.9999616 & -0.9999289 & -0.9999581 & -0.9999949 & -0.9999883 & -0.9999412 & -0.9999587 & -0.9999579 & -0.9999748 & -0.9999391 & -0.9999254 & -0.9998775 & -0.9998104 & -0.9999321 & -0.9997284 & -0.9997694 & -0.9995027 & -0.9999921 & -0.9998782 & -0.9998387 & -0.9997279 & -0.9995684 & -0.9998299 & -0.9998744 & -0.9998451 & -0.9998530 & -0.9998899 & -0.9998177 & -0.9997595 & -0.9996878 & -0.9991695 & -0.9999823 & -0.9998525 & -0.9998841 & -0.9997297 & -0.9992106 & -0.9999004 & -0.9998092 & -0.9824465 & -0.9929838 & -0.9886664 & -0.9859818 & -0.9919558 & -0.9879443 & -0.9825810 & -0.9933426 & -0.9864612 & -0.9879502 & -0.9932283 & -0.9914436 & -0.9937381 & -0.9937253 & -0.9948352 & -0.9887062 & -0.9998616 & -0.9999510 & -0.9998642 & -0.9904644 & -0.9961228 & -0.9974263 & -0.6526168 & -0.8272124 & -0.7374578 & -1.0000000 & -0.8064516 & -1.0000000 & -0.15334258 & -0.08840273 & -0.16223039 & -0.339596820 & -0.7226279 & -0.2654707 & -0.68998825 & -0.2679956 & -0.6592078 & -0.9998700 & -0.9999117 & -0.9999258 & -0.9999409 & -0.9999356 & -0.9998874 & -0.9998999 & -0.9999175 & -0.9998651 & -0.9999183 & -0.9999109 & -0.9999077 & -0.9998636 & -0.9999326 & -0.9999259 & -0.9999927 & -0.9999964 & -0.9999884 & -0.9999666 & -0.9999737 & -0.9999740 & -0.9999720 & -0.9999462 & -0.9999934 & -0.9999681 & -0.9999696 & -0.9999490 & -0.9999816 & -0.9998711 & -0.9999554 & -0.9999962 & -0.9999864 & -0.9999397 & -0.9999068 & -0.9999211 & -0.9999812 & -0.9998645 & -0.9999925 & -0.9999366 & -0.9999474 & -0.9998664 & -0.9999728 & -0.9935909 & -0.9900635 & -0.9923241 & -0.9905059 & -0.9878052 & -0.9935909 & -0.9998731 & -0.9973433 & -0.9070143 & -1.0000000 &  0.39431033 & -0.1126629 & -0.4818052 & -0.9955228 & -0.9943890 & -0.9933055 & -0.9954847 & -0.9821772 & -0.9955228 & -0.9999409 & -0.9941695 & -1 & -1.0000000 & 0.5590577 & -0.5289013 & -0.8589325 & -0.9914330 & -0.9890594 & -0.9877436 & -0.9914617 & -0.9983532 & -0.9914330 & -0.9999018 & -0.9893211 & -0.7633722 & -0.8974359 & -0.2735820 & -0.5102819 & -0.8307018 & -0.9950928 & -0.9954648 & -0.9952787 & -0.9956093 & -0.9974180 & -0.9950928 & -0.9999745 & -0.9954868 & -1.0000000 & -0.9365079 &  0.08775301 & -0.3514709 & -0.6992052 &  0.12332005 &  0.122541960 &  0.6935783 & -0.61597061 & -0.8478653 & 0.1851512 & -0.04389225\\\\\n\t 0.2771988 & -0.01009785 & -0.1051373 & -0.9973350 & -0.9904868 & -0.9954200 & -0.9976274 & -0.9902177 & -0.9955489 & -0.9424691 & -0.5656839 & -0.8227661 & 0.8490951 & 0.6955857 & 0.8459216 & -0.9939277 & -0.9999855 & -0.9998570 & -0.9999174 & -0.9975839 & -0.9918468 & -0.9954136 & -0.7518691 & -0.4547725 & -0.5508815 & 0.39005211 & -0.18227238 & 0.1587515 &  0.18731256 & 0.25995104 & -0.24322958 & 0.4217361 & -0.41846005 & 0.55846137 & -0.21834364 &  0.16513807 &  0.08092016 & -0.20997915 & -0.15106365 & 0.1804244 & 0.9679482 & -0.1482100 & 0.09190972 & -0.9989793 & -0.9867539 & -0.9973064 & -0.9990540 & -0.9865839 & -0.9974188 & 0.8936834 & -0.1669704 & 0.08334712 & 0.9877218 & -0.1218336 & 0.09405935 & -0.4093585 & 0.9115026 & -0.9673206 & -0.9852754 & -0.9993483 & -0.9865648 & -0.9977279 & -1 & -1 & -1.0000000 & -0.302224840 & 0.37903209 & -0.45722246 & 0.53679840 & -0.1981248 & 0.12718522 & -0.1075539 & 0.1113645 & -0.1579059 & 0.1753748 & -0.1927680 & 0.2079647 & -0.5639509 &  0.4664707 & 0.4430971 & 0.07793244 & 0.018684046 &  0.009344434 & -0.9948136 & -0.9887145 & -0.9922663 & -0.9952418 & -0.9868467 & -0.9910667 & -0.9941054 & -0.9918178 & -0.9926493 & 0.9943032 & 0.9933463 & 0.9856091 & -0.9934730 & -0.9999512 & -0.9998278 & -0.9998560 & -0.9952809 & -0.9873590 & -0.9895520 & -0.7787178 & -0.7549682 & -0.7908859 & 0.2806858 &  0.10044972 & 0.2597405 & 0.2019468 & 0.35057743 & -0.077269461 & 0.5626646 & 0.3519760 & 0.3686890 &  0.04338534 & 0.1473115 &  0.2991720 & -0.3746109 &  0.04182570 & -0.11178209 & -0.028775508 & -0.07039311 & 0.07901214 & -0.9851808 & -0.9921175 & -0.9830768 & -0.9857856 & -0.9922687 & -0.9827049 & -0.8701541 & -0.9533597 & -0.7463994 & 0.8398080 & 0.9111845 & 0.8188267 & -0.9852143 & -0.9998740 & -0.9999466 & -0.9997780 & -0.9853373 & -0.9929940 & -0.9837056 & -0.363801070 & -0.3705079 & -0.4621260 & -0.40282673 &  0.24203652 & 0.05913935 &  0.03028356 & -0.11969243 &  0.15061703 & -0.38093733 & 0.57330854 & 0.10377464 & -0.2276797 & 0.1382413 &  0.3461755 & -0.44810249 &  0.64501358 & -0.7459792 & -0.09424758 & -0.04335526 & -0.04193600 & -0.9916216 & -0.9960147 & -0.9930906 & -0.9930196 & -0.9960382 & -0.9926340 & -0.9798455 & -0.9975093 & -0.9934198 & 0.9938443 & 0.9974531 & 0.9965279 & -0.9952321 & -0.9999316 & -0.9999824 & -0.9999362 & -0.9937336 & -0.9961224 & -0.9919696 & -0.6278635 & -0.6805905 & -0.5418971 & -0.265496090 &  0.05580409 & -0.04563533 &  0.23627625 & -0.12219895 &  0.268114140 & -0.19369246 & -0.005319577 & 0.2034059 & -0.2967479 &  0.06993358 & -0.012261880 &  0.01791207 &  0.18667289 & -0.3211694 & -0.9942950 & -0.9952490 & -0.9950094 & -0.9957457 & -0.9941746 & -0.9942950 & -0.9999199 & -0.9934632 & -0.7852715 &  0.37033862 & -0.39345190 &  0.5634830200 & -0.48154569 & -0.9942950 & -0.9952490 & -0.9950094 & -0.9957457 & -0.9941746 & -0.9942950 & -0.9999199 & -0.9934632 & -0.7852715 &  0.37033862 & -0.39345190 &  0.5634830200 & -0.48154569 & -0.9930177 & -0.9954243 & -0.9955274 & -0.9932829 & -0.9931750 & -0.9930177 & -0.9998927 & -0.9950223 & -0.8713030 & 0.07270727 &  0.01781662 & -0.06858817 & -0.16618196 & -0.9858944 & -0.9864403 & -0.9863046 & -0.9870285 & -0.9903605 & -0.9858944 & -0.9998297 & -0.9892783 & -0.24494596 & -0.1726625 & -0.007801159 & 0.09589124 &  0.06975596 & -0.9952748 & -0.9952050 & -0.9960696 & -0.9923893 & -0.9927537 & -0.9952748 & -0.9999686 & -0.9961068 & -0.7510922 & 0.1787599 & -0.1814449 &  0.04957464 & -0.168852760 & -0.9966567 & -0.9869395 & -0.9927386 & -0.9976438 & -0.9922637 & -0.9970459 & -0.9966048 & -0.9898989 & -0.9950483 & -0.9985979 & -0.9934144 & -0.9983060 & -0.9956786 & -0.9952322 & -0.9863281 & -0.9950023 & -0.9999849 & -0.9998596 & -0.9999139 & -0.9948238 & -0.9869223 & -0.9878261 & -1.0000000 & -0.9448704 & -1.0000000 & -0.61290323 & -1 & -1 & 0.15738377 &  0.31883523 &  0.60559943 & -0.6310530 & -0.9349031 & -0.6607821 & -0.89938137 & -0.88068961 & -0.963631110 & -0.9999903 & -0.9999831 & -0.9999213 & -0.9999267 & -0.9999410 & -0.9999081 & -0.9999635 & -0.9999974 & -0.9999897 & -0.9999166 & -0.9999438 & -0.9999749 & -0.9999865 & -0.9999294 & -0.9998785 & -0.9999271 & -0.9998145 & -0.9997641 & -0.9998370 & -0.9997239 & -0.9996215 & -0.9999073 & -0.9998860 & -0.9997602 & -0.9998075 & -0.9997302 & -0.9998646 & -0.9997870 & -0.9999423 & -0.9998171 & -0.9998803 & -0.9998224 & -0.9997649 & -0.9994852 & -0.9996778 & -0.9999048 & -0.9999262 & -0.9998927 & -0.9997213 & -0.9997523 & -0.9999238 & -0.9998103 & -0.9948507 & -0.9882443 & -0.9901575 & -0.9952180 & -0.9901788 & -0.9930667 & -0.9931267 & -0.9898364 & -0.9918185 & -0.9969799 & -0.9928015 & -0.9942166 & -0.9960982 & -0.9990643 & -0.9848585 & -0.9922249 & -0.9999511 & -0.9998280 & -0.9998562 & -0.9913534 & -0.9910572 & -0.9877527 & -1 & -1 & -1 & -0.32 & -0.36 &  0.52 & 0.32883589 &  0.05477140 & 0.32094497 & -0.5946287 & -0.9053384 & -0.6649723 & -0.9564599 & -0.7225990 & -0.9432911 & -0.9999878 & -0.9999855 & -0.9999309 & -0.9999155 & -0.9999256 & -0.9998590 & -0.9999402 & -0.9999969 & -0.9999866 & -0.9999185 & -0.9999058 & -0.9999407 & -0.9999674 & -0.9998864 & -0.9999001 & -0.9999422 & -0.9997838 & -0.9998103 & -0.9998735 & -0.9996886 & -0.9995826 & -0.9999992 & -0.9999309 & -0.9997619 & -0.9998114 & -0.9996392 & -0.9998566 & -0.9998302 & -0.9998633 & -0.9997931 & -0.9999047 & -0.9998218 & -0.9997550 & -0.9996238 & -0.9993829 & -0.9999102 & -0.9998077 & -0.9998937 & -0.9997069 & -0.9994048 & -0.9998907 & -0.9998027 & -0.9848902 & -0.9927862 & -0.9807784 & -0.9852871 & -0.9916595 & -0.9853661 & -0.9834343 & -0.9929105 & -0.9840883 & -0.9829656 & -0.9931990 & -0.9876443 & -0.9993609 & -0.9978452 & -0.9816007 & -0.9876105 & -0.9998615 & -0.9999484 & -0.9997811 & -0.9883218 & -0.9940861 & -0.9904452 & -0.6781863 & -0.8082872 & -0.7510797 & -0.9333333 & -0.9354839 & -0.9310345 & -0.36303968 & -0.13323831 &  0.19483324 & -0.004027766 & -0.3231587 & -0.2900701 & -0.70538442 & -0.2350403 & -0.6081425 & -0.9998650 & -0.9999123 & -0.9999742 & -0.9999722 & -0.9999759 & -0.9999721 & -0.9999598 & -0.9999847 & -0.9998604 & -0.9999700 & -0.9999733 & -0.9999708 & -0.9998617 & -0.9999732 & -0.9999263 & -0.9999897 & -0.9999942 & -0.9999842 & -0.9999678 & -0.9999921 & -0.9999660 & -0.9999886 & -0.9999445 & -0.9999900 & -0.9999729 & -0.9999712 & -0.9999463 & -0.9999799 & -0.9998227 & -0.9998868 & -0.9999526 & -0.9999220 & -0.9998569 & -0.9998545 & -0.9995571 & -0.9996430 & -0.9997954 & -0.9999197 & -0.9998617 & -0.9995947 & -0.9997918 & -0.9999052 & -0.9948360 & -0.9952833 & -0.9938512 & -0.9953650 & -0.9894722 & -0.9948360 & -0.9999390 & -0.9921667 & -1.0000000 & -1.0000000 &  0.43796212 & -0.5946439 & -0.8091864 & -0.9947329 & -0.9951562 & -0.9942986 & -0.9944851 & -0.9830483 & -0.9947329 & -0.9999370 & -0.9966966 & -1 & -1.0000000 & 0.2469096 & -0.5208793 & -0.8025254 & -0.9905000 & -0.9858609 & -0.9855120 & -0.9882041 & -0.9947578 & -0.9905000 & -0.9998606 & -0.9919667 & -0.7685767 & -1.0000000 & -0.2973291 & -0.3460445 & -0.7272705 & -0.9951433 & -0.9952387 & -0.9943979 & -0.9960880 & -0.9985194 & -0.9951433 & -0.9999740 & -0.9945305 & -1.0000000 & -1.0000000 &  0.01995331 & -0.5454101 & -0.8446193 &  0.08263215 & -0.143439010 &  0.2750408 & -0.36822404 & -0.8496316 & 0.1848225 & -0.04212638\\\\\n\\end{tabular}\n",
            "text/markdown": "\nA data.frame: 6 × 561\n\n| X1.tBodyAcc.mean...X &lt;dbl&gt; | X2.tBodyAcc.mean...Y &lt;dbl&gt; | X3.tBodyAcc.mean...Z &lt;dbl&gt; | X4.tBodyAcc.std...X &lt;dbl&gt; | X5.tBodyAcc.std...Y &lt;dbl&gt; | X6.tBodyAcc.std...Z &lt;dbl&gt; | X7.tBodyAcc.mad...X &lt;dbl&gt; | X8.tBodyAcc.mad...Y &lt;dbl&gt; | X9.tBodyAcc.mad...Z &lt;dbl&gt; | X10.tBodyAcc.max...X &lt;dbl&gt; | ⋯ ⋯ | X552.fBodyBodyGyroJerkMag.meanFreq.. &lt;dbl&gt; | X553.fBodyBodyGyroJerkMag.skewness.. &lt;dbl&gt; | X554.fBodyBodyGyroJerkMag.kurtosis.. &lt;dbl&gt; | X555.angle.tBodyAccMean.gravity. &lt;dbl&gt; | X556.angle.tBodyAccJerkMean..gravityMean. &lt;dbl&gt; | X557.angle.tBodyGyroMean.gravityMean. &lt;dbl&gt; | X558.angle.tBodyGyroJerkMean.gravityMean. &lt;dbl&gt; | X559.angle.X.gravityMean. &lt;dbl&gt; | X560.angle.Y.gravityMean. &lt;dbl&gt; | X561.angle.Z.gravityMean. &lt;dbl&gt; |\n|---|---|---|---|---|---|---|---|---|---|---|---|---|---|---|---|---|---|---|---|---|\n| 0.2885845 | -0.02029417 | -0.1329051 | -0.9952786 | -0.9831106 | -0.9135264 | -0.9951121 | -0.9831846 | -0.9235270 | -0.9347238 | ⋯ | -0.07432303 | -0.2986764 | -0.7103041 | -0.11275434 |  0.030400372 | -0.4647614 | -0.01844588 | -0.8412468 | 0.1799406 | -0.05862692 |\n| 0.2784188 | -0.01641057 | -0.1235202 | -0.9982453 | -0.9753002 | -0.9603220 | -0.9988072 | -0.9749144 | -0.9576862 | -0.9430675 | ⋯ |  0.15807454 | -0.5950509 | -0.8614993 |  0.05347695 | -0.007434566 | -0.7326262 |  0.70351059 | -0.8447876 | 0.1802889 | -0.05431672 |\n| 0.2796531 | -0.01946716 | -0.1134617 | -0.9953796 | -0.9671870 | -0.9789440 | -0.9965199 | -0.9636684 | -0.9774686 | -0.9386916 | ⋯ |  0.41450281 | -0.3907482 | -0.7601037 | -0.11855926 |  0.177899480 |  0.1006992 |  0.80852908 | -0.8489335 | 0.1806373 | -0.04911782 |\n| 0.2791739 | -0.02620065 | -0.1232826 | -0.9960915 | -0.9834027 | -0.9906751 | -0.9970995 | -0.9827498 | -0.9893025 | -0.9386916 | ⋯ |  0.40457253 | -0.1172902 | -0.4828445 | -0.03678797 | -0.012892494 |  0.6400110 | -0.48536645 | -0.8486494 | 0.1819348 | -0.04766318 |\n| 0.2766288 | -0.01656965 | -0.1153619 | -0.9981386 | -0.9808173 | -0.9904816 | -0.9983211 | -0.9796719 | -0.9904411 | -0.9424691 | ⋯ |  0.08775301 | -0.3514709 | -0.6992052 |  0.12332005 |  0.122541960 |  0.6935783 | -0.61597061 | -0.8478653 | 0.1851512 | -0.04389225 |\n| 0.2771988 | -0.01009785 | -0.1051373 | -0.9973350 | -0.9904868 | -0.9954200 | -0.9976274 | -0.9902177 | -0.9955489 | -0.9424691 | ⋯ |  0.01995331 | -0.5454101 | -0.8446193 |  0.08263215 | -0.143439010 |  0.2750408 | -0.36822404 | -0.8496316 | 0.1848225 | -0.04212638 |\n\n",
            "text/html": [
              "<table>\n",
              "<caption>A data.frame: 6 × 561</caption>\n",
              "<thead>\n",
              "\t<tr><th scope=col>X1.tBodyAcc.mean...X</th><th scope=col>X2.tBodyAcc.mean...Y</th><th scope=col>X3.tBodyAcc.mean...Z</th><th scope=col>X4.tBodyAcc.std...X</th><th scope=col>X5.tBodyAcc.std...Y</th><th scope=col>X6.tBodyAcc.std...Z</th><th scope=col>X7.tBodyAcc.mad...X</th><th scope=col>X8.tBodyAcc.mad...Y</th><th scope=col>X9.tBodyAcc.mad...Z</th><th scope=col>X10.tBodyAcc.max...X</th><th scope=col>⋯</th><th scope=col>X552.fBodyBodyGyroJerkMag.meanFreq..</th><th scope=col>X553.fBodyBodyGyroJerkMag.skewness..</th><th scope=col>X554.fBodyBodyGyroJerkMag.kurtosis..</th><th scope=col>X555.angle.tBodyAccMean.gravity.</th><th scope=col>X556.angle.tBodyAccJerkMean..gravityMean.</th><th scope=col>X557.angle.tBodyGyroMean.gravityMean.</th><th scope=col>X558.angle.tBodyGyroJerkMean.gravityMean.</th><th scope=col>X559.angle.X.gravityMean.</th><th scope=col>X560.angle.Y.gravityMean.</th><th scope=col>X561.angle.Z.gravityMean.</th></tr>\n",
              "\t<tr><th scope=col>&lt;dbl&gt;</th><th scope=col>&lt;dbl&gt;</th><th scope=col>&lt;dbl&gt;</th><th scope=col>&lt;dbl&gt;</th><th scope=col>&lt;dbl&gt;</th><th scope=col>&lt;dbl&gt;</th><th scope=col>&lt;dbl&gt;</th><th scope=col>&lt;dbl&gt;</th><th scope=col>&lt;dbl&gt;</th><th scope=col>&lt;dbl&gt;</th><th scope=col>⋯</th><th scope=col>&lt;dbl&gt;</th><th scope=col>&lt;dbl&gt;</th><th scope=col>&lt;dbl&gt;</th><th scope=col>&lt;dbl&gt;</th><th scope=col>&lt;dbl&gt;</th><th scope=col>&lt;dbl&gt;</th><th scope=col>&lt;dbl&gt;</th><th scope=col>&lt;dbl&gt;</th><th scope=col>&lt;dbl&gt;</th><th scope=col>&lt;dbl&gt;</th></tr>\n",
              "</thead>\n",
              "<tbody>\n",
              "\t<tr><td>0.2885845</td><td>-0.02029417</td><td>-0.1329051</td><td>-0.9952786</td><td>-0.9831106</td><td>-0.9135264</td><td>-0.9951121</td><td>-0.9831846</td><td>-0.9235270</td><td>-0.9347238</td><td>⋯</td><td>-0.07432303</td><td>-0.2986764</td><td>-0.7103041</td><td>-0.11275434</td><td> 0.030400372</td><td>-0.4647614</td><td>-0.01844588</td><td>-0.8412468</td><td>0.1799406</td><td>-0.05862692</td></tr>\n",
              "\t<tr><td>0.2784188</td><td>-0.01641057</td><td>-0.1235202</td><td>-0.9982453</td><td>-0.9753002</td><td>-0.9603220</td><td>-0.9988072</td><td>-0.9749144</td><td>-0.9576862</td><td>-0.9430675</td><td>⋯</td><td> 0.15807454</td><td>-0.5950509</td><td>-0.8614993</td><td> 0.05347695</td><td>-0.007434566</td><td>-0.7326262</td><td> 0.70351059</td><td>-0.8447876</td><td>0.1802889</td><td>-0.05431672</td></tr>\n",
              "\t<tr><td>0.2796531</td><td>-0.01946716</td><td>-0.1134617</td><td>-0.9953796</td><td>-0.9671870</td><td>-0.9789440</td><td>-0.9965199</td><td>-0.9636684</td><td>-0.9774686</td><td>-0.9386916</td><td>⋯</td><td> 0.41450281</td><td>-0.3907482</td><td>-0.7601037</td><td>-0.11855926</td><td> 0.177899480</td><td> 0.1006992</td><td> 0.80852908</td><td>-0.8489335</td><td>0.1806373</td><td>-0.04911782</td></tr>\n",
              "\t<tr><td>0.2791739</td><td>-0.02620065</td><td>-0.1232826</td><td>-0.9960915</td><td>-0.9834027</td><td>-0.9906751</td><td>-0.9970995</td><td>-0.9827498</td><td>-0.9893025</td><td>-0.9386916</td><td>⋯</td><td> 0.40457253</td><td>-0.1172902</td><td>-0.4828445</td><td>-0.03678797</td><td>-0.012892494</td><td> 0.6400110</td><td>-0.48536645</td><td>-0.8486494</td><td>0.1819348</td><td>-0.04766318</td></tr>\n",
              "\t<tr><td>0.2766288</td><td>-0.01656965</td><td>-0.1153619</td><td>-0.9981386</td><td>-0.9808173</td><td>-0.9904816</td><td>-0.9983211</td><td>-0.9796719</td><td>-0.9904411</td><td>-0.9424691</td><td>⋯</td><td> 0.08775301</td><td>-0.3514709</td><td>-0.6992052</td><td> 0.12332005</td><td> 0.122541960</td><td> 0.6935783</td><td>-0.61597061</td><td>-0.8478653</td><td>0.1851512</td><td>-0.04389225</td></tr>\n",
              "\t<tr><td>0.2771988</td><td>-0.01009785</td><td>-0.1051373</td><td>-0.9973350</td><td>-0.9904868</td><td>-0.9954200</td><td>-0.9976274</td><td>-0.9902177</td><td>-0.9955489</td><td>-0.9424691</td><td>⋯</td><td> 0.01995331</td><td>-0.5454101</td><td>-0.8446193</td><td> 0.08263215</td><td>-0.143439010</td><td> 0.2750408</td><td>-0.36822404</td><td>-0.8496316</td><td>0.1848225</td><td>-0.04212638</td></tr>\n",
              "</tbody>\n",
              "</table>\n"
            ]
          },
          "metadata": {
            "tags": []
          }
        }
      ]
    },
    {
      "cell_type": "code",
      "metadata": {
        "id": "EM5SmAV1s3Ou",
        "colab_type": "code",
        "outputId": "c18eda9b-359e-479e-a21b-f9a12f452e8c",
        "colab": {
          "base_uri": "https://localhost:8080/",
          "height": 221
        }
      },
      "source": [
        "require(dplyr)\n",
        "\n",
        "train_y %>% group_by(label) %>% summarize(n=n())"
      ],
      "execution_count": 0,
      "outputs": [
        {
          "output_type": "display_data",
          "data": {
            "text/plain": [
              "  label n   \n",
              "1 1     1226\n",
              "2 2     1073\n",
              "3 3      986\n",
              "4 4     1286\n",
              "5 5     1374\n",
              "6 6     1407"
            ],
            "text/latex": "A tibble: 6 × 2\n\\begin{tabular}{r|ll}\n label & n\\\\\n <int> & <int>\\\\\n\\hline\n\t 1 & 1226\\\\\n\t 2 & 1073\\\\\n\t 3 &  986\\\\\n\t 4 & 1286\\\\\n\t 5 & 1374\\\\\n\t 6 & 1407\\\\\n\\end{tabular}\n",
            "text/markdown": "\nA tibble: 6 × 2\n\n| label &lt;int&gt; | n &lt;int&gt; |\n|---|---|\n| 1 | 1226 |\n| 2 | 1073 |\n| 3 |  986 |\n| 4 | 1286 |\n| 5 | 1374 |\n| 6 | 1407 |\n\n",
            "text/html": [
              "<table>\n",
              "<caption>A tibble: 6 × 2</caption>\n",
              "<thead>\n",
              "\t<tr><th scope=col>label</th><th scope=col>n</th></tr>\n",
              "\t<tr><th scope=col>&lt;int&gt;</th><th scope=col>&lt;int&gt;</th></tr>\n",
              "</thead>\n",
              "<tbody>\n",
              "\t<tr><td>1</td><td>1226</td></tr>\n",
              "\t<tr><td>2</td><td>1073</td></tr>\n",
              "\t<tr><td>3</td><td> 986</td></tr>\n",
              "\t<tr><td>4</td><td>1286</td></tr>\n",
              "\t<tr><td>5</td><td>1374</td></tr>\n",
              "\t<tr><td>6</td><td>1407</td></tr>\n",
              "</tbody>\n",
              "</table>\n"
            ]
          },
          "metadata": {
            "tags": []
          }
        }
      ]
    },
    {
      "cell_type": "code",
      "metadata": {
        "id": "bL2ReP5Owfw2",
        "colab_type": "code",
        "colab": {}
      },
      "source": [
        "train_y <- to_categorical(train_y - 1, num_classes=6)"
      ],
      "execution_count": 0,
      "outputs": []
    },
    {
      "cell_type": "code",
      "metadata": {
        "id": "-Zph1YCvw_e5",
        "colab_type": "code",
        "colab": {}
      },
      "source": [
        "model = keras_model_sequential() %>%   \n",
        "  layer_dense(units = 128, activation = \"relu\", input_shape = ncol(train_x)) %>%\n",
        "  layer_dense(units = 64, activation = \"relu\") %>%\n",
        "  layer_dropout(0.4) %>%\n",
        "  layer_dense(units = ncol(train_y), activation = \"softmax\")"
      ],
      "execution_count": 0,
      "outputs": []
    },
    {
      "cell_type": "code",
      "metadata": {
        "id": "vQastVCcxmvT",
        "colab_type": "code",
        "outputId": "89ebc3dc-c7fa-4c2e-9a7f-4f48fccd5737",
        "colab": {
          "base_uri": "https://localhost:8080/",
          "height": 272
        }
      },
      "source": [
        "summary(model)"
      ],
      "execution_count": 0,
      "outputs": [
        {
          "output_type": "stream",
          "text": [
            "________________________________________________________________________________\n",
            "Layer (type)                        Output Shape                    Param #     \n",
            "================================================================================\n",
            "dense_12 (Dense)                    (None, 128)                     71936       \n",
            "________________________________________________________________________________\n",
            "dense_13 (Dense)                    (None, 64)                      8256        \n",
            "________________________________________________________________________________\n",
            "dropout_1 (Dropout)                 (None, 64)                      0           \n",
            "________________________________________________________________________________\n",
            "dense_14 (Dense)                    (None, 6)                       390         \n",
            "================================================================================\n",
            "Total params: 80,582\n",
            "Trainable params: 80,582\n",
            "Non-trainable params: 0\n",
            "________________________________________________________________________________\n"
          ],
          "name": "stdout"
        }
      ]
    },
    {
      "cell_type": "code",
      "metadata": {
        "id": "DpoBtrE6x6Zx",
        "colab_type": "code",
        "colab": {}
      },
      "source": [
        "compile(model, loss = \"categorical_crossentropy\", optimizer = \"adagrad\", metrics = \"accuracy\")"
      ],
      "execution_count": 0,
      "outputs": []
    },
    {
      "cell_type": "code",
      "metadata": {
        "id": "wlRcVbS1yNNF",
        "colab_type": "code",
        "colab": {}
      },
      "source": [
        "history <- fit(model,  as.matrix(train_x), train_y, epochs = 40, batch_size = 128, validation_split = 0.2)"
      ],
      "execution_count": 0,
      "outputs": []
    },
    {
      "cell_type": "code",
      "metadata": {
        "id": "FoxjMtQJyuWO",
        "colab_type": "code",
        "outputId": "667be9fd-049a-42ca-a7e1-d013272280b4",
        "colab": {
          "base_uri": "https://localhost:8080/",
          "height": 497
        }
      },
      "source": [
        "plot(history)"
      ],
      "execution_count": 0,
      "outputs": [
        {
          "output_type": "display_data",
          "data": {
            "image/png": "[encoded data removed]",
            "text/plain": [
              "plot without title"
            ]
          },
          "metadata": {
            "tags": []
          }
        }
      ]
    },
    {
      "cell_type": "code",
      "metadata": {
        "id": "jO-3u1uzzqq7",
        "colab_type": "code",
        "colab": {}
      },
      "source": [
        "test_y <- to_categorical(test_y -1 , num_classes=6)"
      ],
      "execution_count": 0,
      "outputs": []
    },
    {
      "cell_type": "code",
      "metadata": {
        "id": "WKBdnImCz5B9",
        "colab_type": "code",
        "outputId": "3148bed3-c8c9-4cf8-8599-16622a098522",
        "colab": {
          "base_uri": "https://localhost:8080/",
          "height": 113
        }
      },
      "source": [
        "evaluate(model, as.matrix(test_x), test_y, verbose=0)"
      ],
      "execution_count": 0,
      "outputs": [
        {
          "output_type": "display_data",
          "data": {
            "text/plain": [
              "$loss\n",
              "[1] 0.1652824\n",
              "\n",
              "$acc\n",
              "[1] 0.9389209\n"
            ],
            "text/latex": "\\begin{description}\n\\item[\\$loss] 0.165282361124817\n\\item[\\$acc] 0.938920915126801\n\\end{description}\n",
            "text/markdown": "$loss\n:   0.165282361124817\n$acc\n:   0.938920915126801\n\n\n",
            "text/html": [
              "<dl>\n",
              "\t<dt>$loss</dt>\n",
              "\t\t<dd>0.165282361124817</dd>\n",
              "\t<dt>$acc</dt>\n",
              "\t\t<dd>0.938920915126801</dd>\n",
              "</dl>\n"
            ]
          },
          "metadata": {
            "tags": []
          }
        }
      ]
    },
    {
      "cell_type": "code",
      "metadata": {
        "id": "kMyvNzQW4oGc",
        "colab_type": "code",
        "colab": {}
      },
      "source": [
        "model2 = keras_model_sequential() %>%   \n",
        "  layer_dense(units = 256, activation = \"relu\", input_shape = ncol(train_x)) %>%\n",
        "  layer_dropout(0.5) %>%\n",
        "  layer_dense(units = 16, activation = \"relu\") %>%\n",
        "  layer_dropout(0.5) %>%\n",
        "  layer_dense(units = ncol(train_y), activation = \"softmax\")"
      ],
      "execution_count": 0,
      "outputs": []
    },
    {
      "cell_type": "code",
      "metadata": {
        "id": "Zuus3uuj42IT",
        "colab_type": "code",
        "colab": {}
      },
      "source": [
        "compile(model2, loss = \"categorical_crossentropy\", optimizer = \"adagrad\", metrics = \"accuracy\")"
      ],
      "execution_count": 0,
      "outputs": []
    },
    {
      "cell_type": "code",
      "metadata": {
        "id": "atLIeeQW49vZ",
        "colab_type": "code",
        "colab": {}
      },
      "source": [
        "hist <- fit(model2,  as.matrix(train_x), train_y, epochs = 50, batch_size = 128, validation_split = 0.2)"
      ],
      "execution_count": 0,
      "outputs": []
    },
    {
      "cell_type": "code",
      "metadata": {
        "id": "WqSUhOzl5Jtm",
        "colab_type": "code",
        "outputId": "a726d727-4bd7-412b-a9ed-81e605b20268",
        "colab": {
          "base_uri": "https://localhost:8080/",
          "height": 497
        }
      },
      "source": [
        "plot(hist)"
      ],
      "execution_count": 0,
      "outputs": [
        {
          "output_type": "display_data",
          "data": {
            "image/png": "[encoded data removed]",
            "text/plain": [
              "plot without title"
            ]
          },
          "metadata": {
            "tags": []
          }
        }
      ]
    },
    {
      "cell_type": "code",
      "metadata": {
        "id": "Jz5uEpsc5TCQ",
        "colab_type": "code",
        "outputId": "08e98679-02e2-48b5-8ac1-83cc0764e16c",
        "colab": {
          "base_uri": "https://localhost:8080/",
          "height": 113
        }
      },
      "source": [
        "evaluate(model2, as.matrix(test_x), test_y, verbose=0)"
      ],
      "execution_count": 0,
      "outputs": [
        {
          "output_type": "display_data",
          "data": {
            "text/plain": [
              "$loss\n",
              "[1] 0.2145607\n",
              "\n",
              "$acc\n",
              "[1] 0.9450288\n"
            ],
            "text/latex": "\\begin{description}\n\\item[\\$loss] 0.214560672705214\n\\item[\\$acc] 0.945028841495514\n\\end{description}\n",
            "text/markdown": "$loss\n:   0.214560672705214\n$acc\n:   0.945028841495514\n\n\n",
            "text/html": [
              "<dl>\n",
              "\t<dt>$loss</dt>\n",
              "\t\t<dd>0.214560672705214</dd>\n",
              "\t<dt>$acc</dt>\n",
              "\t\t<dd>0.945028841495514</dd>\n",
              "</dl>\n"
            ]
          },
          "metadata": {
            "tags": []
          }
        }
      ]
    },
    {
      "cell_type": "code",
      "metadata": {
        "id": "6CUGYC6r9FmK",
        "colab_type": "code",
        "outputId": "b48832a9-c64e-46d7-d378-b7e1938013a8",
        "colab": {
          "base_uri": "https://localhost:8080/",
          "height": 96
        }
      },
      "source": [
        "y <-read.table(\"/content/UCI HAR Dataset/train/y_train.txt\")\n",
        "colnames(y) <- \"label\"\n",
        "class(y %>% group_by(label) %>% summarize(n=n()))"
      ],
      "execution_count": 0,
      "outputs": [
        {
          "output_type": "display_data",
          "data": {
            "text/plain": [
              "[1] \"tbl_df\"     \"tbl\"        \"data.frame\""
            ],
            "text/latex": "\\begin{enumerate*}\n\\item 'tbl\\_df'\n\\item 'tbl'\n\\item 'data.frame'\n\\end{enumerate*}\n",
            "text/markdown": "1. 'tbl_df'\n2. 'tbl'\n3. 'data.frame'\n\n\n",
            "text/html": [
              "<ol class=list-inline>\n",
              "\t<li>'tbl_df'</li>\n",
              "\t<li>'tbl'</li>\n",
              "\t<li>'data.frame'</li>\n",
              "</ol>\n"
            ]
          },
          "metadata": {
            "tags": []
          }
        }
      ]
    },
    {
      "cell_type": "code",
      "metadata": {
        "id": "RjPJiMQ8-ZKr",
        "colab_type": "code",
        "outputId": "6eaae374-cd3e-42dd-8c3f-e54f67fbb71a",
        "colab": {
          "base_uri": "https://localhost:8080/",
          "height": 249
        }
      },
      "source": [
        "list(y %>% group_by(label) %>% summarize(n=n()))"
      ],
      "execution_count": 0,
      "outputs": [
        {
          "output_type": "display_data",
          "data": {
            "text/plain": [
              "[[1]]\n",
              "\u001b[90m# A tibble: 6 x 2\u001b[39m\n",
              "  label     n\n",
              "  \u001b[3m\u001b[90m<int>\u001b[39m\u001b[23m \u001b[3m\u001b[90m<int>\u001b[39m\u001b[23m\n",
              "\u001b[90m1\u001b[39m     1  \u001b[4m1\u001b[24m226\n",
              "\u001b[90m2\u001b[39m     2  \u001b[4m1\u001b[24m073\n",
              "\u001b[90m3\u001b[39m     3   986\n",
              "\u001b[90m4\u001b[39m     4  \u001b[4m1\u001b[24m286\n",
              "\u001b[90m5\u001b[39m     5  \u001b[4m1\u001b[24m374\n",
              "\u001b[90m6\u001b[39m     6  \u001b[4m1\u001b[24m407\n"
            ],
            "text/latex": "\\begin{enumerate}\n\\item A tibble: 6 × 2\n\\begin{tabular}{r|ll}\n label & n\\\\\n <int> & <int>\\\\\n\\hline\n\t 1 & 1226\\\\\n\t 2 & 1073\\\\\n\t 3 &  986\\\\\n\t 4 & 1286\\\\\n\t 5 & 1374\\\\\n\t 6 & 1407\\\\\n\\end{tabular}\n\n\\end{enumerate}\n",
            "text/markdown": "1. \nA tibble: 6 × 2\n\n| label &lt;int&gt; | n &lt;int&gt; |\n|---|---|\n| 1 | 1226 |\n| 2 | 1073 |\n| 3 |  986 |\n| 4 | 1286 |\n| 5 | 1374 |\n| 6 | 1407 |\n\n\n\n\n",
            "text/html": [
              "<ol>\n",
              "\t<li><table>\n",
              "<caption>A tibble: 6 × 2</caption>\n",
              "<thead>\n",
              "\t<tr><th scope=col>label</th><th scope=col>n</th></tr>\n",
              "\t<tr><th scope=col>&lt;int&gt;</th><th scope=col>&lt;int&gt;</th></tr>\n",
              "</thead>\n",
              "<tbody>\n",
              "\t<tr><td>1</td><td>1226</td></tr>\n",
              "\t<tr><td>2</td><td>1073</td></tr>\n",
              "\t<tr><td>3</td><td> 986</td></tr>\n",
              "\t<tr><td>4</td><td>1286</td></tr>\n",
              "\t<tr><td>5</td><td>1374</td></tr>\n",
              "\t<tr><td>6</td><td>1407</td></tr>\n",
              "</tbody>\n",
              "</table>\n",
              "</li>\n",
              "</ol>\n"
            ]
          },
          "metadata": {
            "tags": []
          }
        }
      ]
    },
    {
      "cell_type": "code",
      "metadata": {
        "id": "VAjYji_1-ocG",
        "colab_type": "code",
        "colab": {}
      },
      "source": [
        "cn  <- c(1226, 1073, 986, 1286, 1374, 1407)\n",
        "cn  <- 7352/cn\n",
        "cn <- cn/7\n",
        "nm <- c(0,1,2,3,4,5)\n",
        "cn <- setNames(as.list(cn), nm)\n",
        "#cn <- cn/7"
      ],
      "execution_count": 0,
      "outputs": []
    },
    {
      "cell_type": "code",
      "metadata": {
        "id": "3r3-9ZcgBWw9",
        "colab_type": "code",
        "outputId": "06554500-c88f-45cd-80d3-e6255c5e3846",
        "colab": {
          "base_uri": "https://localhost:8080/",
          "height": 249
        }
      },
      "source": [
        "cn"
      ],
      "execution_count": 0,
      "outputs": [
        {
          "output_type": "display_data",
          "data": {
            "text/plain": [
              "$`0`\n",
              "[1] 0.8566768\n",
              "\n",
              "$`1`\n",
              "[1] 0.978831\n",
              "\n",
              "$`2`\n",
              "[1] 1.065198\n",
              "\n",
              "$`3`\n",
              "[1] 0.8167074\n",
              "\n",
              "$`4`\n",
              "[1] 0.7644001\n",
              "\n",
              "$`5`\n",
              "[1] 0.7464717\n"
            ],
            "text/latex": "\\begin{description}\n\\item[\\$`0`] 0.856676765322769\n\\item[\\$`1`] 0.978831047796565\n\\item[\\$`2`] 1.06519849319038\n\\item[\\$`3`] 0.816707398355921\n\\item[\\$`4`] 0.764400083177376\n\\item[\\$`5`] 0.746471723017565\n\\end{description}\n",
            "text/markdown": "$`0`\n:   0.856676765322769\n$`1`\n:   0.978831047796565\n$`2`\n:   1.06519849319038\n$`3`\n:   0.816707398355921\n$`4`\n:   0.764400083177376\n$`5`\n:   0.746471723017565\n\n\n",
            "text/html": [
              "<dl>\n",
              "\t<dt>$`0`</dt>\n",
              "\t\t<dd>0.856676765322769</dd>\n",
              "\t<dt>$`1`</dt>\n",
              "\t\t<dd>0.978831047796565</dd>\n",
              "\t<dt>$`2`</dt>\n",
              "\t\t<dd>1.06519849319038</dd>\n",
              "\t<dt>$`3`</dt>\n",
              "\t\t<dd>0.816707398355921</dd>\n",
              "\t<dt>$`4`</dt>\n",
              "\t\t<dd>0.764400083177376</dd>\n",
              "\t<dt>$`5`</dt>\n",
              "\t\t<dd>0.746471723017565</dd>\n",
              "</dl>\n"
            ]
          },
          "metadata": {
            "tags": []
          }
        }
      ]
    },
    {
      "cell_type": "code",
      "metadata": {
        "id": "cjZRwK6d-7Od",
        "colab_type": "code",
        "colab": {}
      },
      "source": [
        "model3 = keras_model_sequential() %>%   \n",
        "  layer_dense(units = 128, activation = \"relu\", input_shape = ncol(train_x)) %>%\n",
        "  layer_dropout(0.4) %>%\n",
        "  layer_dense(units = 16, activation = \"relu\") %>%\n",
        "  layer_dropout(0.3) %>%\n",
        "  layer_dense(units = ncol(train_y), activation = \"softmax\")"
      ],
      "execution_count": 0,
      "outputs": []
    },
    {
      "cell_type": "code",
      "metadata": {
        "id": "IH1l5fFv_XES",
        "colab_type": "code",
        "colab": {}
      },
      "source": [
        "compile(model3, loss = \"categorical_crossentropy\", optimizer = \"adagrad\", metrics = \"accuracy\")"
      ],
      "execution_count": 0,
      "outputs": []
    },
    {
      "cell_type": "code",
      "metadata": {
        "id": "j-GQU8Ly_d0r",
        "colab_type": "code",
        "colab": {}
      },
      "source": [
        "his <- fit(model3,  as.matrix(train_x), train_y, class_weight= cn, epochs = 50, batch_size = 128, validation_split = 0.2)"
      ],
      "execution_count": 0,
      "outputs": []
    },
    {
      "cell_type": "code",
      "metadata": {
        "id": "DQgoEPQgA7kX",
        "colab_type": "code",
        "outputId": "eb4f9697-375f-4f35-d6c2-33fde04f91c0",
        "colab": {
          "base_uri": "https://localhost:8080/",
          "height": 497
        }
      },
      "source": [
        "plot(his)"
      ],
      "execution_count": 0,
      "outputs": [
        {
          "output_type": "display_data",
          "data": {
            "image/png": "[encoded data removed]",
            "text/plain": [
              "plot without title"
            ]
          },
          "metadata": {
            "tags": []
          }
        }
      ]
    },
    {
      "cell_type": "code",
      "metadata": {
        "id": "FdCrnuYEB9op",
        "colab_type": "code",
        "outputId": "a5782740-ff78-4362-b674-3f7fbd912676",
        "colab": {
          "base_uri": "https://localhost:8080/",
          "height": 113
        }
      },
      "source": [
        "evaluate(model3, as.matrix(test_x), test_y, verbose=0)"
      ],
      "execution_count": 0,
      "outputs": [
        {
          "output_type": "display_data",
          "data": {
            "text/plain": [
              "$loss\n",
              "[1] 0.1799698\n",
              "\n",
              "$acc\n",
              "[1] 0.9331524\n"
            ],
            "text/latex": "\\begin{description}\n\\item[\\$loss] 0.179969832909802\n\\item[\\$acc] 0.933152377605438\n\\end{description}\n",
            "text/markdown": "$loss\n:   0.179969832909802\n$acc\n:   0.933152377605438\n\n\n",
            "text/html": [
              "<dl>\n",
              "\t<dt>$loss</dt>\n",
              "\t\t<dd>0.179969832909802</dd>\n",
              "\t<dt>$acc</dt>\n",
              "\t\t<dd>0.933152377605438</dd>\n",
              "</dl>\n"
            ]
          },
          "metadata": {
            "tags": []
          }
        }
      ]
    },
    {
      "cell_type": "markdown",
      "metadata": {
        "id": "r38YmyWHDRum",
        "colab_type": "text"
      },
      "source": [
        "The 2nd model (Keras) gives an accuracy of ~95% on the test set. So, it \n",
        "performs the best among all models. But loss incurred by the 1st neural network model (built using Keras) is the least. So , even that is not far behind."
      ]
    }
  ]
}